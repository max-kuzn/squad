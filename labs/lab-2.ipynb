{
 "cells": [
  {
   "cell_type": "markdown",
   "metadata": {},
   "source": [
    "# L2 - Multilayer perceptron\n",
    "\n",
    "### Papers\n",
    "1. [TensorFlow](https://static.googleusercontent.com/media/research.google.com/en//pubs/archive/45166.pdf)\n",
    "\n",
    "### TensorFlow\n",
    "1. [Installing TensorFlow](https://www.tensorflow.org/install/)\n",
    "2. [Basics of TensorFlow](https://www.tensorflow.org/get_started/get_started)\n",
    "3. [Mnist with TensorFlow](https://www.tensorflow.org/get_started/mnist/pros)\n",
    "4. [TensorFlow Mechanics](https://www.tensorflow.org/get_started/mnist/mechanics)\n",
    "5. [Visualization](https://www.tensorflow.org/get_started/graph_viz)\n",
    "\n",
    "\n",
    "### One more thing\n",
    "1. [Jupyter tutorial](https://habrahabr.ru/company/wunderfund/blog/316826/)\n",
    "2. [Plot.ly](https://plot.ly/python/)\n",
    "3. [Widgets](http://jupyter.org/widgets.html)"
   ]
  },
  {
   "cell_type": "markdown",
   "metadata": {},
   "source": [
    "### 1. Linear multi-classification problem\n",
    "\n",
    "We have already learned binary linear classifier\n",
    "$$y = \\text{sign}(w^Tx).$$\n",
    "There are [several approaches](https://en.wikipedia.org/wiki/Multiclass_classification) to solve the problem of multi-class classification. For example [reduction](https://en.wikipedia.org/wiki/Multiclass_classification#Transformation_to_Binary) of problem to binary classifier or [modification](https://en.wikipedia.org/wiki/Support_vector_machine#Multiclass_SVM) of the known model. However we are interested in approaches that is applied in neural networks.\n",
    "\n",
    "For each class $c \\in 1, \\dots, |C|$ we have an individual row $w_i$ of matrix $W$. Then the probability of $x$ belonging to a particular class is equal to\n",
    "$$p_i = \\frac{\\exp(w^T_ix)}{\\sum_j \\exp(w^T_jx)}.$$\n",
    "This is nothing, but [softmax](https://en.wikipedia.org/wiki/Softmax_function) function of $Wx$.\n",
    "$$(p_1, \\dots, p_{|C|}) = \\text{softmax}(Wx).$$\n",
    "\n",
    "If you look closely, $\\text{softmax}$ is a more general variant of sigmoid. To see this, it suffices to consider the case $|C|=2$. As usual the training can be reduced to minimization of the empirical risk, namely, optimization problem\n",
    "$$\\arg\\min_W Q(W) = \\arg\\min_W -\\frac{1}{\\mathcal{l}}\\sum_y\\sum_i [y = i] \\cdot \\ln(p_i(W)).$$\n",
    "Actually, the maximization of the log-likelihood is written above.\n",
    "\n",
    "#### Exercises\n",
    "1. Find $\\frac{dQ}{dW}$ in matrix form (hint: start with $\\frac{dQ}{dw_i}$ for begining).\n",
    "2. Please plot several mnist images (e.g using grid 5x5).\n",
    "3. Train linear multi-label classifier for [mnist](https://www.kaggle.com/c/digit-recognizer) dataset with TensorFlow (possible, [this tutorial](https://www.tensorflow.org/get_started/mnist/pros) can help you).\n",
    "4. Chek accuracy on train and validation sets.\n",
    "5. Use a local [TensorBoard instance](https://www.tensorflow.org/get_started/graph_viz) to visualize resulted graph (no need to include in lab)."
   ]
  },
  {
   "cell_type": "code",
   "execution_count": 3,
   "metadata": {},
   "outputs": [],
   "source": [
    "import numpy as np\n",
    "import pandas as pd\n",
    "import matplotlib.pyplot as plt\n",
    "import tensorflow as tf"
   ]
  },
  {
   "cell_type": "code",
   "execution_count": 4,
   "metadata": {},
   "outputs": [],
   "source": [
    "data = np.array(pd.read_csv('data/train.csv'), dtype=np.uint8)\n",
    "label = data[:, 0]\n",
    "data = data[:, 1:]"
   ]
  },
  {
   "cell_type": "code",
   "execution_count": 5,
   "metadata": {},
   "outputs": [
    {
     "data": {
      "image/png": "[encoded data removed]",
      "text/plain": [
       "<matplotlib.figure.Figure at 0x7fe1551c1ef0>"
      ]
     },
     "metadata": {},
     "output_type": "display_data"
    },
    {
     "data": {
      "image/png": "[encoded data removed]",
      "text/plain": [
       "<matplotlib.figure.Figure at 0x7fe1551d6550>"
      ]
     },
     "metadata": {},
     "output_type": "display_data"
    },
    {
     "data": {
      "image/png": "[encoded data removed]",
      "text/plain": [
       "<matplotlib.figure.Figure at 0x7fe15519a240>"
      ]
     },
     "metadata": {},
     "output_type": "display_data"
    },
    {
     "data": {
      "image/png": "[encoded data removed]",
      "text/plain": [
       "<matplotlib.figure.Figure at 0x7fe15517ef60>"
      ]
     },
     "metadata": {},
     "output_type": "display_data"
    },
    {
     "data": {
      "image/png": "[encoded data removed]",
      "text/plain": [
       "<matplotlib.figure.Figure at 0x7fe15509b588>"
      ]
     },
     "metadata": {},
     "output_type": "display_data"
    }
   ],
   "source": [
    "for i in range(5):\n",
    "    img = np.array(data[i]).reshape((28, 28))\n",
    "    plt.title('Label is ' + str(label[i]))\n",
    "    plt.imshow(img, cmap='gray')\n",
    "    plt.show()\n",
    "data = 0\n",
    "label = 0"
   ]
  },
  {
   "cell_type": "code",
   "execution_count": 6,
   "metadata": {},
   "outputs": [
    {
     "name": "stdout",
     "output_type": "stream",
     "text": [
      "Extracting MNIST_data/train-images-idx3-ubyte.gz\n",
      "Extracting MNIST_data/train-labels-idx1-ubyte.gz\n",
      "Extracting MNIST_data/t10k-images-idx3-ubyte.gz\n",
      "Extracting MNIST_data/t10k-labels-idx1-ubyte.gz\n"
     ]
    }
   ],
   "source": [
    "from tensorflow.examples.tutorials.mnist import input_data\n",
    "mnist = input_data.read_data_sets('MNIST_data', one_hot=True)"
   ]
  },
  {
   "cell_type": "code",
   "execution_count": 7,
   "metadata": {},
   "outputs": [],
   "source": [
    "x = tf.placeholder(tf.float32, shape=[None, 784])\n",
    "y_ = tf.placeholder(tf.float32, shape=[None, 10])\n",
    "\n",
    "W = tf.Variable(tf.truncated_normal([784, 10], stddev=0.1))\n",
    "b = tf.Variable(tf.constant(0.1, shape=[10]))\n",
    "\n",
    "y = tf.matmul(x,W) + b\n",
    "\n",
    "cross_entropy = tf.reduce_mean(tf.nn.softmax_cross_entropy_with_logits(labels=y_, logits=y))\n",
    "\n",
    "train_step = tf.train.GradientDescentOptimizer(0.5).minimize(cross_entropy)\n",
    "\n",
    "correct_prediction = tf.equal(tf.argmax(y, 1), tf.argmax(y_, 1))\n",
    "accuracy = tf.reduce_mean(tf.cast(correct_prediction, tf.float32))"
   ]
  },
  {
   "cell_type": "code",
   "execution_count": 8,
   "metadata": {},
   "outputs": [
    {
     "name": "stdout",
     "output_type": "stream",
     "text": [
      "Accuracy on test set = 0.9185\n",
      "Accuracy on validation set = 0.9185\n"
     ]
    }
   ],
   "source": [
    "with tf.Session() as sess:\n",
    "    sess.run(tf.global_variables_initializer())\n",
    "    for i in range(1000):\n",
    "        batch = mnist.train.next_batch(100)\n",
    "        sess.run(train_step, feed_dict={x: batch[0], y_: batch[1]})\n",
    "\n",
    "    print(\"Accuracy on test set =\",\n",
    "          sess.run(accuracy, feed_dict={x: mnist.test.images, y_: mnist.test.labels}))\n",
    "    print(\"Accuracy on validation set =\",\n",
    "          sess.run(accuracy, feed_dict={x: mnist.test.images, y_: mnist.test.labels}))"
   ]
  },
  {
   "cell_type": "markdown",
   "metadata": {},
   "source": [
    "Let's briefly touch on themes of regularization. As was discussed before, there are different approaches. We focus on the modification of loss function.\n",
    "\n",
    "$$\\arg\\min_W -\\frac{1}{\\mathcal{l}}\\sum_y\\sum_i [y = i] \\cdot \\ln(p_i(W)) + \\lambda_1 L_1(W) + \\lambda_2 L_2(W)$$\n",
    "\n",
    "1. $L_1(W) = sum_{i,j} |w_{i,j}|$ - sparsify weights (force to not use uncorrelated features)\n",
    "2. $L_2(W) = sum_{i,j} w_{i,j}^2$ - minimize weights (force to not overfit)\n",
    "\n",
    "#### Exercises\n",
    "1. Train model again using both type of regularization.\n",
    "2. Plot matrix of weights.\n",
    "3. Which pixels have zero weights? What does it mean?\n",
    "4. Have you improved accuracy on validation?"
   ]
  },
  {
   "cell_type": "code",
   "execution_count": 9,
   "metadata": {},
   "outputs": [],
   "source": [
    "lamb1 = tf.constant(5 / (784 * 10))\n",
    "lamb2 = tf.constant(5 / (748 * 10))\n",
    "\n",
    "l1 = tf.reduce_sum(tf.abs(W))\n",
    "l2 = tf.reduce_sum(tf.square(W))\n",
    "\n",
    "cross_entropy = tf.reduce_mean(tf.nn.softmax_cross_entropy_with_logits(labels=y_, logits=y)) \\\n",
    "    + lamb1 * l1 + lamb2 * l2\n",
    "\n",
    "train_step = tf.train.GradientDescentOptimizer(0.5).minimize(cross_entropy)\n",
    "\n",
    "correct_prediction = tf.equal(tf.argmax(y,1), tf.argmax(y_,1))\n",
    "accuracy = tf.reduce_mean(tf.cast(correct_prediction, tf.float32))"
   ]
  },
  {
   "cell_type": "code",
   "execution_count": 10,
   "metadata": {},
   "outputs": [
    {
     "name": "stdout",
     "output_type": "stream",
     "text": [
      "Accuracy on test set = 0.9075\n",
      "Accuracy on test validation = 0.9104\n",
      "4686.0 zeros out of 7840\n"
     ]
    }
   ],
   "source": [
    "images = 0\n",
    "with tf.Session() as sess:\n",
    "    sess.run(tf.global_variables_initializer())\n",
    "    for i in range(2000):\n",
    "        batch_x, batch_y = mnist.train.next_batch(500)\n",
    "        sess.run(train_step, feed_dict={x: batch_x, y_: batch_y})\n",
    "\n",
    "    print(\"Accuracy on test set =\",\n",
    "          sess.run(accuracy, feed_dict={x: mnist.test.images, y_: mnist.test.labels}))\n",
    "    print(\"Accuracy on test validation =\",\n",
    "          sess.run(accuracy, feed_dict={x: mnist.validation.images, y_: mnist.validation.labels}))\n",
    "    print(sess.run(tf.reduce_sum(tf.cast(tf.abs(W) < tf.ones(W.shape) * 1e-3, dtype=tf.float32))),\n",
    "          \"zeros out of\", 784 * 10)\n",
    "\n",
    "    images = np.asarray(W.eval()).reshape((28, 28, 10))"
   ]
  },
  {
   "cell_type": "code",
   "execution_count": 11,
   "metadata": {},
   "outputs": [
    {
     "data": {
      "image/png": "[encoded data removed]",
      "text/plain": [
       "<matplotlib.figure.Figure at 0x7fe13af19710>"
      ]
     },
     "metadata": {},
     "output_type": "display_data"
    },
    {
     "data": {
      "image/png": "[encoded data removed]",
      "text/plain": [
       "<matplotlib.figure.Figure at 0x7fe13aedaba8>"
      ]
     },
     "metadata": {},
     "output_type": "display_data"
    },
    {
     "data": {
      "image/png": "[encoded data removed]",
      "text/plain": [
       "<matplotlib.figure.Figure at 0x7fe155073c50>"
      ]
     },
     "metadata": {},
     "output_type": "display_data"
    },
    {
     "data": {
      "image/png": "[encoded data removed]",
      "text/plain": [
       "<matplotlib.figure.Figure at 0x7fe139986e48>"
      ]
     },
     "metadata": {},
     "output_type": "display_data"
    },
    {
     "data": {
      "image/png": "[encoded data removed]",
      "text/plain": [
       "<matplotlib.figure.Figure at 0x7fe13994d7b8>"
      ]
     },
     "metadata": {},
     "output_type": "display_data"
    },
    {
     "data": {
      "image/png": "[encoded data removed]",
      "text/plain": [
       "<matplotlib.figure.Figure at 0x7fe15507e198>"
      ]
     },
     "metadata": {},
     "output_type": "display_data"
    },
    {
     "data": {
      "image/png": "[encoded data removed]",
      "text/plain": [
       "<matplotlib.figure.Figure at 0x7fe13af36e80>"
      ]
     },
     "metadata": {},
     "output_type": "display_data"
    },
    {
     "data": {
      "image/png": "[encoded data removed]",
      "text/plain": [
       "<matplotlib.figure.Figure at 0x7fe1399e32e8>"
      ]
     },
     "metadata": {},
     "output_type": "display_data"
    },
    {
     "data": {
      "image/png": "[encoded data removed]",
      "text/plain": [
       "<matplotlib.figure.Figure at 0x7fe13aecf630>"
      ]
     },
     "metadata": {},
     "output_type": "display_data"
    },
    {
     "data": {
      "image/png": "[encoded data removed]",
      "text/plain": [
       "<matplotlib.figure.Figure at 0x7fe1399295f8>"
      ]
     },
     "metadata": {},
     "output_type": "display_data"
    },
    {
     "data": {
      "image/png": "[encoded data removed]",
      "text/plain": [
       "<matplotlib.figure.Figure at 0x7fe13af197f0>"
      ]
     },
     "metadata": {},
     "output_type": "display_data"
    }
   ],
   "source": [
    "for i in range(10):\n",
    "    img = np.array(images[:, :, i])\n",
    "    img = img / np.max(np.abs(img))\n",
    "    img = np.dstack(((img < 0) * -img, np.zeros(img.shape), (img >= 0) * img))\n",
    "    plt.imshow(img)\n",
    "    plt.show()\n",
    "\n",
    "img = np.sum(np.abs(images), axis=2)\n",
    "img /= np.max(img)\n",
    "plt.imshow(img, cmap='gray')\n",
    "plt.show()"
   ]
  },
  {
   "cell_type": "markdown",
   "metadata": {},
   "source": [
    "### 2. Universal approximation theorem\n",
    "\n",
    "What if we add more layers to our model? Namely, we train two matrix $W_2$ and $W_1$\n",
    "$$softmax(W_2\\cdot(W_1x)).$$\n",
    "\n",
    "At first glance adding more parameters helps to increase the generalizing ability of the model. Buy actually we have the same model $softmax(Wx)$, where $W = W_2\\cdot W_1$. But everyting changes with adding ome more layer. Let's add nonlinear function $\\sigma$ between $W_2$ and $W_1$\n",
    "\n",
    "$$softmax(W_2\\cdot \\sigma(W_1x)).$$\n",
    "\n",
    "Kurt Hornik showed in 1991 that it is not the specific choice of the nonlinear function, but rather the multilayer feedforward architecture itself which gives neural networks the potential of being universal approximators. The output units are always assumed to be linear. For notational convenience, only the single output case will be shown. The general case can easily be deduced from the single output case.\n",
    "\n",
    "Let $\\sigma(\\cdot)$ be a nonconstant, bounded, and monotonically-increasing continuous function.\n",
    "Let $\\mathcal{S}_m \\subset \\mathbb{R}^m$ denote any compact set. \n",
    "Then, given any $\\varepsilon > 0$ and any coninuous function $f$ on $\\mathcal{S}_m$, there exist an integer $N$ and real constants $v_i$, $b_i$ amd real vectors $w_i$ that\n",
    "\n",
    "$$\\left| \\sum _{i=1}^{N}v_{i}\\sigma \\left( w_i^{T} x+b_i \\right) - f(x) \\right| < \\varepsilon, ~~~ \\forall x \\in \\mathcal{S}_m.$$\n",
    "\n",
    "The theorem has non-constructive proof, it meams that no estimates for $N$ and no method to find approximation's parameters.\n",
    "\n",
    "#### Exercises\n",
    "1. Let $\\sigma$ – [heaviside step function](https://en.wikipedia.org/wiki/Heaviside_step_function) and $x \\in \\{0, 1\\}^2$. Prove that $y = \\sigma(wx + b)$ can approximate boolean function **OR** (hint: use constructive proof).\n",
    "2. What about **AND** function?\n",
    "3. Is it possible to implement **XOR**? Prove your words.\n",
    "4. Prove that 2-layer network can implement any boolean function.\n",
    "\n",
    "#### More useful facts:\n",
    "1. A 2-layer network in in $\\mathbb{R}^n$ allows to define convex polyhedron..\n",
    "2. A 3-layer network in в $\\mathbb{R}^n$ allows to define a not necessarily convex and not even necessarily connected area."
   ]
  },
  {
   "cell_type": "markdown",
   "metadata": {},
   "source": [
    "### 3. Backpropagation\n",
    "Backpropagation is a method used to calculate the error contribution of each layer after a batch of data. It is a special case of an older and more general technique called automatic differentiation. In the context of learning, backpropagation is commonly used by the gradient descent optimization algorithm to adjust the weight of layers by calculating the gradient of the loss function. This technique is also sometimes called backward propagation of errors, because the error is calculated at the output and distributed back through the network layers. The main motivation of method is simplify evaluation of gradient which is complex problem for multilayer nets.\n",
    "\n",
    "We need the following notation. Let $(y^1,\\dots,y^n) = f(x^1,\\dots,x^n)$ is some differentiable function and $\\frac{dy}{dx}$ is matrix\n",
    "$$\\frac{dy}{dx} = \\Big[ J_{ij} = \\frac{\\partial y^i}{\\partial x^j} \\Big]$$\n",
    "\n",
    "Without violating the generality, we can assume that each layer is a function $x_{i} = f(x_{i-1}, w_i)$. As last layer we add loss function, so we can assume our multi-layer net as function $Q(x_0) = Q(f_n(f_{n-1}(\\dots, w_{n-1}), w_n))$.\n",
    "\n",
    "#### Forward step\n",
    "Propagation forward through the network to generate the output values. Calculation of the loss function.\n",
    "\n",
    "#### Backward step\n",
    "Let's look at last layer. We can simply find $\\frac{dQ}{dx_n}$. Now we can evaluate \n",
    "\n",
    "$$\\frac{dQ}{dw_n} = \\frac{dQ}{dx_n}\\frac{dx_n}{dw_n} \\text{ and } \\frac{dQ}{dx_{n-1}} = \\frac{dQ}{dx_n}\\frac{dx_n}{dx_{n-1}}$$\n",
    "\n",
    "Now we need calculate $\\frac{dQ}{dw_{n-2}}$ и $\\frac{dQ}{dx_{n-2}}$. But we have the same situation. We know $\\frac{dQ}{dx_k}$, so can evaluate $\\frac{dQ}{dw_k}$ and $\\frac{dQ}{dx_{k-1}}$. Repeating this operation we find all the gradients. Now it's only remains to make a gradient step to update weights.\n",
    "\n",
    "#### Exercises\n",
    "1. Read more about [vanishing gradient](https://en.wikipedia.org/wiki/Vanishing_gradient_problem).\n",
    "2. Train 2 layer net. Use sigmoid as nonlinearity.\n",
    "3. Check accuracy on validation set.\n",
    "4. Use [ReLu](https://en.wikipedia.org/wiki/Rectifier_(neural_networks) or LeakyReLu as nonlinearity. Compare accuracy and convergence with previous model.\n",
    "5. Play with different architectures (add more layers, regularization and etc).\n",
    "6. Show your best model.\n",
    "7. How does quality change with adding layers. Prove your words, train model for 2, 3, 5, 7 and 10 layers.\n",
    "8. Using backpropagation find optimal  digit 8 for your net.*"
   ]
  },
  {
   "cell_type": "code",
   "execution_count": 51,
   "metadata": {},
   "outputs": [],
   "source": [
    "def compute_accuracy(sizes=[784, 10], nonlinearity=\"sigmoid\", alpha=0,\n",
    "                     grad_speed=0.5, steps=5000, batch_size=100):\n",
    "    if sizes[0] != 784:\n",
    "        sizes.insert(0, 784)\n",
    "    if sizes[-1] != 10:\n",
    "        sizes.append(10)\n",
    "    n = len(sizes) - 1\n",
    "    x = tf.placeholder(tf.float32, shape=[None, 784])\n",
    "    y_labels = tf.placeholder(tf.float32, shape=[None, 10])\n",
    "    W = list()\n",
    "    b = list()\n",
    "    for i in range(n):\n",
    "        W.append(tf.Variable(tf.truncated_normal([sizes[i], sizes[i + 1]], stddev=0.1)))\n",
    "        b.append(tf.Variable(tf.constant(0.1, shape=[sizes[i + 1]])))\n",
    "\n",
    "    y = 0\n",
    "    x_interim = list()\n",
    "    x_interim.append(x)\n",
    "    if nonlinearity == \"sigmoid\":\n",
    "        for i in range(n - 1):\n",
    "            x_interim.append(tf.sigmoid(tf.matmul(x_interim[i], W[i]) + b[i]))\n",
    "    elif nonlinearity == \"relu\":\n",
    "        for i in range(n - 1):\n",
    "            x_interim.append(tf.nn.relu(tf.matmul(x_interim[i], W[i]) + b[i]))\n",
    "    elif nonlinearity == \"leakyrelu\":\n",
    "        def lrelu(x, alpha):\n",
    "            return tf.nn.relu(x) - alpha * tf.nn.relu(-x)\n",
    "        for i in range(n - 1):\n",
    "            x_interim.append(lrelu(tf.matmul(x_interim[i], W[i]) + b[i], alpha))\n",
    "    else:\n",
    "        raise RuntimeError(\"I does't kwon this function\")\n",
    "    \n",
    "    y = tf.matmul(x_interim[n - 1], W[n - 1]) + b[n - 1]\n",
    "\n",
    "    \n",
    "    cross_entropy = tf.reduce_mean(tf.nn.softmax_cross_entropy_with_logits(labels=y_labels, logits=y))\n",
    "\n",
    "    train_step = tf.train.GradientDescentOptimizer(grad_speed).minimize(cross_entropy)\n",
    "\n",
    "    correct_prediction = tf.equal(tf.argmax(y, 1), tf.argmax(y_labels, 1))\n",
    "    accuracy = tf.reduce_mean(tf.cast(correct_prediction, tf.float32))\n",
    "    with tf.Session() as sess:\n",
    "        sess.run(tf.global_variables_initializer())\n",
    "        for i in range(steps):\n",
    "            batch_x, batch_y = mnist.train.next_batch(batch_size)\n",
    "            sess.run(train_step, feed_dict={x: batch_x, y_labels: batch_y})\n",
    "\n",
    "        return (sess.run(accuracy, feed_dict={x: mnist.test.images, y_labels: mnist.test.labels}),\n",
    "                sess.run(accuracy, feed_dict={x: mnist.validation.images, y_labels: mnist.validation.labels}))"
   ]
  },
  {
   "cell_type": "code",
   "execution_count": 47,
   "metadata": {},
   "outputs": [
    {
     "name": "stdout",
     "output_type": "stream",
     "text": [
      "Accuracity = 0.9792 0.98\n",
      "Accuracity = 0.9776 0.9828\n",
      "Accuracity = 0.9735 0.9772\n",
      "Accuracity = 0.1028 0.11\n",
      "Accuracity = 0.1135 0.1126\n"
     ]
    }
   ],
   "source": [
    "import time\n",
    "t = np.array([0.0])\n",
    "test_acc = np.array([0.0])\n",
    "\n",
    "acc1, acc2 = compute_accuracy(sizes=[100], steps=40000, batch_size=50)\n",
    "print(\"Accuracity =\", acc1, acc2)\n",
    "\n",
    "acc1, acc2 = compute_accuracy(sizes=[100, 100], steps=40000, batch_size=50)\n",
    "print(\"Accuracity =\", acc1, acc2)\n",
    "\n",
    "acc1, acc2 = compute_accuracy(sizes=[100, 100, 100, 100], steps=40000, batch_size=50)\n",
    "print(\"Accuracity =\", acc1, acc2)\n",
    "\n",
    "acc1, acc2 = compute_accuracy(sizes=[100, 100, 100, 100, 100, 100], steps=40000, batch_size=50)\n",
    "print(\"Accuracity =\", acc1, acc2)\n",
    "\n",
    "acc1, acc2 = compute_accuracy(sizes=[100, 100, 100, 100, 100, 100, 100, 100], steps=40000, batch_size=50)\n",
    "print(\"Accuracity =\", acc1, acc2)"
   ]
  },
  {
   "cell_type": "code",
   "execution_count": 52,
   "metadata": {},
   "outputs": [
    {
     "name": "stdout",
     "output_type": "stream",
     "text": [
      "Accuracity = 0.9798 0.9814\n",
      "Accuracity = 0.9788 0.9812\n",
      "Accuracity = 0.9784 0.9796\n",
      "Accuracity = 0.9763 0.9788\n",
      "Accuracity = 0.1032 0.0976\n"
     ]
    }
   ],
   "source": [
    "acc1, acc2 = compute_accuracy(sizes=[100],\n",
    "                              steps=40000, batch_size=50, nonlinearity=\"relu\")\n",
    "print(\"Accuracity =\", acc1, acc2)\n",
    "\n",
    "acc1, acc2 = compute_accuracy(sizes=[100, 100],\n",
    "                              steps=40000, batch_size=50, nonlinearity=\"relu\")\n",
    "print(\"Accuracity =\", acc1, acc2)\n",
    "\n",
    "acc1, acc2 = compute_accuracy(sizes=[100, 100, 100, 100],\n",
    "                              steps=40000, batch_size=50, nonlinearity=\"relu\")\n",
    "print(\"Accuracity =\", acc1, acc2)\n",
    "\n",
    "acc1, acc2 = compute_accuracy(sizes=[100, 100, 100, 100, 100, 100],\n",
    "                              steps=40000, batch_size=50, nonlinearity=\"relu\")\n",
    "print(\"Accuracity =\", acc1, acc2)\n",
    "\n",
    "acc1, acc2 = compute_accuracy(sizes=[100, 100, 100, 100, 100, 100, 100, 100],\n",
    "                              steps=40000, batch_size=50, nonlinearity=\"relu\")\n",
    "print(\"Accuracity =\", acc1, acc2)"
   ]
  },
  {
   "cell_type": "code",
   "execution_count": 53,
   "metadata": {},
   "outputs": [
    {
     "name": "stdout",
     "output_type": "stream",
     "text": [
      "Accuracity = 0.9816 0.982\n",
      "Accuracity = 0.9766 0.9808\n",
      "Accuracity = 0.9742 0.9754\n",
      "Accuracity = 0.1135 0.1126\n",
      "Accuracity = 0.098 0.0958\n"
     ]
    }
   ],
   "source": [
    "acc1, acc2 = compute_accuracy(sizes=[100],\n",
    "                              steps=40000, batch_size=50, nonlinearity=\"leakyrelu\")\n",
    "print(\"Accuracity =\", acc1, acc2)\n",
    "\n",
    "acc1, acc2 = compute_accuracy(sizes=[100, 100],\n",
    "                              steps=40000, batch_size=50, nonlinearity=\"leakyrelu\")\n",
    "print(\"Accuracity =\", acc1, acc2)\n",
    "\n",
    "acc1, acc2 = compute_accuracy(sizes=[100, 100, 100, 100],\n",
    "                              steps=40000, batch_size=50, nonlinearity=\"leakyrelu\")\n",
    "print(\"Accuracity =\", acc1, acc2)\n",
    "\n",
    "acc1, acc2 = compute_accuracy(sizes=[100, 100, 100, 100, 100, 100],\n",
    "                              steps=40000, batch_size=50, nonlinearity=\"leakyrelu\")\n",
    "print(\"Accuracity =\", acc1, acc2)\n",
    "\n",
    "acc1, acc2 = compute_accuracy(sizes=[100, 100, 100, 100, 100, 100, 100, 100],\n",
    "                              steps=40000, batch_size=50, nonlinearity=\"leakyrelu\")\n",
    "print(\"Accuracity =\", acc1, acc2)"
   ]
  },
  {
   "cell_type": "code",
   "execution_count": 54,
   "metadata": {},
   "outputs": [
    {
     "name": "stdout",
     "output_type": "stream",
     "text": [
      "Accuracity = 0.9793 0.9806\n"
     ]
    }
   ],
   "source": [
    "acc1, acc2 = compute_accuracy(sizes=[100, 100], steps=200000, batch_size=50)\n",
    "print(\"Accuracity =\", acc1, acc2)"
   ]
  },
  {
   "cell_type": "code",
   "execution_count": 14,
   "metadata": {},
   "outputs": [
    {
     "data": {
      "text/plain": [
       "'\\nK = np.arange(10, 201, 10)\\nplt.plot(K, t, \\'b\\', label=\\'time1\\')\\nplt.plot(K, t2, \\'g\\', label=\\'time2\\')\\nplt.title(\"Time(k)\")\\nplt.xlabel(\\'k\\')\\nplt.ylabel(\\'Time, seconds\\')\\nplt.legend()\\nplt.show()\\n\\nplt.plot(K, test_acc, \\'b\\', label=\\'acc1\\')\\nplt.plot(K, test_acc2, \\'g\\', label=\\'acc2\\')\\nplt.title(\"Accuracy(k)\")\\nplt.xlabel(\\'k\\')\\nplt.ylabel(\\'Accuracy\\')\\nplt.legend()\\nplt.show()\\n'"
      ]
     },
     "execution_count": 14,
     "metadata": {},
     "output_type": "execute_result"
    }
   ],
   "source": [
    "\"\"\"\n",
    "K = np.arange(10, 201, 10)\n",
    "plt.plot(K, t, 'b', label='time1')\n",
    "plt.plot(K, t2, 'g', label='time2')\n",
    "plt.title(\"Time(k)\")\n",
    "plt.xlabel('k')\n",
    "plt.ylabel('Time, seconds')\n",
    "plt.legend()\n",
    "plt.show()\n",
    "\n",
    "plt.plot(K, test_acc, 'b', label='acc1')\n",
    "plt.plot(K, test_acc2, 'g', label='acc2')\n",
    "plt.title(\"Accuracy(k)\")\n",
    "plt.xlabel('k')\n",
    "plt.ylabel('Accuracy')\n",
    "plt.legend()\n",
    "plt.show()\n",
    "\"\"\""
   ]
  },
  {
   "cell_type": "markdown",
   "metadata": {},
   "source": [
    "### 4. Autoencoders\n",
    "An autoencoder is an network used for unsupervised learning of efficient codings. The aim of an autoencoder is to learn a representation (encoding) for a set of data, typically for the purpose of dimensionality reduction. Also, this technique can be used to train deep nets.\n",
    "\n",
    "Architecturally, the simplest form of an autoencoder is a feedforward net very similar to the multilayer perceptron (MLP), but with the output layer having the same number of nodes as the input layer, and with the purpose of reconstructing its own inputs. Therefore, autoencoders are unsupervised learning models. An autoencoder always consists of two parts, the encoder and the decoder. Encoder returns latent representation of the object (compressed representation, usuallu smaller dimension), but decoder restores object from this latent representation. Autoencoders are also trained to minimise reconstruction errors (e.g. MSE).\n",
    "\n",
    "Various techniques exist to prevent autoencoders from learning the identity and to improve their ability to capture important information:\n",
    "1. Denoising autoencoder - take a partially corrupted input.\n",
    "2. Sparse autoencoder - impose sparsity on the hidden units during training (whilst having a larger number of hidden units than inputs).\n",
    "3. Variational autoencoder models inherit autoencoder architecture, but make strong assumptions concerning the distribution of latent variables.\n",
    "4. Contractive autoencoder - add an explicit regularizer in objective function that forces the model to learn a function that is robust to slight variations of input values.\n",
    "\n",
    "#### Exercises\n",
    "1. Train 2 layers autoencoder that compressed mnist images to $\\mathbb{R}^3$ space.\n",
    "2. For each digit plot several samples in 3D axis (use \"%matplotlib notebook\" mode or plotly). How do digits group?\n",
    "3. Train autoencoder with more layers. What are results?\n",
    "4. Use autoencoder to pretrain 2 layers (unsupervised) and then train the following layers with supervised method."
   ]
  }
 ],
 "metadata": {
  "kernelspec": {
   "display_name": "Python 3",
   "language": "python",
   "name": "python3"
  },
  "language_info": {
   "codemirror_mode": {
    "name": "ipython",
    "version": 3
   },
   "file_extension": ".py",
   "mimetype": "text/x-python",
   "name": "python",
   "nbconvert_exporter": "python",
   "pygments_lexer": "ipython3",
   "version": "3.6.3"
  }
 },
 "nbformat": 4,
 "nbformat_minor": 1
}
