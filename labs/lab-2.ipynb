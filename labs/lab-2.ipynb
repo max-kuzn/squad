{
 "cells": [
  {
   "cell_type": "markdown",
   "metadata": {},
   "source": [
    "# L2 - Multilayer perceptron\n",
    "\n",
    "### Papers\n",
    "1. [TensorFlow](https://static.googleusercontent.com/media/research.google.com/en//pubs/archive/45166.pdf)\n",
    "\n",
    "### TensorFlow\n",
    "1. [Installing TensorFlow](https://www.tensorflow.org/install/)\n",
    "2. [Basics of TensorFlow](https://www.tensorflow.org/get_started/get_started)\n",
    "3. [Mnist with TensorFlow](https://www.tensorflow.org/get_started/mnist/pros)\n",
    "4. [TensorFlow Mechanics](https://www.tensorflow.org/get_started/mnist/mechanics)\n",
    "5. [Visualization](https://www.tensorflow.org/get_started/graph_viz)\n",
    "\n",
    "\n",
    "### One more thing\n",
    "1. [Jupyter tutorial](https://habrahabr.ru/company/wunderfund/blog/316826/)\n",
    "2. [Plot.ly](https://plot.ly/python/)\n",
    "3. [Widgets](http://jupyter.org/widgets.html)"
   ]
  },
  {
   "cell_type": "markdown",
   "metadata": {},
   "source": [
    "### 1. Linear multi-classification problem\n",
    "\n",
    "We have already learned binary linear classifier\n",
    "$$y = \\text{sign}(w^Tx).$$\n",
    "There are [several approaches](https://en.wikipedia.org/wiki/Multiclass_classification) to solve the problem of multi-class classification. For example [reduction](https://en.wikipedia.org/wiki/Multiclass_classification#Transformation_to_Binary) of problem to binary classifier or [modification](https://en.wikipedia.org/wiki/Support_vector_machine#Multiclass_SVM) of the known model. However we are interested in approaches that is applied in neural networks.\n",
    "\n",
    "For each class $c \\in 1, \\dots, |C|$ we have an individual row $w_i$ of matrix $W$. Then the probability of $x$ belonging to a particular class is equal to\n",
    "$$p_i = \\frac{\\exp(w^T_ix)}{\\sum_j \\exp(w^T_jx)}.$$\n",
    "This is nothing, but [softmax](https://en.wikipedia.org/wiki/Softmax_function) function of $Wx$.\n",
    "$$(p_1, \\dots, p_{|C|}) = \\text{softmax}(Wx).$$\n",
    "\n",
    "If you look closely, $\\text{softmax}$ is a more general variant of sigmoid. To see this, it suffices to consider the case $|C|=2$. As usual the training can be reduced to minimization of the empirical risk, namely, optimization problem\n",
    "$$\\arg\\min_W Q(W) = \\arg\\min_W -\\frac{1}{\\mathcal{l}}\\sum_y\\sum_i [y = i] \\cdot \\ln(p_i(W)).$$\n",
    "Actually, the maximization of the log-likelihood is written above.\n",
    "\n",
    "#### Exercises\n",
    "1. Find $\\frac{dQ}{dW}$ in matrix form (hint: start with $\\frac{dQ}{dw_i}$ for begining).\n",
    "2. Please plot several mnist images (e.g using grid 5x5).\n",
    "3. Train linear multi-label classifier for [mnist](https://www.kaggle.com/c/digit-recognizer) dataset with TensorFlow (possible, [this tutorial](https://www.tensorflow.org/get_started/mnist/pros) can help you).\n",
    "4. Chek accuracy on train and validation sets.\n",
    "5. Use a local [TensorBoard instance](https://www.tensorflow.org/get_started/graph_viz) to visualize resulted graph (no need to include in lab)."
   ]
  },
  {
   "cell_type": "code",
   "execution_count": 22,
   "metadata": {},
   "outputs": [],
   "source": [
    "#Подключим все необходимые библиотеки\n",
    "import numpy as np\n",
    "import pandas as pd\n",
    "import matplotlib.pyplot as plt\n",
    "import tensorflow as tf\n",
    "import time"
   ]
  },
  {
   "cell_type": "code",
   "execution_count": 23,
   "metadata": {},
   "outputs": [],
   "source": [
    "#Загрузим данные\n",
    "data = np.array(pd.read_csv('data/train.csv'), dtype=np.float32)\n",
    "labels = np.array(data[:, 0], dtype=np.int32)\n",
    "data = data[:, 1:]\n",
    "data /= 256.0"
   ]
  },
  {
   "cell_type": "code",
   "execution_count": 24,
   "metadata": {},
   "outputs": [
    {
     "data": {
      "image/png": "[encoded data removed]",
      "text/plain": [
       "<matplotlib.figure.Figure at 0x7f008eb41160>"
      ]
     },
     "metadata": {},
     "output_type": "display_data"
    },
    {
     "data": {
      "image/png": "[encoded data removed]",
      "text/plain": [
       "<matplotlib.figure.Figure at 0x7f008d89b7f0>"
      ]
     },
     "metadata": {},
     "output_type": "display_data"
    },
    {
     "data": {
      "image/png": "[encoded data removed]",
      "text/plain": [
       "<matplotlib.figure.Figure at 0x7f008d8d1da0>"
      ]
     },
     "metadata": {},
     "output_type": "display_data"
    },
    {
     "data": {
      "image/png": "[encoded data removed]",
      "text/plain": [
       "<matplotlib.figure.Figure at 0x7f008d845a20>"
      ]
     },
     "metadata": {},
     "output_type": "display_data"
    },
    {
     "data": {
      "image/png": "[encoded data removed]",
      "text/plain": [
       "<matplotlib.figure.Figure at 0x7f008d7a2400>"
      ]
     },
     "metadata": {},
     "output_type": "display_data"
    }
   ],
   "source": [
    "#Примеры картинок\n",
    "for i in range(5):\n",
    "    img = np.array(data[i]).reshape((28, 28))\n",
    "    plt.title('Label is ' + str(labels[i]))\n",
    "    plt.imshow(img, cmap='gray')\n",
    "    plt.show()"
   ]
  },
  {
   "cell_type": "code",
   "execution_count": 25,
   "metadata": {},
   "outputs": [],
   "source": [
    "#Напишем несколько функций\n",
    "#Просто мешает данные\n",
    "def shuffle(X, Y):\n",
    "    shuffle = np.random.permutation(X.shape[0])\n",
    "    return X[shuffle], Y[shuffle]\n",
    "\n",
    "#Разделяет наши данные на train и на test\n",
    "# и при необходимости использует кросс-валидацию\n",
    "def cross_validation(X, Y, parts, cross_valid=True):\n",
    "    X, Y = shuffle(X, Y)\n",
    "    for i in range(parts):\n",
    "        l = i * X.shape[0] // parts\n",
    "        r = (i + 1) * X.shape[0] // parts\n",
    "        test = np.zeros(X.shape[0], dtype=np.bool)\n",
    "        test[l:r] = True\n",
    "        if cross_valid or i == 0 :\n",
    "            yield X[~test], Y[~test], X[test], Y[test]\n",
    "#Берет из данных батчи\n",
    "def next_batch(X, Y, batch_size):\n",
    "    for i in range(0, X.shape[0], batch_size):\n",
    "        j = min(i + batch_size, X.shape[0])\n",
    "        yield X[i:j], Y[i:j]\n"
   ]
  },
  {
   "cell_type": "code",
   "execution_count": 17,
   "metadata": {},
   "outputs": [],
   "source": [
    "#Определяем входные данные: картинки и лейблы\n",
    "x = tf.placeholder(tf.float32, shape=[None, 784], name=\"data\")\n",
    "y_labels = tf.placeholder(tf.int32, shape=[None], name=\"labels\")\n",
    "\n",
    "#Построим один слой\n",
    "y = tf.layers.dense(inputs=x,\n",
    "                    units=10,\n",
    "                    use_bias=True,\n",
    "                   )\n",
    "\n",
    "#Функция потерь (softmax)\n",
    "cross_entropy = tf.reduce_mean(\n",
    "    tf.nn.sparse_softmax_cross_entropy_with_logits(labels=y_labels, logits=y))\n",
    "\n",
    "#Будем использовать градиентный спуск\n",
    "train_step = tf.train.GradientDescentOptimizer(0.5).minimize(cross_entropy)\n",
    "\n",
    "#Считаем количество правильных предсказаний\n",
    "correct_prediction = tf.equal(tf.argmax(y, 1, output_type=tf.int32), y_labels)\n",
    "accuracy = tf.reduce_mean(tf.cast(correct_prediction, tf.float32))"
   ]
  },
  {
   "cell_type": "code",
   "execution_count": 18,
   "metadata": {},
   "outputs": [
    {
     "name": "stdout",
     "output_type": "stream",
     "text": [
      "6.59960412979126\n",
      "Accuracy on train set = 0.910380935669\n",
      "Accuracy on test set = 0.905428564548\n",
      "___________________________________\n"
     ]
    }
   ],
   "source": [
    "batch_size = 64\n",
    "acc_test = 0.0\n",
    "acc_train = 0.0\n",
    "parts = 5\n",
    "epoches = 1\n",
    "start = time.time()\n",
    "\n",
    "#В сессии проходим кросс-валидацией по всему дата-сету\n",
    "with tf.Session() as sess:\n",
    "    for X_train, Y_train, X_test, Y_test in cross_validation(data, labels, parts):\n",
    "        #Инициализируем переменные\n",
    "        sess.run(tf.global_variables_initializer())\n",
    "        #Проходим нужное кол-во эпох\n",
    "        for i in range(epoches):\n",
    "            #И для каждого батча делаем шаг в градиентном спуске\n",
    "            for batch_x, batch_y in next_batch(X_train, Y_train, batch_size):\n",
    "                sess.run(train_step, feed_dict={x: batch_x, y_labels: batch_y})\n",
    "\n",
    "        #Считаем каждый раз долю верно предсказанных\n",
    "        acc_train += sess.run(accuracy, feed_dict={x: X_train, y_labels: Y_train})\n",
    "        acc_test += sess.run(accuracy, feed_dict={x: X_test, y_labels: Y_test})\n",
    "    \n",
    "    #Считаем среднее\n",
    "    acc_test /= parts\n",
    "    acc_train /= parts\n",
    "\n",
    "print(time.time() - start)\n",
    "print(\"Accuracy on train set =\", acc_train)\n",
    "print(\"Accuracy on test set =\", acc_test)\n",
    "print(\"___________________________________\")\n"
   ]
  },
  {
   "cell_type": "markdown",
   "metadata": {},
   "source": [
    "Let's briefly touch on themes of regularization. As was discussed before, there are different approaches. We focus on the modification of loss function.\n",
    "\n",
    "$$\\arg\\min_W -\\frac{1}{\\mathcal{l}}\\sum_y\\sum_i [y = i] \\cdot \\ln(p_i(W)) + \\lambda_1 L_1(W) + \\lambda_2 L_2(W)$$\n",
    "\n",
    "1. $L_1(W) = sum_{i,j} |w_{i,j}|$ - sparsify weights (force to not use uncorrelated features)\n",
    "2. $L_2(W) = sum_{i,j} w_{i,j}^2$ - minimize weights (force to not overfit)\n",
    "\n",
    "#### Exercises\n",
    "1. Train model again using both type of regularization.\n",
    "2. Plot matrix of weights.\n",
    "3. Which pixels have zero weights? What does it mean?\n",
    "4. Have you improved accuracy on validation?"
   ]
  },
  {
   "cell_type": "code",
   "execution_count": 19,
   "metadata": {},
   "outputs": [],
   "source": [
    "# теперь добавим регулизацию в наши слои\n",
    "y = tf.layers.dense(\n",
    "        inputs=x,\n",
    "        units=10,\n",
    "        use_bias=True,\n",
    "        kernel_regularizer=tf.contrib.layers.l1_l2_regularizer(\n",
    "            scale_l1=1e-4,\n",
    "            scale_l2=1e-4\n",
    "        )\n",
    ")\n",
    "\n",
    "#И добавим регулизацию в функцию потерь\n",
    "cross_entropy = tf.reduce_mean(\n",
    "        tf.nn.sparse_softmax_cross_entropy_with_logits(labels=y_labels, logits=y)) \\\n",
    "    + tf.losses.get_regularization_loss()\n",
    "\n",
    "#все остальное аналогично\n",
    "\n",
    "train_step = tf.train.GradientDescentOptimizer(0.5).minimize(cross_entropy)\n",
    "\n",
    "correct_prediction = tf.equal(tf.argmax(y, 1, output_type=tf.int32), y_labels)\n",
    "accuracy = tf.reduce_mean(tf.cast(correct_prediction, tf.float32))"
   ]
  },
  {
   "cell_type": "code",
   "execution_count": 20,
   "metadata": {},
   "outputs": [
    {
     "name": "stdout",
     "output_type": "stream",
     "text": [
      "Accuracy on train set = 0.183922624588\n",
      "Accuracy on test set = 0.182261908054\n"
     ]
    }
   ],
   "source": [
    "batch_size = 64\n",
    "epoches = 5\n",
    "parts = 5\n",
    "acc_train = 0.0\n",
    "acc_test = 0.0\n",
    "cross_valid = False\n",
    "with tf.Session() as sess:\n",
    "    for X_train, Y_train, X_test, Y_test in cross_validation(data,\n",
    "                                                             labels,\n",
    "                                                             parts,\n",
    "                                                             cross_valid=cross_valid\n",
    "                                                            ):\n",
    "        sess.run(tf.global_variables_initializer())\n",
    "        for i in range(epoches):\n",
    "            for batch_x, batch_y in next_batch(X_train, Y_train, batch_size):\n",
    "                sess.run(train_step, feed_dict={x: batch_x, y_labels: batch_y})\n",
    "\n",
    "        acc_train += sess.run(accuracy, feed_dict={x: X_train, y_labels: Y_train})\n",
    "        acc_test += sess.run(accuracy, feed_dict={x: X_test, y_labels: Y_test})\n",
    "    \n",
    "    if cross_valid:\n",
    "        acc_train /= parts\n",
    "        acc_test /= parts\n",
    "\n",
    "    print(\"Accuracy on train set =\", acc_train)\n",
    "    print(\"Accuracy on test set =\", acc_test)"
   ]
  },
  {
   "cell_type": "markdown",
   "metadata": {},
   "source": [
    "### 2. Universal approximation theorem\n",
    "\n",
    "What if we add more layers to our model? Namely, we train two matrix $W_2$ and $W_1$\n",
    "$$softmax(W_2\\cdot(W_1x)).$$\n",
    "\n",
    "At first glance adding more parameters helps to increase the generalizing ability of the model. Buy actually we have the same model $softmax(Wx)$, where $W = W_2\\cdot W_1$. But everyting changes with adding ome more layer. Let's add nonlinear function $\\sigma$ between $W_2$ and $W_1$\n",
    "\n",
    "$$softmax(W_2\\cdot \\sigma(W_1x)).$$\n",
    "\n",
    "Kurt Hornik showed in 1991 that it is not the specific choice of the nonlinear function, but rather the multilayer feedforward architecture itself which gives neural networks the potential of being universal approximators. The output units are always assumed to be linear. For notational convenience, only the single output case will be shown. The general case can easily be deduced from the single output case.\n",
    "\n",
    "Let $\\sigma(\\cdot)$ be a nonconstant, bounded, and monotonically-increasing continuous function.\n",
    "Let $\\mathcal{S}_m \\subset \\mathbb{R}^m$ denote any compact set. \n",
    "Then, given any $\\varepsilon > 0$ and any coninuous function $f$ on $\\mathcal{S}_m$, there exist an integer $N$ and real constants $v_i$, $b_i$ amd real vectors $w_i$ that\n",
    "\n",
    "$$\\left| \\sum _{i=1}^{N}v_{i}\\sigma \\left( w_i^{T} x+b_i \\right) - f(x) \\right| < \\varepsilon, ~~~ \\forall x \\in \\mathcal{S}_m.$$\n",
    "\n",
    "The theorem has non-constructive proof, it meams that no estimates for $N$ and no method to find approximation's parameters.\n",
    "\n",
    "#### Exercises\n",
    "1. Let $\\sigma$ – [heaviside step function](https://en.wikipedia.org/wiki/Heaviside_step_function) and $x \\in \\{0, 1\\}^2$. Prove that $y = \\sigma(wx + b)$ can approximate boolean function **OR** (hint: use constructive proof).\n",
    "2. What about **AND** function?\n",
    "3. Is it possible to implement **XOR**? Prove your words.\n",
    "4. Prove that 2-layer network can implement any boolean function.\n",
    "\n",
    "#### More useful facts:\n",
    "1. A 2-layer network in in $\\mathbb{R}^n$ allows to define convex polyhedron..\n",
    "2. A 3-layer network in в $\\mathbb{R}^n$ allows to define a not necessarily convex and not even necessarily connected area."
   ]
  },
  {
   "cell_type": "markdown",
   "metadata": {},
   "source": [
    "### 3. Backpropagation\n",
    "Backpropagation is a method used to calculate the error contribution of each layer after a batch of data. It is a special case of an older and more general technique called automatic differentiation. In the context of learning, backpropagation is commonly used by the gradient descent optimization algorithm to adjust the weight of layers by calculating the gradient of the loss function. This technique is also sometimes called backward propagation of errors, because the error is calculated at the output and distributed back through the network layers. The main motivation of method is simplify evaluation of gradient which is complex problem for multilayer nets.\n",
    "\n",
    "We need the following notation. Let $(y^1,\\dots,y^n) = f(x^1,\\dots,x^n)$ is some differentiable function and $\\frac{dy}{dx}$ is matrix\n",
    "$$\\frac{dy}{dx} = \\Big[ J_{ij} = \\frac{\\partial y^i}{\\partial x^j} \\Big]$$\n",
    "\n",
    "Without violating the generality, we can assume that each layer is a function $x_{i} = f(x_{i-1}, w_i)$. As last layer we add loss function, so we can assume our multi-layer net as function $Q(x_0) = Q(f_n(f_{n-1}(\\dots, w_{n-1}), w_n))$.\n",
    "\n",
    "#### Forward step\n",
    "Propagation forward through the network to generate the output values. Calculation of the loss function.\n",
    "\n",
    "#### Backward step\n",
    "Let's look at last layer. We can simply find $\\frac{dQ}{dx_n}$. Now we can evaluate \n",
    "\n",
    "$$\\frac{dQ}{dw_n} = \\frac{dQ}{dx_n}\\frac{dx_n}{dw_n} \\text{ and } \\frac{dQ}{dx_{n-1}} = \\frac{dQ}{dx_n}\\frac{dx_n}{dx_{n-1}}$$\n",
    "\n",
    "Now we need calculate $\\frac{dQ}{dw_{n-2}}$ и $\\frac{dQ}{dx_{n-2}}$. But we have the same situation. We know $\\frac{dQ}{dx_k}$, so can evaluate $\\frac{dQ}{dw_k}$ and $\\frac{dQ}{dx_{k-1}}$. Repeating this operation we find all the gradients. Now it's only remains to make a gradient step to update weights.\n",
    "\n",
    "#### Exercises\n",
    "1. Read more about [vanishing gradient](https://en.wikipedia.org/wiki/Vanishing_gradient_problem).\n",
    "2. Train 2 layer net. Use sigmoid as nonlinearity.\n",
    "3. Check accuracy on validation set.\n",
    "4. Use [ReLu](https://en.wikipedia.org/wiki/Rectifier_(neural_networks) or LeakyReLu as nonlinearity. Compare accuracy and convergence with previous model.\n",
    "5. Play with different architectures (add more layers, regularization and etc).\n",
    "6. Show your best model.\n",
    "7. How does quality change with adding layers. Prove your words, train model for 2, 3, 5, 7 and 10 layers.\n",
    "8. Using backpropagation find optimal  digit 8 for your net.*"
   ]
  },
  {
   "cell_type": "code",
   "execution_count": 26,
   "metadata": {},
   "outputs": [],
   "source": [
    "#Напишем сложную функцию, которая считает долю верно предсказанных\n",
    "def compute_accuracy(\n",
    "        sizes=[784, 10],          # Размеры промежуточных слоев\n",
    "        nonlinearity=\"leakyrelu\", # Нелинейность между слоями\n",
    "        alpha=0.1,                # Коэффициент альфа для LeakyReLU\n",
    "        lambda1 = 0.0,            # Коэффициент при регулизации L1\n",
    "        lambda2 = 0.0,            # Коэффициент при регулизации L2\n",
    "        grad_speed=0.5,           # Коэффициент градиентного спуска\n",
    "        epoches=5,                # Количество эпох\n",
    "        batch_size=64,            # Размер батча\n",
    "        parts=5,                  # Количетсво частей,\n",
    "                                    # на которые мы делим данные при кросс-валидации\n",
    "        cross_valid=True          # Флаг использования кросс-валидации(проверка на всех частях)\n",
    "):\n",
    "    # Удалим предыдущие переменные и граф\n",
    "    tf.get_variable_scope().reuse_variables()\n",
    "    tf.reset_default_graph()\n",
    "\n",
    "    # Сделаем так, чтобы первый слой был размера 784, а последний - 10\n",
    "    if sizes[0] != 784:\n",
    "        sizes.insert(0, 784)\n",
    "    if sizes[-1] != 10:\n",
    "        sizes.append(10)\n",
    "\n",
    "    # Количество слоев\n",
    "    n = len(sizes)\n",
    "    \n",
    "    # Определим функцию активации (нелинейность между слоями)\n",
    "    activation = 0\n",
    "    if nonlinearity == \"sigmoid\":\n",
    "        activation = tf.nn.sigmoid\n",
    "    elif nonlinearity == \"relu\":\n",
    "        activation = tf.nn.relu\n",
    "    elif nonlinearity == \"leakyrelu\":\n",
    "        def leaky_relu(features):\n",
    "            return tf.nn.relu(features) - alpha * tf.nn.relu(features)\n",
    "        activation = leaky_relu\n",
    "    else:\n",
    "        raise RuntimeError(\"I don't know this function\")\n",
    "\n",
    "    # Определение переменных\n",
    "    x = tf.placeholder(tf.float32, shape=[None, 784], name=\"data\")\n",
    "    y_labels = tf.placeholder(tf.int32, shape=[None], name=\"labels\")\n",
    "    \n",
    "    # Добавим слои в цикле в список (кроме последнего)\n",
    "    x_interim = list()\n",
    "    x_interim.append(x)\n",
    "    for i in range(1, n - 1):\n",
    "        if lambda1 == 0 and lambda2 == 0:\n",
    "            x_interim.append(\n",
    "                tf.layers.dense(\n",
    "                    inputs=x_interim[i - 1],\n",
    "                    units=sizes[i],\n",
    "                    activation=activation,\n",
    "                    use_bias=True,\n",
    "                    name=\"x\" + str(i)\n",
    "                )\n",
    "            )\n",
    "        else:\n",
    "            x_interim.append(\n",
    "                tf.layers.dense(\n",
    "                    inputs=x_interim[i - 1],\n",
    "                    units=sizes[i],\n",
    "                    activation=activation,\n",
    "                    use_bias=True,\n",
    "                    kernel_regularizer=tf.contrib.layers.l1_l2_regularizer(\n",
    "                        scale_l1=lambda1,\n",
    "                        scale_l2=lambda2\n",
    "                    ),\n",
    "                    name=\"x\" + str(i)\n",
    "                )\n",
    "            )\n",
    "\n",
    "    # Последний слой (без функции активации)\n",
    "    y = 0\n",
    "    if lambda1 == 0 and lambda2 == 0:\n",
    "        y = tf.layers.dense(\n",
    "                inputs=x_interim[-1],\n",
    "                units=sizes[-1],\n",
    "                use_bias=True,\n",
    "                name=\"y\"\n",
    "        )\n",
    "    else:\n",
    "        y = tf.layers.dense(\n",
    "                inputs=x_interim[-1],\n",
    "                units=sizes[-1],\n",
    "                use_bias=True,\n",
    "                kernel_regularizer=tf.contrib.layers.l1_l2_regularizer(\n",
    "                    scale_l1=lambda1,\n",
    "                    scale_l2=lambda2\n",
    "                ),\n",
    "                name=\"y\"\n",
    "        )\n",
    "\n",
    "    # Функция потерь = мягкий я + регулизация\n",
    "    cross_entropy = tf.reduce_mean(\n",
    "                        tf.nn.sparse_softmax_cross_entropy_with_logits(\n",
    "                            labels=y_labels, \n",
    "                            logits=y)\n",
    "                    ) \\\n",
    "                    + tf.losses.get_regularization_loss()\n",
    "    \n",
    "    # Это уже делали\n",
    "    train_step = tf.train.GradientDescentOptimizer(grad_speed).minimize(cross_entropy)\n",
    "\n",
    "    correct_prediction = tf.equal(tf.argmax(y, 1, output_type=tf.int32), y_labels)\n",
    "    accuracy = tf.reduce_mean(tf.cast(correct_prediction, tf.float32))\n",
    "                     \n",
    "    acc_train = 0.0\n",
    "    acc_test = 0.0\n",
    "    with tf.Session() as sess:\n",
    "        # Запишем логи в файл\n",
    "        writer = tf.summary.FileWriter(\"/tmp/log/tensorflow/lab-2\", sess.graph)\n",
    "        # Остальное тоже уже делали\n",
    "        for X_train, Y_train, X_test, Y_test in cross_validation(data,\n",
    "                                                                 labels,\n",
    "                                                                 parts,\n",
    "                                                                 cross_valid=cross_valid):\n",
    "            sess.run(tf.global_variables_initializer())\n",
    "            for i in range(epoches):\n",
    "                for batch_x, batch_y in next_batch(X_train, Y_train, batch_size):\n",
    "                    sess.run(train_step, feed_dict={x: batch_x, y_labels: batch_y})\n",
    "\n",
    "            acc_train += sess.run(accuracy, feed_dict={x: X_train, y_labels: Y_train})\n",
    "            acc_test += sess.run(accuracy, feed_dict={x: X_test, y_labels: Y_test})\n",
    "\n",
    "        # В зависимости от того, считали ли мы только для одной части или для всех,\n",
    "        # посчитаем среднее\n",
    "        if (cross_valid):\n",
    "            acc_train /= parts\n",
    "            acc_test /= parts\n",
    "        writer.close()\n",
    "        return acc_train, acc_test"
   ]
  },
  {
   "cell_type": "code",
   "execution_count": 27,
   "metadata": {},
   "outputs": [
    {
     "ename": "ValueError",
     "evalue": "not enough values to unpack (expected 3, got 2)",
     "output_type": "error",
     "traceback": [
      "\u001b[0;31m--------------------------------------------------------------------------\u001b[0m",
      "\u001b[0;31mValueError\u001b[0m                               Traceback (most recent call last)",
      "\u001b[0;32m<ipython-input-27-c252cc87605e>\u001b[0m in \u001b[0;36m<module>\u001b[0;34m()\u001b[0m\n\u001b[1;32m      2\u001b[0m acc_train, acc_test, model = compute_accuracy(sizes=[196],\n\u001b[1;32m      3\u001b[0m                                        \u001b[0mepoches\u001b[0m\u001b[0;34m=\u001b[0m\u001b[0;36m1\u001b[0m\u001b[0;34m,\u001b[0m\u001b[0;34m\u001b[0m\u001b[0m\n\u001b[0;32m----> 4\u001b[0;31m                                        \u001b[0mnonlinearity\u001b[0m\u001b[0;34m=\u001b[0m\u001b[0;34m\"sigmoid\"\u001b[0m\u001b[0;34m\u001b[0m\u001b[0m\n\u001b[0m\u001b[1;32m      5\u001b[0m                                       )\n\u001b[1;32m      6\u001b[0m \u001b[0;34m\u001b[0m\u001b[0m\n",
      "\u001b[0;31mValueError\u001b[0m: not enough values to unpack (expected 3, got 2)"
     ]
    }
   ],
   "source": [
    "# 2. Train 2 layer net. Use sigmoid as nonlinearity.\n",
    "acc_train, acc_test, model = compute_accuracy(sizes=[196],\n",
    "                                       epoches=1, \n",
    "                                       nonlinearity=\"sigmoid\"\n",
    "                                      )\n",
    "\n",
    "with tf.Session() as sess:\n",
    "    print(sess.run(model[3], feed_dict={model[0]: data[0:1], model[1]: labels[0:1]}))\n",
    "print(\"Train and test accuracity with sigmoid\")\n",
    "print(\"Train = %.2f%%\\nTest  = %.2f%%\\n\\n\" % (100 * acc_train, 100 * acc_test))"
   ]
  },
  {
   "cell_type": "code",
   "execution_count": 53,
   "metadata": {},
   "outputs": [
    {
     "name": "stdout",
     "output_type": "stream",
     "text": [
      "Train and test accuracity with ReLu\n",
      "Train = 99.15%\n",
      "Test  = 97.29%\n",
      "\n",
      "\n",
      "Train and test accuracity with LeakyReLu\n",
      "Train = 99.07%\n",
      "Test  = 97.43%\n",
      "\n",
      "\n"
     ]
    }
   ],
   "source": [
    "# 4. Use ReLu or LeakyReLu as nonlinearity.\n",
    "# Compare accuracy and convergence with previous model.\n",
    "acc_train, acc_test, _ = compute_accuracy(sizes=[196],\n",
    "                                       epoches=2,\n",
    "                                       nonlinearity=\"relu\"\n",
    "                                      )\n",
    "print(\"Train and test accuracity with ReLu\")\n",
    "print(\"Train = %.2f%%\\nTest  = %.2f%%\\n\\n\" % (100 * acc_train, 100 * acc_test))\n",
    "\n",
    "acc_train, acc_test, _ = compute_accuracy(sizes=[196],\n",
    "                                       epoches=2, \n",
    "                                       nonlinearity=\"leakyrelu\",\n",
    "                                       alpha=0.1\n",
    "                                      )\n",
    "print(\"Train and test accuracity with LeakyReLu\")\n",
    "print(\"Train = %.2f%%\\nTest  = %.2f%%\\n\\n\" % (100 * acc_train, 100 * acc_test))\n"
   ]
  },
  {
   "cell_type": "markdown",
   "metadata": {},
   "source": [
    "Как можно видеть, наилучшие результаты дает LeakyReLU, после него идет обычные ReLU, а сигмойда показывает наихудшие результаты"
   ]
  },
  {
   "cell_type": "markdown",
   "metadata": {},
   "source": [
    "Путем проб и ошибок были выявленны следующие коэффициенты\n",
    "$$sizes = [784, 392, 196, 10]$$\n",
    "$$nonlinearity = \"leakyrelu\"$$\n",
    "$$alpha = 0.1$$\n",
    "$$lambda_1 = 0.0$$\n",
    "$$lambda_2 = 0.0$$ \n",
    "$$grad\\_speed = 0.5$$\n",
    "$$epoches = 10$$\n",
    "$$batch\\_size = 64$$\n",
    "$$$$\n",
    "$$Accuracy\\ on\\ train = 0.999$$\n",
    "$$Accuracy\\ on\\ test = 0.978$$"
   ]
  },
  {
   "cell_type": "code",
   "execution_count": 54,
   "metadata": {},
   "outputs": [
    {
     "name": "stdout",
     "output_type": "stream",
     "text": [
      "Train and test accuracity\n",
      "Train = 99.57%\n",
      "Test  = 97.33%\n",
      "\n",
      "\n"
     ]
    }
   ],
   "source": [
    "acc_train, acc_test, _ = compute_accuracy(sizes=[196, 49],\n",
    "                                       epoches=10, \n",
    "                                       cross_valid=True,\n",
    "                                      )\n",
    "print(\"Train and test accuracity\")\n",
    "print(\"Train = %.2f%%\\nTest  = %.2f%%\\n\\n\" % (100 * acc_train, 100 * acc_test))"
   ]
  },
  {
   "cell_type": "code",
   "execution_count": 55,
   "metadata": {},
   "outputs": [
    {
     "name": "stdout",
     "output_type": "stream",
     "text": [
      "Train and test accuracity with sizes = [784, 200, 10]\n",
      "Train = 97.98%\n",
      "Test  = 96.45%\n",
      "\n",
      "\n",
      "Train and test accuracity with sizes = [784, 300, 100, 10]\n",
      "Train = 98.46%\n",
      "Test  = 97.05%\n",
      "\n",
      "\n",
      "Train and test accuracity with sizes = [784, 400, 200, 100, 50, 10]\n",
      "Train = 98.08%\n",
      "Test  = 96.76%\n",
      "\n",
      "\n",
      "Train and test accuracity with sizes = [784, 600, 500, 400, 300, 200, 100, 50, 10]\n",
      "Train = 96.89%\n",
      "Test  = 95.70%\n",
      "\n",
      "\n",
      "Train and test accuracity with sizes = [784, 700, 600, 500, 400, 300, 200, 100, 50, 25, 10]\n",
      "Train = 63.80%\n",
      "Test  = 62.14%\n",
      "\n",
      "\n"
     ]
    }
   ],
   "source": [
    "# 7. How does quality change with adding layers.\n",
    "# Prove your words, train model for 2, 3, 5, 7 and 10 layers.\n",
    "\n",
    "s = [200]\n",
    "acc_train, acc_test, _ = compute_accuracy(sizes=s, epoches=2)\n",
    "print(\"Train and test accuracity with sizes =\", s)\n",
    "print(\"Train = %.2f%%\\nTest  = %.2f%%\\n\\n\" % (100 * acc_train, 100 * acc_test))\n",
    "\n",
    "s = [300, 100]\n",
    "acc_train, acc_test, _ = compute_accuracy(sizes=s, epoches=2)\n",
    "print(\"Train and test accuracity with sizes =\", s)\n",
    "print(\"Train = %.2f%%\\nTest  = %.2f%%\\n\\n\" % (100 * acc_train, 100 * acc_test))\n",
    "\n",
    "s = [400, 200, 100, 50]\n",
    "acc_train, acc_test, _ = compute_accuracy(sizes=s, epoches=2)\n",
    "print(\"Train and test accuracity with sizes =\", s)\n",
    "print(\"Train = %.2f%%\\nTest  = %.2f%%\\n\\n\" % (100 * acc_train, 100 * acc_test))\n",
    "\n",
    "s = [600, 500, 400, 300, 200, 100, 50]\n",
    "acc_train, acc_test, _ = compute_accuracy(sizes=s, epoches=2)\n",
    "print(\"Train and test accuracity with sizes =\", s)\n",
    "print(\"Train = %.2f%%\\nTest  = %.2f%%\\n\\n\" % (100 * acc_train, 100 * acc_test))\n",
    "\n",
    "s = [700, 600, 500, 400, 300, 200, 100, 50, 25]\n",
    "acc_train, acc_test, _ = compute_accuracy(sizes=s, epoches=2)\n",
    "print(\"Train and test accuracity with sizes =\", s)\n",
    "print(\"Train = %.2f%%\\nTest  = %.2f%%\\n\\n\" % (100 * acc_train, 100 * acc_test))\n"
   ]
  },
  {
   "cell_type": "code",
   "execution_count": null,
   "metadata": {},
   "outputs": [],
   "source": [
    "#Теперь попытаемся найти самые красивые числа для нашей модели\n",
    "tf.get_variable_scope().reuse_variables()\n",
    "tf.reset_default_graph()\n",
    "\n",
    "W1_const = 0\n",
    "W2_const = 0\n",
    "W3_const = 0\n",
    "    \n",
    "b1_const = 0\n",
    "b2_const = 0\n",
    "b3_const = 0\n",
    "\n",
    "#Напишем и обучим модель\n",
    "with tf.Session() as sess:\n",
    "    x = tf.placeholder(shape=[None, 784], dtype=tf.float32)\n",
    "    y_labels = tf.placeholder(shape=[None], dtype=tf.int32)\n",
    "    \n",
    "    # Определение переменных\n",
    "    W1 = tf.Variable(tf.truncated_normal(shape=[784, 392], stddev=0.1))\n",
    "    W2 = tf.Variable(tf.truncated_normal(shape=[392, 196], stddev=0.1))\n",
    "    W3 = tf.Variable(tf.truncated_normal(shape=[196, 10], stddev=0.1))\n",
    "    \n",
    "    b1 = tf.Variable(tf.constant(0.1, shape=[392]))\n",
    "    b2 = tf.Variable(tf.constant(0.1, shape=[196]))\n",
    "    b3 = tf.Variable(tf.constant(0.1, shape=[10]))\n",
    "    \n",
    "    # Определение слоев\n",
    "    layer1 = tf.nn.relu(tf.matmul(x, W1) + b1)\n",
    "    layer2 = tf.nn.relu(tf.matmul(layer1, W2) + b2)\n",
    "    y = tf.matmul(layer2, W3) + b3\n",
    "    \n",
    "    # Функция потерь\n",
    "    cross_entropy = tf.reduce_mean(\n",
    "                        tf.nn.sparse_softmax_cross_entropy_with_logits(\n",
    "                            labels=y_labels, \n",
    "                            logits=y)\n",
    "                    )\n",
    "\n",
    "    train_step = tf.train.GradientDescentOptimizer(0.5).minimize(cross_entropy)\n",
    "    \n",
    "    correct_prediction = tf.equal(tf.argmax(y, 1, output_type=tf.int32), y_labels)\n",
    "    accuracy = tf.reduce_mean(tf.cast(correct_prediction, tf.float32))\n",
    "    \n",
    "    sess.run(tf.global_variables_initializer())\n",
    "\n",
    "    for i in range(5):\n",
    "        for X, Y in next_batch(data, labels, 64):\n",
    "            sess.run(train_step, feed_dict={x: X, y_labels: Y})\n",
    "    \n",
    "    print(sess.run(accuracy, feed_dict={x: data, y_labels: labels}))\n",
    "    \n",
    "    #Вытащим из модели наши матрицы как константы\n",
    "    W1_const = tf.constant(sess.run(W1))\n",
    "    W2_const = tf.constant(sess.run(W2))\n",
    "    W3_const = tf.constant(sess.run(W3))\n",
    "    \n",
    "    b1_const = tf.constant(sess.run(b1))\n",
    "    b2_const = tf.constant(sess.run(b2))\n",
    "    b3_const = tf.constant(sess.run(b3))"
   ]
  },
  {
   "cell_type": "code",
   "execution_count": null,
   "metadata": {},
   "outputs": [],
   "source": [
    "tf.get_variable_scope().reuse_variables()\n",
    "\n",
    "# На обученной моделе сделаем входную картинку переменной\n",
    "with tf.Session() as sess:\n",
    "    # Восстановим модель\n",
    "    img = tf.Variable(tf.truncated_normal(shape=[1, 784], stddev=0.1))\n",
    "    layer1 = tf.nn.relu(tf.matmul(img, W1_const) + b1_const)\n",
    "    layer2 = tf.nn.relu(tf.matmul(layer1, W2_const) + b2_const)\n",
    "    y = tf.matmul(layer2, W3_const) + b3_const\n",
    "    for num in range(10):\n",
    "        # Определим функцию потерь в зависимости от нужной цифры\n",
    "        loss = tf.reduce_mean(\n",
    "            tf.nn.sparse_softmax_cross_entropy_with_logits(\n",
    "                labels=[num],\n",
    "                logits=y\n",
    "            )\n",
    "        )\n",
    "\n",
    "        train_step = tf.train.GradientDescentOptimizer(0.5).minimize(loss)\n",
    "\n",
    "        sess.run(tf.global_variables_initializer())\n",
    "\n",
    "        for _ in range(5):\n",
    "            sess.run(train_step)\n",
    "\n",
    "        # Распечатаем наши \"красивые\" цифорки\n",
    "        print(sess.run(loss))\n",
    "        img = np.asarray(sess.run(img)).reshape((28, 28))\n",
    "        plt.title('Label is ' + str(num))\n",
    "        plt.imshow(img, cmap=\"gray\")\n",
    "        plt.show()"
   ]
  },
  {
   "cell_type": "markdown",
   "metadata": {},
   "source": [
    "### 4. Autoencoders\n",
    "An autoencoder is an network used for unsupervised learning of efficient codings. The aim of an autoencoder is to learn a representation (encoding) for a set of data, typically for the purpose of dimensionality reduction. Also, this technique can be used to train deep nets.\n",
    "\n",
    "Architecturally, the simplest form of an autoencoder is a feedforward net very similar to the multilayer perceptron (MLP), but with the output layer having the same number of nodes as the input layer, and with the purpose of reconstructing its own inputs. Therefore, autoencoders are unsupervised learning models. An autoencoder always consists of two parts, the encoder and the decoder. Encoder returns latent representation of the object (compressed representation, usuallu smaller dimension), but decoder restores object from this latent representation. Autoencoders are also trained to minimise reconstruction errors (e.g. MSE).\n",
    "\n",
    "Various techniques exist to prevent autoencoders from learning the identity and to improve their ability to capture important information:\n",
    "1. Denoising autoencoder - take a partially corrupted input.\n",
    "2. Sparse autoencoder - impose sparsity on the hidden units during training (whilst having a larger number of hidden units than inputs).\n",
    "3. Variational autoencoder models inherit autoencoder architecture, but make strong assumptions concerning the distribution of latent variables.\n",
    "4. Contractive autoencoder - add an explicit regularizer in objective function that forces the model to learn a function that is robust to slight variations of input values.\n",
    "\n",
    "#### Exercises\n",
    "1. Train 2 layers autoencoder that compressed mnist images to $\\mathbb{R}^3$ space.\n",
    "2. For each digit plot several samples in 3D axis (use \"%matplotlib notebook\" mode or plotly). How do digits group?\n",
    "3. Train autoencoder with more layers. What are results?\n",
    "4. Use autoencoder to pretrain 2 layers (unsupervised) and then train the following layers with supervised method."
   ]
  },
  {
   "cell_type": "code",
   "execution_count": 30,
   "metadata": {},
   "outputs": [],
   "source": [
    "# Напишем функцию для автоинкодера\n",
    "def autoencoder(\n",
    "        sizes=[784, 10],          # Размеры промежуточных слоев\n",
    "        nonlinearity=\"leakyrelu\", # Нелинейность между слоями\n",
    "        alpha=0.1,                # Коэффициент альфа для LeakyReLU\n",
    "        lambda1 = 0.0,            # Коэффициент при регулизации L1\n",
    "        lambda2 = 0.0,            # Коэффициент при регулизации L2\n",
    "        grad_speed=0.5,           # Коэффициент градиентного спуска\n",
    "        epoches=5,                # Количество эпох\n",
    "        batch_size=64,            # Размер батча\n",
    "        parts=5,                  # Количетсво частей,\n",
    "                                    # на которые мы делим данные при кросс-валидации\n",
    "        cross_valid=False         # Флаг использования кросс-валидации(проверка на всех частях)\n",
    "):\n",
    "    \n",
    "    # Удалим предыдущие переменные и граф\n",
    "    tf.get_variable_scope().reuse_variables()\n",
    "    tf.reset_default_graph()\n",
    "\n",
    "    # Сделаем так, чтобы первый слой был размера 784 и размеры всех слоёв симметричны\n",
    "    if sizes[0] != 784:\n",
    "        sizes.insert(0, 784)\n",
    "    for i in range(len(sizes) - 1):\n",
    "        sizes.append(sizes[i])\n",
    "\n",
    "    # Количество слоев\n",
    "    n = len(sizes)\n",
    "\n",
    "\n",
    "    # Определим функцию активации\n",
    "    activation = 0\n",
    "    if nonlinearity == \"sigmoid\":\n",
    "        activation = tf.nn.sigmoid\n",
    "    elif nonlinearity == \"relu\":\n",
    "        activation = tf.nn.relu\n",
    "    elif nonlinearity == \"leakyrelu\":\n",
    "        def leaky_relu(features):\n",
    "            return tf.nn.relu(features) - alpha * tf.nn.relu(features)\n",
    "        activation = leaky_relu\n",
    "    else:\n",
    "        raise RuntimeError(\"I don't know this function\")\n",
    "\n",
    "        \n",
    "    # Определение переменных\n",
    "    x = tf.placeholder(tf.float32, shape=[None, 784], name=\"data\")\n",
    "    \n",
    "    # Добавим слои в цикле в список (кроме последнего)\n",
    "    x_interim = list()\n",
    "    x_interim.append(x)\n",
    "    for i in range(1, n - 1):\n",
    "        if lambda1 == 0 and lambda2 == 0:\n",
    "            x_interim.append(\n",
    "                tf.layers.dense(\n",
    "                    inputs=x_interim[i - 1],\n",
    "                    units=sizes[i],\n",
    "                    activation=activation,\n",
    "                    use_bias=True,\n",
    "                    name=\"x\" + str(i)\n",
    "                )\n",
    "            )\n",
    "        else:\n",
    "            x_interim.append(\n",
    "                tf.layers.dense(\n",
    "                    inputs=x_interim[i - 1],\n",
    "                    units=sizes[i],\n",
    "                    activation=activation,\n",
    "                    use_bias=True,\n",
    "                    kernel_regularizer=tf.contrib.layers.l1_l2_regularizer(\n",
    "                        scale_l1=lambda1,\n",
    "                        scale_l2=lambda2\n",
    "                    ),\n",
    "                    name=\"x\" + str(i)\n",
    "                )\n",
    "            )\n",
    "\n",
    "    # Последний слой без нелинейности\n",
    "    y = 0\n",
    "    if lambda1 == 0 and lambda2 == 0:\n",
    "        y = tf.layers.dense(\n",
    "                inputs=x_interim[-1],\n",
    "                units=sizes[-1],\n",
    "                use_bias=True,\n",
    "                kernel_regularizer=tf.contrib.layers.l1_l2_regularizer(\n",
    "                    scale_l1=lambda1,\n",
    "                    scale_l2=lambda2\n",
    "                ),\n",
    "                name=\"y\"\n",
    "        )\n",
    "    else:\n",
    "        y = tf.layers.dense(\n",
    "                inputs=x_interim[-1],\n",
    "                units=sizes[-1],\n",
    "                use_bias=True,\n",
    "                name=\"y\"\n",
    "        )\n",
    "\n",
    "    cross_entropy = tf.reduce_sum(tf.square(x - y))\n",
    "\n",
    "    train_step = tf.train.GradientDescentOptimizer(grad_speed).minimize(cross_entropy)\n",
    "\n",
    "\n",
    "    with tf.Session() as sess:\n",
    "        writer = tf.summary.FileWriter(\"/tmp/log/tensorflow/lab-2\", sess.graph)\n",
    "        for X_train, Y_train, X_test, Y_test in cross_validation(data,\n",
    "                                                                 labels,\n",
    "                                                                 parts,\n",
    "                                                                 cross_valid=cross_valid\n",
    "                                                                ):\n",
    "            sess.run(tf.global_variables_initializer())\n",
    "            for i in range(epoches):\n",
    "                for batch_x, batch_y in next_batch(X_train, Y_train, batch_size):\n",
    "                    sess.run(train_step, feed_dict={x: batch_x})\n",
    "\n",
    "        images = sess.run(y, feed_dict={x: X_train[:5]})\n",
    "        for i in range(5):\n",
    "            img = np.asarray(images[i]).reshape((28, 28))\n",
    "            plt.title('Label is ' + str(labels[i]))\n",
    "            plt.imshow(img, cmap='gray')\n",
    "            plt.show()\n",
    "        writer.close()"
   ]
  },
  {
   "cell_type": "code",
   "execution_count": 35,
   "metadata": {},
   "outputs": [
    {
     "name": "stdout",
     "output_type": "stream",
     "text": [
      "INFO:tensorflow:Scale of 0 disables regularizer.\n"
     ]
    },
    {
     "data": {
      "image/png": "[encoded data removed]",
      "text/plain": [
       "<matplotlib.figure.Figure at 0x7f00825d8eb8>"
      ]
     },
     "metadata": {},
     "output_type": "display_data"
    },
    {
     "data": {
      "image/png": "[encoded data removed]",
      "text/plain": [
       "<matplotlib.figure.Figure at 0x7f0083acf668>"
      ]
     },
     "metadata": {},
     "output_type": "display_data"
    },
    {
     "data": {
      "image/png": "[encoded data removed]",
      "text/plain": [
       "<matplotlib.figure.Figure at 0x7f00838cf400>"
      ]
     },
     "metadata": {},
     "output_type": "display_data"
    },
    {
     "data": {
      "image/png": "[encoded data removed]",
      "text/plain": [
       "<matplotlib.figure.Figure at 0x7f008eb35588>"
      ]
     },
     "metadata": {},
     "output_type": "display_data"
    },
    {
     "data": {
      "image/png": "[encoded data removed]",
      "text/plain": [
       "<matplotlib.figure.Figure at 0x7f008f56b518>"
      ]
     },
     "metadata": {},
     "output_type": "display_data"
    }
   ],
   "source": [
    "autoencoder(sizes=[784, 600], epoches=10, grad_speed=0.0001)"
   ]
  },
  {
   "cell_type": "code",
   "execution_count": null,
   "metadata": {},
   "outputs": [],
   "source": []
  }
 ],
 "metadata": {
  "kernelspec": {
   "display_name": "Python 3",
   "language": "python",
   "name": "python3"
  },
  "language_info": {
   "codemirror_mode": {
    "name": "ipython",
    "version": 3
   },
   "file_extension": ".py",
   "mimetype": "text/x-python",
   "name": "python",
   "nbconvert_exporter": "python",
   "pygments_lexer": "ipython3",
   "version": "3.6.3"
  }
 },
 "nbformat": 4,
 "nbformat_minor": 1
}
