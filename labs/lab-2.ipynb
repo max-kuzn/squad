{
 "cells": [
  {
   "cell_type": "markdown",
   "metadata": {},
   "source": [
    "# L2 - Multilayer perceptron\n",
    "\n",
    "### Papers\n",
    "1. [TensorFlow](https://static.googleusercontent.com/media/research.google.com/en//pubs/archive/45166.pdf)\n",
    "\n",
    "### TensorFlow\n",
    "1. [Installing TensorFlow](https://www.tensorflow.org/install/)\n",
    "2. [Basics of TensorFlow](https://www.tensorflow.org/get_started/get_started)\n",
    "3. [Mnist with TensorFlow](https://www.tensorflow.org/get_started/mnist/pros)\n",
    "4. [TensorFlow Mechanics](https://www.tensorflow.org/get_started/mnist/mechanics)\n",
    "5. [Visualization](https://www.tensorflow.org/get_started/graph_viz)\n",
    "\n",
    "\n",
    "### One more thing\n",
    "1. [Jupyter tutorial](https://habrahabr.ru/company/wunderfund/blog/316826/)\n",
    "2. [Plot.ly](https://plot.ly/python/)\n",
    "3. [Widgets](http://jupyter.org/widgets.html)"
   ]
  },
  {
   "cell_type": "markdown",
   "metadata": {},
   "source": [
    "### 1. Linear multi-classification problem\n",
    "\n",
    "We have already learned binary linear classifier\n",
    "$$y = \\text{sign}(w^Tx).$$\n",
    "There are [several approaches](https://en.wikipedia.org/wiki/Multiclass_classification) to solve the problem of multi-class classification. For example [reduction](https://en.wikipedia.org/wiki/Multiclass_classification#Transformation_to_Binary) of problem to binary classifier or [modification](https://en.wikipedia.org/wiki/Support_vector_machine#Multiclass_SVM) of the known model. However we are interested in approaches that is applied in neural networks.\n",
    "\n",
    "For each class $c \\in 1, \\dots, |C|$ we have an individual row $w_i$ of matrix $W$. Then the probability of $x$ belonging to a particular class is equal to\n",
    "$$p_i = \\frac{\\exp(w^T_ix)}{\\sum_j \\exp(w^T_jx)}.$$\n",
    "This is nothing, but [softmax](https://en.wikipedia.org/wiki/Softmax_function) function of $Wx$.\n",
    "$$(p_1, \\dots, p_{|C|}) = \\text{softmax}(Wx).$$\n",
    "\n",
    "If you look closely, $\\text{softmax}$ is a more general variant of sigmoid. To see this, it suffices to consider the case $|C|=2$. As usual the training can be reduced to minimization of the empirical risk, namely, optimization problem\n",
    "$$\\arg\\min_W Q(W) = \\arg\\min_W -\\frac{1}{\\mathcal{l}}\\sum_y\\sum_i [y = i] \\cdot \\ln(p_i(W)).$$\n",
    "Actually, the maximization of the log-likelihood is written above.\n",
    "\n",
    "#### Exercises\n",
    "1. Find $\\frac{dQ}{dW}$ in matrix form (hint: start with $\\frac{dQ}{dw_i}$ for begining).\n",
    "2. Please plot several mnist images (e.g using grid 5x5).\n",
    "3. Train linear multi-label classifier for [mnist](https://www.kaggle.com/c/digit-recognizer) dataset with TensorFlow (possible, [this tutorial](https://www.tensorflow.org/get_started/mnist/pros) can help you).\n",
    "4. Chek accuracy on train and validation sets.\n",
    "5. Use a local [TensorBoard instance](https://www.tensorflow.org/get_started/graph_viz) to visualize resulted graph (no need to include in lab)."
   ]
  },
  {
   "cell_type": "code",
   "execution_count": 130,
   "metadata": {},
   "outputs": [],
   "source": [
    "import numpy as np\n",
    "import pandas as pd\n",
    "import matplotlib.pyplot as plt\n",
    "import tensorflow as tf"
   ]
  },
  {
   "cell_type": "code",
   "execution_count": 184,
   "metadata": {},
   "outputs": [],
   "source": [
    "data = np.array(pd.read_csv('data/train.csv'), dtype=np.float32)\n",
    "sparse_labels = np.array(data[:, 0], dtype=np.int32)\n",
    "labels = np.zeros((data.shape[0], 10), dtype=np.float32)\n",
    "for i in range(10):\n",
    "    labels[:, i] = 1 * (data[:, 0] == i)\n",
    "data = data[:, 1:]\n",
    "data /= 256.0\n",
    "#data -= np.average(data, axis=1)[:, np.newaxis]\n",
    "#data /= np.average(data**2, axis=1)[:, np.newaxis]"
   ]
  },
  {
   "cell_type": "code",
   "execution_count": 132,
   "metadata": {},
   "outputs": [
    {
     "name": "stdout",
     "output_type": "stream",
     "text": [
      "(42000, 784) (42000, 10)\n"
     ]
    }
   ],
   "source": [
    "print(data.shape, labels.shape)"
   ]
  },
  {
   "cell_type": "code",
   "execution_count": 133,
   "metadata": {},
   "outputs": [
    {
     "data": {
      "image/png": "[encoded data removed]",
      "text/plain": [
       "<matplotlib.figure.Figure at 0x7f05988b1710>"
      ]
     },
     "metadata": {},
     "output_type": "display_data"
    },
    {
     "data": {
      "image/png": "[encoded data removed]",
      "text/plain": [
       "<matplotlib.figure.Figure at 0x7f05988e9780>"
      ]
     },
     "metadata": {},
     "output_type": "display_data"
    },
    {
     "data": {
      "image/png": "[encoded data removed]",
      "text/plain": [
       "<matplotlib.figure.Figure at 0x7f056a136b70>"
      ]
     },
     "metadata": {},
     "output_type": "display_data"
    },
    {
     "data": {
      "image/png": "[encoded data removed]",
      "text/plain": [
       "<matplotlib.figure.Figure at 0x7f056a588e10>"
      ]
     },
     "metadata": {},
     "output_type": "display_data"
    },
    {
     "data": {
      "image/png": "[encoded data removed]",
      "text/plain": [
       "<matplotlib.figure.Figure at 0x7f056a54f470>"
      ]
     },
     "metadata": {},
     "output_type": "display_data"
    }
   ],
   "source": [
    "for i in range(5):\n",
    "    img = np.array(data[i]).reshape((28, 28))\n",
    "    plt.title('Label is ' + str(labels[i]))\n",
    "    plt.imshow(img, cmap='gray')\n",
    "    plt.show()"
   ]
  },
  {
   "cell_type": "code",
   "execution_count": 181,
   "metadata": {},
   "outputs": [],
   "source": [
    "def shuffle(X, Y):\n",
    "    shuffle = np.random.permutation(X.shape[0])\n",
    "    return X[shuffle], Y[shuffle]\n",
    "\n",
    "def cross_validation(X, Y, parts, one_time=True):\n",
    "    X, Y = shuffle(X, Y)\n",
    "    for i in range(parts):\n",
    "        l = i * X.shape[0] // parts\n",
    "        r = (i + 1) * X.shape[0] // parts\n",
    "        test = np.zeros(X.shape[0], dtype=np.bool)\n",
    "        test[l:r] = True\n",
    "        if (not one_time) or i == 0 :\n",
    "            yield X[~test], Y[~test], X[test], Y[test]\n",
    "\n",
    "def next_batch(X, Y, batch_size):\n",
    "    #X, Y = shuffle(X, Y)\n",
    "    for i in range(0, X.shape[0], batch_size):\n",
    "        j = min(i + batch_size, X.shape[0])\n",
    "        yield X[i:j], Y[i:j]"
   ]
  },
  {
   "cell_type": "code",
   "execution_count": 188,
   "metadata": {},
   "outputs": [],
   "source": [
    "x = tf.placeholder(tf.float32, shape=[None, 784])\n",
    "y_ = tf.placeholder(tf.int32, shape=[None])\n",
    "\n",
    "W = tf.Variable(tf.truncated_normal([784, 10], stddev=0.1))\n",
    "b = tf.Variable(tf.constant(0.1, shape=[10]))\n",
    "\n",
    "y = tf.matmul(x, W) + b\n",
    "\n",
    "cross_entropy = tf.reduce_mean(tf.nn.sparse_softmax_cross_entropy_with_logits(labels=y_, logits=y))\n",
    "\n",
    "train_step = tf.train.GradientDescentOptimizer(0.5).minimize(cross_entropy)\n",
    "\n",
    "correct_prediction = tf.equal(tf.argmax(y, 1, output_type=tf.int32), y_)\n",
    "accuracy = tf.reduce_mean(tf.cast(correct_prediction, tf.float32))"
   ]
  },
  {
   "cell_type": "code",
   "execution_count": 189,
   "metadata": {},
   "outputs": [
    {
     "name": "stdout",
     "output_type": "stream",
     "text": [
      "Accuracy on train set = 0.926177513599\n",
      "Accuracy on test set = 0.916071629524\n",
      "___________________________________\n"
     ]
    }
   ],
   "source": [
    "batch_size = 64\n",
    "acc_test = 0.0\n",
    "acc_train = 0.0\n",
    "one_time = False\n",
    "parts = 5\n",
    "epoches = 5\n",
    "with tf.Session() as sess:\n",
    "    for X_train, Y_train, X_test, Y_test in cross_validation(data, sparse_labels, parts, one_time=one_time):\n",
    "        sess.run(tf.global_variables_initializer())\n",
    "        for i in range(epoches):\n",
    "            for batch_x, batch_y in next_batch(X_train, Y_train, batch_size):\n",
    "                sess.run(train_step, feed_dict={x: batch_x, y_: batch_y})\n",
    "\n",
    "        acc_train += sess.run(accuracy, feed_dict={x: X_train, y_: Y_train})\n",
    "        acc_test += sess.run(accuracy, feed_dict={x: X_test, y_: Y_test})\n",
    "    if (not one_time):\n",
    "        acc_test /= parts\n",
    "        acc_train /= parts\n",
    "\n",
    "print(\"Accuracy on train set =\", acc_train)\n",
    "print(\"Accuracy on test set =\", acc_test)\n",
    "print(\"___________________________________\")\n"
   ]
  },
  {
   "cell_type": "markdown",
   "metadata": {},
   "source": [
    "Let's briefly touch on themes of regularization. As was discussed before, there are different approaches. We focus on the modification of loss function.\n",
    "\n",
    "$$\\arg\\min_W -\\frac{1}{\\mathcal{l}}\\sum_y\\sum_i [y = i] \\cdot \\ln(p_i(W)) + \\lambda_1 L_1(W) + \\lambda_2 L_2(W)$$\n",
    "\n",
    "1. $L_1(W) = sum_{i,j} |w_{i,j}|$ - sparsify weights (force to not use uncorrelated features)\n",
    "2. $L_2(W) = sum_{i,j} w_{i,j}^2$ - minimize weights (force to not overfit)\n",
    "\n",
    "#### Exercises\n",
    "1. Train model again using both type of regularization.\n",
    "2. Plot matrix of weights.\n",
    "3. Which pixels have zero weights? What does it mean?\n",
    "4. Have you improved accuracy on validation?"
   ]
  },
  {
   "cell_type": "code",
   "execution_count": 138,
   "metadata": {},
   "outputs": [],
   "source": [
    "lamb1 = tf.constant(1e-4)\n",
    "lamb2 = tf.constant(1e-4)\n",
    "\n",
    "l1 = tf.reduce_sum(tf.abs(W))\n",
    "l2 = tf.reduce_sum(tf.square(W))\n",
    "\n",
    "cross_entropy = tf.reduce_mean(tf.nn.softmax_cross_entropy_with_logits(labels=y_, logits=y)) \\\n",
    "    + lamb1 * l1 + lamb2 * l2\n",
    "\n",
    "train_step = tf.train.GradientDescentOptimizer(0.5).minimize(cross_entropy)\n",
    "\n",
    "correct_prediction = tf.equal(tf.argmax(y,1), tf.argmax(y_,1))\n",
    "accuracy = tf.reduce_mean(tf.cast(correct_prediction, tf.float32))"
   ]
  },
  {
   "cell_type": "code",
   "execution_count": 139,
   "metadata": {},
   "outputs": [
    {
     "name": "stdout",
     "output_type": "stream",
     "text": [
      "2936.0 zeros out of 7840\n",
      "Accuracy on train set = 0.919338285923\n",
      "Accuracy on test set = 0.910309720039\n"
     ]
    }
   ],
   "source": [
    "images = 0\n",
    "\n",
    "batch_size = 64\n",
    "epoches = 5\n",
    "parts = 5\n",
    "one_time = False\n",
    "acc_train = 0.0\n",
    "acc_test = 0.0\n",
    "with tf.Session() as sess:\n",
    "    for X_train, Y_train, X_test, Y_test in cross_validation(data, labels, parts, one_time=one_time):\n",
    "        sess.run(tf.global_variables_initializer())\n",
    "        for i in range(epoches):\n",
    "            for batch_x, batch_y in next_batch(X_train, Y_train, batch_size):\n",
    "                sess.run(train_step, feed_dict={x: batch_x, y_: batch_y})\n",
    "\n",
    "        acc_train += sess.run(accuracy, feed_dict={x: X_train, y_: Y_train})\n",
    "        acc_test += sess.run(accuracy, feed_dict={x: X_test, y_: Y_test})\n",
    "    \n",
    "    if (not one_time):\n",
    "        acc_train /= parts\n",
    "        acc_test /= parts\n",
    "\n",
    "    print(sess.run(tf.reduce_sum(tf.cast(tf.abs(W) < tf.ones(W.shape) * 1e-3, dtype=tf.float32))),\n",
    "          \"zeros out of\", 784 * 10)\n",
    "    print(\"Accuracy on train set =\", acc_train)\n",
    "    print(\"Accuracy on test set =\", acc_test)\n",
    "\n",
    "    images = np.asarray(W.eval()).reshape((28, 28, 10))"
   ]
  },
  {
   "cell_type": "code",
   "execution_count": 140,
   "metadata": {},
   "outputs": [
    {
     "data": {
      "image/png": "[encoded data removed]",
      "text/plain": [
       "<matplotlib.figure.Figure at 0x7f0598b864e0>"
      ]
     },
     "metadata": {},
     "output_type": "display_data"
    },
    {
     "data": {
      "image/png": "[encoded data removed]",
      "text/plain": [
       "<matplotlib.figure.Figure at 0x7f056a555780>"
      ]
     },
     "metadata": {},
     "output_type": "display_data"
    },
    {
     "data": {
      "image/png": "[encoded data removed]",
      "text/plain": [
       "<matplotlib.figure.Figure at 0x7f0598e577f0>"
      ]
     },
     "metadata": {},
     "output_type": "display_data"
    },
    {
     "data": {
      "image/png": "[encoded data removed]",
      "text/plain": [
       "<matplotlib.figure.Figure at 0x7f0598cef908>"
      ]
     },
     "metadata": {},
     "output_type": "display_data"
    },
    {
     "data": {
      "image/png": "[encoded data removed]",
      "text/plain": [
       "<matplotlib.figure.Figure at 0x7f0598cca278>"
      ]
     },
     "metadata": {},
     "output_type": "display_data"
    },
    {
     "data": {
      "image/png": "[encoded data removed]",
      "text/plain": [
       "<matplotlib.figure.Figure at 0x7f0598d17eb8>"
      ]
     },
     "metadata": {},
     "output_type": "display_data"
    },
    {
     "data": {
      "image/png": "[encoded data removed]",
      "text/plain": [
       "<matplotlib.figure.Figure at 0x7f0598d81e10>"
      ]
     },
     "metadata": {},
     "output_type": "display_data"
    },
    {
     "data": {
      "image/png": "[encoded data removed]",
      "text/plain": [
       "<matplotlib.figure.Figure at 0x7f0598834cc0>"
      ]
     },
     "metadata": {},
     "output_type": "display_data"
    },
    {
     "data": {
      "image/png": "[encoded data removed]",
      "text/plain": [
       "<matplotlib.figure.Figure at 0x7f056bf92940>"
      ]
     },
     "metadata": {},
     "output_type": "display_data"
    },
    {
     "data": {
      "image/png": "[encoded data removed]",
      "text/plain": [
       "<matplotlib.figure.Figure at 0x7f056becc320>"
      ]
     },
     "metadata": {},
     "output_type": "display_data"
    },
    {
     "data": {
      "image/png": "[encoded data removed]",
      "text/plain": [
       "<matplotlib.figure.Figure at 0x7f056be86f28>"
      ]
     },
     "metadata": {},
     "output_type": "display_data"
    }
   ],
   "source": [
    "for i in range(10):\n",
    "    img = np.array(images[:, :, i])\n",
    "    img = img / np.max(np.abs(img))\n",
    "    img = np.dstack(((img < 0) * -img, np.zeros(img.shape), (img >= 0) * img))\n",
    "    plt.imshow(img)\n",
    "    plt.show()\n",
    "\n",
    "img = np.sum(np.abs(images), axis=2)\n",
    "img /= np.max(img)\n",
    "plt.imshow(img, cmap='gray')\n",
    "plt.show()"
   ]
  },
  {
   "cell_type": "markdown",
   "metadata": {},
   "source": [
    "### 2. Universal approximation theorem\n",
    "\n",
    "What if we add more layers to our model? Namely, we train two matrix $W_2$ and $W_1$\n",
    "$$softmax(W_2\\cdot(W_1x)).$$\n",
    "\n",
    "At first glance adding more parameters helps to increase the generalizing ability of the model. Buy actually we have the same model $softmax(Wx)$, where $W = W_2\\cdot W_1$. But everyting changes with adding ome more layer. Let's add nonlinear function $\\sigma$ between $W_2$ and $W_1$\n",
    "\n",
    "$$softmax(W_2\\cdot \\sigma(W_1x)).$$\n",
    "\n",
    "Kurt Hornik showed in 1991 that it is not the specific choice of the nonlinear function, but rather the multilayer feedforward architecture itself which gives neural networks the potential of being universal approximators. The output units are always assumed to be linear. For notational convenience, only the single output case will be shown. The general case can easily be deduced from the single output case.\n",
    "\n",
    "Let $\\sigma(\\cdot)$ be a nonconstant, bounded, and monotonically-increasing continuous function.\n",
    "Let $\\mathcal{S}_m \\subset \\mathbb{R}^m$ denote any compact set. \n",
    "Then, given any $\\varepsilon > 0$ and any coninuous function $f$ on $\\mathcal{S}_m$, there exist an integer $N$ and real constants $v_i$, $b_i$ amd real vectors $w_i$ that\n",
    "\n",
    "$$\\left| \\sum _{i=1}^{N}v_{i}\\sigma \\left( w_i^{T} x+b_i \\right) - f(x) \\right| < \\varepsilon, ~~~ \\forall x \\in \\mathcal{S}_m.$$\n",
    "\n",
    "The theorem has non-constructive proof, it meams that no estimates for $N$ and no method to find approximation's parameters.\n",
    "\n",
    "#### Exercises\n",
    "1. Let $\\sigma$ – [heaviside step function](https://en.wikipedia.org/wiki/Heaviside_step_function) and $x \\in \\{0, 1\\}^2$. Prove that $y = \\sigma(wx + b)$ can approximate boolean function **OR** (hint: use constructive proof).\n",
    "2. What about **AND** function?\n",
    "3. Is it possible to implement **XOR**? Prove your words.\n",
    "4. Prove that 2-layer network can implement any boolean function.\n",
    "\n",
    "#### More useful facts:\n",
    "1. A 2-layer network in in $\\mathbb{R}^n$ allows to define convex polyhedron..\n",
    "2. A 3-layer network in в $\\mathbb{R}^n$ allows to define a not necessarily convex and not even necessarily connected area."
   ]
  },
  {
   "cell_type": "markdown",
   "metadata": {},
   "source": [
    "### 3. Backpropagation\n",
    "Backpropagation is a method used to calculate the error contribution of each layer after a batch of data. It is a special case of an older and more general technique called automatic differentiation. In the context of learning, backpropagation is commonly used by the gradient descent optimization algorithm to adjust the weight of layers by calculating the gradient of the loss function. This technique is also sometimes called backward propagation of errors, because the error is calculated at the output and distributed back through the network layers. The main motivation of method is simplify evaluation of gradient which is complex problem for multilayer nets.\n",
    "\n",
    "We need the following notation. Let $(y^1,\\dots,y^n) = f(x^1,\\dots,x^n)$ is some differentiable function and $\\frac{dy}{dx}$ is matrix\n",
    "$$\\frac{dy}{dx} = \\Big[ J_{ij} = \\frac{\\partial y^i}{\\partial x^j} \\Big]$$\n",
    "\n",
    "Without violating the generality, we can assume that each layer is a function $x_{i} = f(x_{i-1}, w_i)$. As last layer we add loss function, so we can assume our multi-layer net as function $Q(x_0) = Q(f_n(f_{n-1}(\\dots, w_{n-1}), w_n))$.\n",
    "\n",
    "#### Forward step\n",
    "Propagation forward through the network to generate the output values. Calculation of the loss function.\n",
    "\n",
    "#### Backward step\n",
    "Let's look at last layer. We can simply find $\\frac{dQ}{dx_n}$. Now we can evaluate \n",
    "\n",
    "$$\\frac{dQ}{dw_n} = \\frac{dQ}{dx_n}\\frac{dx_n}{dw_n} \\text{ and } \\frac{dQ}{dx_{n-1}} = \\frac{dQ}{dx_n}\\frac{dx_n}{dx_{n-1}}$$\n",
    "\n",
    "Now we need calculate $\\frac{dQ}{dw_{n-2}}$ и $\\frac{dQ}{dx_{n-2}}$. But we have the same situation. We know $\\frac{dQ}{dx_k}$, so can evaluate $\\frac{dQ}{dw_k}$ and $\\frac{dQ}{dx_{k-1}}$. Repeating this operation we find all the gradients. Now it's only remains to make a gradient step to update weights.\n",
    "\n",
    "#### Exercises\n",
    "1. Read more about [vanishing gradient](https://en.wikipedia.org/wiki/Vanishing_gradient_problem).\n",
    "2. Train 2 layer net. Use sigmoid as nonlinearity.\n",
    "3. Check accuracy on validation set.\n",
    "4. Use [ReLu](https://en.wikipedia.org/wiki/Rectifier_(neural_networks) or LeakyReLu as nonlinearity. Compare accuracy and convergence with previous model.\n",
    "5. Play with different architectures (add more layers, regularization and etc).\n",
    "6. Show your best model.\n",
    "7. How does quality change with adding layers. Prove your words, train model for 2, 3, 5, 7 and 10 layers.\n",
    "8. Using backpropagation find optimal  digit 8 for your net.*"
   ]
  },
  {
   "cell_type": "code",
   "execution_count": 163,
   "metadata": {},
   "outputs": [],
   "source": [
    "def compute_accuracy(sizes=[784, 10], nonlinearity=\"leakyrelu\", alpha=0.1, lambda1 = 1e-4, lambda2 = 1e-4,\n",
    "                     grad_speed=0.5, epoches=5, batch_size=64, parts=5, cross_valid=False):\n",
    "    if sizes[0] != 784:\n",
    "        sizes.insert(0, 784)\n",
    "    if sizes[-1] != 10:\n",
    "        sizes.append(10)\n",
    "    n = len(sizes) - 1\n",
    "    x = tf.placeholder(tf.float32, shape=[None, 784])\n",
    "    y_labels = tf.placeholder(tf.float32, shape=[None, 10])\n",
    "    W = list()\n",
    "    b = list()\n",
    "    for i in range(n):\n",
    "        W.append(tf.Variable(tf.truncated_normal([sizes[i], sizes[i + 1]], stddev=0.1)))\n",
    "        b.append(tf.Variable(tf.constant(0.1, shape=[sizes[i + 1]])))\n",
    "\n",
    "    x_interim = list()\n",
    "    x_interim.append(x)\n",
    "    if nonlinearity == \"sigmoid\":\n",
    "        for i in range(n - 1):\n",
    "            x_interim.append(tf.sigmoid(tf.matmul(x_interim[i], W[i]) + b[i]))\n",
    "    elif nonlinearity == \"relu\":\n",
    "        for i in range(n - 1):\n",
    "            x_interim.append(tf.nn.relu(tf.matmul(x_interim[i], W[i]) + b[i]))\n",
    "    elif nonlinearity == \"leakyrelu\":\n",
    "        def lrelu(x, alpha):\n",
    "            return tf.nn.relu(x) - alpha * tf.nn.relu(-x)\n",
    "        for i in range(n - 1):\n",
    "            x_interim.append(lrelu(tf.matmul(x_interim[i], W[i]) + b[i], alpha))\n",
    "    else:\n",
    "        raise RuntimeError(\"I does't kwon this function\")\n",
    "    \n",
    "    y = tf.matmul(x_interim[n - 1], W[n - 1]) + b[n - 1]\n",
    "\n",
    "    '''\n",
    "    lamb1 = tf.constant(lambda1)\n",
    "    lamb2 = tf.constant(lambda2)\n",
    "\n",
    "    l1 = tf.reduce_sum(tf.abs(W))\n",
    "    l2 = tf.reduce_sum(tf.square(W))\n",
    "\n",
    "    cross_entropy = tf.reduce_mean(tf.nn.softmax_cross_entropy_with_logits(labels=y_labels, logits=y)) \\\n",
    "        + lamb1 * l1 + lamb2 * l2\n",
    "    '''\n",
    "    cross_entropy = tf.reduce_mean(tf.nn.softmax_cross_entropy_with_logits(labels=y_labels, logits=y))\n",
    "\n",
    "    train_step = tf.train.GradientDescentOptimizer(grad_speed).minimize(cross_entropy)\n",
    "\n",
    "    correct_prediction = tf.equal(tf.argmax(y, 1), tf.argmax(y_labels, 1))\n",
    "    accuracy = tf.reduce_mean(tf.cast(correct_prediction, tf.float32))\n",
    "    \n",
    "                     \n",
    "    acc_train = 0.0\n",
    "    acc_test = 0.0\n",
    "    with tf.Session() as sess:\n",
    "        for X_train, Y_train, X_test, Y_test in cross_validation(data, labels, parts, one_time=not cross_valid):\n",
    "            sess.run(tf.global_variables_initializer())\n",
    "            for i in range(epoches):\n",
    "                for batch_x, batch_y in next_batch(X_train, Y_train, batch_size):\n",
    "                    sess.run(train_step, feed_dict={x: batch_x, y_labels: batch_y})\n",
    "\n",
    "            acc_train += sess.run(accuracy, feed_dict={x: X_train, y_labels: Y_train})\n",
    "            acc_test += sess.run(accuracy, feed_dict={x: X_test, y_labels: Y_test})\n",
    "\n",
    "        if (cross_valid):\n",
    "            acc_train /= parts\n",
    "            acc_test /= parts\n",
    "    return acc_train, acc_test"
   ]
  },
  {
   "cell_type": "code",
   "execution_count": null,
   "metadata": {},
   "outputs": [],
   "source": [
    "'''\n",
    "sizes=[200, 100] #оч примерно\n",
    "nonlinearity=\"leakyrelu\"\n",
    "alpha=0.05 [-0.025, +0.025]\n",
    "batch_size=64 [-16, +32]\n",
    "epoches=20"
   ]
  },
  {
   "cell_type": "code",
   "execution_count": 155,
   "metadata": {},
   "outputs": [
    {
     "name": "stdout",
     "output_type": "stream",
     "text": [
      "Train and test accuracity with sizes = [784, 400, 10] \n",
      "train =  0.990951156616 \ttest = 0.969833564758 \n",
      "\n",
      "Train and test accuracity with sizes = [784, 300, 10] \n",
      "train =  0.988707113266 \ttest = 0.967428779602 \n",
      "\n",
      "Train and test accuracity with sizes = [784, 200, 10] \n",
      "train =  0.986701154709 \ttest = 0.967047858238 \n",
      "\n",
      "Train and test accuracity with sizes = [784, 100, 10] \n",
      "train =  0.982873821259 \ttest = 0.965333533287 \n",
      "\n",
      "Train and test accuracity with sizes = [784, 400, 10] \n",
      "train =  0.999986839294 \ttest = 0.976262152195 \n",
      "\n",
      "Train and test accuracity with sizes = [784, 300, 10] \n",
      "train =  0.999957084656 \ttest = 0.975690710545 \n",
      "\n",
      "Train and test accuracity with sizes = [784, 200, 10] \n",
      "train =  0.999945187569 \ttest = 0.974714517593 \n",
      "\n",
      "Train and test accuracity with sizes = [784, 100, 10] \n",
      "train =  0.999635589123 \ttest = 0.972333538532 \n",
      "\n"
     ]
    }
   ],
   "source": [
    "s = [400]\n",
    "acc1, acc2 = compute_accuracy(sizes=s, epoches=5, cross_valid=True)\n",
    "print(\"Train and test accuracity with sizes =\", s, \"\\ntrain =\", acc1, \"\\ttest =\", acc2, \"\\n\")\n",
    "\n",
    "s = [300]\n",
    "acc1, acc2 = compute_accuracy(sizes=s, epoches=5, cross_valid=True)\n",
    "print(\"Train and test accuracity with sizes =\", s, \"\\ntrain =\", acc1, \"\\ttest =\", acc2, \"\\n\")\n",
    "\n",
    "s = [200]\n",
    "acc1, acc2 = compute_accuracy(sizes=s, epoches=5, cross_valid=True)\n",
    "print(\"Train and test accuracity with sizes =\", s, \"\\ntrain =\", acc1, \"\\ttest =\", acc2, \"\\n\")\n",
    "\n",
    "s = [100]\n",
    "acc1, acc2 = compute_accuracy(sizes=s, epoches=5, cross_valid=True)\n",
    "print(\"Train and test accuracity with sizes =\", s, \"\\ntrain =\", acc1, \"\\ttest =\", acc2, \"\\n\")\n",
    "\n",
    "s = [400]\n",
    "acc1, acc2 = compute_accuracy(sizes=s, epoches=20, cross_valid=True)\n",
    "print(\"Train and test accuracity with sizes =\", s, \"\\ntrain =\", acc1, \"\\ttest =\", acc2, \"\\n\")\n",
    "\n",
    "s = [300]\n",
    "acc1, acc2 = compute_accuracy(sizes=s, epoches=20, cross_valid=True)\n",
    "print(\"Train and test accuracity with sizes =\", s, \"\\ntrain =\", acc1, \"\\ttest =\", acc2, \"\\n\")\n",
    "\n",
    "s = [200]\n",
    "acc1, acc2 = compute_accuracy(sizes=s, epoches=20, cross_valid=True)\n",
    "print(\"Train and test accuracity with sizes =\", s, \"\\ntrain =\", acc1, \"\\ttest =\", acc2, \"\\n\")\n",
    "\n",
    "s = [100]\n",
    "acc1, acc2 = compute_accuracy(sizes=s, epoches=20, cross_valid=True)\n",
    "print(\"Train and test accuracity with sizes =\", s, \"\\ntrain =\", acc1, \"\\ttest =\", acc2, \"\\n\")\n"
   ]
  },
  {
   "cell_type": "code",
   "execution_count": 164,
   "metadata": {},
   "outputs": [
    {
     "name": "stdout",
     "output_type": "stream",
     "text": [
      "Train and test accuracity with sizes = [784, 150, 10] \n",
      "train = 0.9872428298 \ttest = 0.968833553791 \n",
      "\n",
      "Train and test accuracity with sizes = [784, 100, 10] \n",
      "train = 0.981397593021 \ttest = 0.963262104988 \n",
      "\n"
     ]
    }
   ],
   "source": [
    "s = [150]\n",
    "acc1, acc2 = compute_accuracy(sizes=s, epoches=5, cross_valid=True)\n",
    "print(\"Train and test accuracity with sizes =\", s, \"\\ntrain =\", acc1, \"\\ttest =\", acc2, \"\\n\")\n",
    "\n",
    "s = [100]\n",
    "acc1, acc2 = compute_accuracy(sizes=s, epoches=5, cross_valid=True)\n",
    "print(\"Train and test accuracity with sizes =\", s, \"\\ntrain =\", acc1, \"\\ttest =\", acc2, \"\\n\")\n"
   ]
  },
  {
   "cell_type": "code",
   "execution_count": 165,
   "metadata": {},
   "outputs": [
    {
     "name": "stdout",
     "output_type": "stream",
     "text": [
      "Train and test accuracity with sizes = [784, 150, 100, 10] \n",
      "train = 0.988457083702 \ttest = 0.968976426125 \n",
      "\n",
      "Train and test accuracity with sizes = [784, 100, 50, 10] \n",
      "train = 0.981867849827 \ttest = 0.964881181717 \n",
      "\n",
      "Train and test accuracity with sizes = [784, 150, 100, 50, 10] \n",
      "train = 0.980439293385 \ttest = 0.963428783417 \n",
      "\n",
      "Train and test accuracity with sizes = [784, 150, 100, 10] \n",
      "train = 0.999867773056 \ttest = 0.977428817749 \n",
      "\n",
      "Train and test accuracity with sizes = [784, 100, 50, 10] \n",
      "train = 0.995927298069 \ttest = 0.970714509487 \n",
      "\n",
      "Train and test accuracity with sizes = [784, 150, 100, 50, 10] \n",
      "train = 0.995433282852 \ttest = 0.972476410866 \n",
      "\n"
     ]
    }
   ],
   "source": [
    "s = [150, 100]\n",
    "acc1, acc2 = compute_accuracy(sizes=s, epoches=5, cross_valid=True)\n",
    "print(\"Train and test accuracity with sizes =\", s, \"\\ntrain =\", acc1, \"\\ttest =\", acc2, \"\\n\")\n",
    "\n",
    "s = [100, 50]\n",
    "acc1, acc2 = compute_accuracy(sizes=s, epoches=5, cross_valid=True)\n",
    "print(\"Train and test accuracity with sizes =\", s, \"\\ntrain =\", acc1, \"\\ttest =\", acc2, \"\\n\")\n",
    "\n",
    "s = [150, 100, 50]\n",
    "acc1, acc2 = compute_accuracy(sizes=s, epoches=5, cross_valid=True)\n",
    "print(\"Train and test accuracity with sizes =\", s, \"\\ntrain =\", acc1, \"\\ttest =\", acc2, \"\\n\")\n",
    "\n",
    "s = [150, 100]\n",
    "acc1, acc2 = compute_accuracy(sizes=s, epoches=20, cross_valid=True)\n",
    "print(\"Train and test accuracity with sizes =\", s, \"\\ntrain =\", acc1, \"\\ttest =\", acc2, \"\\n\")\n",
    "\n",
    "s = [100, 50]\n",
    "acc1, acc2 = compute_accuracy(sizes=s, epoches=20, cross_valid=True)\n",
    "print(\"Train and test accuracity with sizes =\", s, \"\\ntrain =\", acc1, \"\\ttest =\", acc2, \"\\n\")\n",
    "\n",
    "s = [150, 100, 50]\n",
    "acc1, acc2 = compute_accuracy(sizes=s, epoches=20, cross_valid=True)\n",
    "print(\"Train and test accuracity with sizes =\", s, \"\\ntrain =\", acc1, \"\\ttest =\", acc2, \"\\n\")\n"
   ]
  },
  {
   "cell_type": "code",
   "execution_count": 166,
   "metadata": {},
   "outputs": [
    {
     "name": "stdout",
     "output_type": "stream",
     "text": [
      "Train and test accuracity with sizes = [784, 150, 125, 100, 75, 50, 25, 10] \n",
      "train = 0.458261400461 \ttest = 0.449309591949 \n",
      "\n"
     ]
    }
   ],
   "source": [
    "s = [150, 125, 100, 75, 50, 25]\n",
    "acc1, acc2 = compute_accuracy(sizes=s, epoches=30, cross_valid=True)\n",
    "print(\"Train and test accuracity with sizes =\", s, \"\\ntrain =\", acc1, \"\\ttest =\", acc2, \"\\n\")"
   ]
  },
  {
   "cell_type": "code",
   "execution_count": 173,
   "metadata": {},
   "outputs": [
    {
     "name": "stdout",
     "output_type": "stream",
     "text": [
      "Train and test accuracity with sizes = [784, 200, 100, 10] \n",
      "train = 0.999861824512 \ttest = 0.977238333225 \n",
      "\n",
      "Train and test accuracity with sizes = [784, 200, 100, 10] \n",
      "train = 0.999998748302 \ttest = 0.977809762955 \n",
      "\n",
      "Train and test accuracity with sizes = [784, 200, 100, 10] \n",
      "train = 0.999843978882 \ttest = 0.97664308548 \n",
      "\n",
      "Train and test accuracity with sizes = [784, 200, 100, 10] \n",
      "train = 0.997504663467 \ttest = 0.974381196499 \n",
      "\n",
      "Train and test accuracity with sizes = [784, 200, 100, 10] \n",
      "train = 0.991582095623 \ttest = 0.967928814888 \n",
      "\n"
     ]
    },
    {
     "ename": "KeyboardInterrupt",
     "evalue": "",
     "output_type": "error",
     "traceback": [
      "\u001b[0;31m-\u001b[0m",
      "\u001b[0;31mKeyboardInterrupt\u001b[0mTraceback (most recent call last)",
      "\u001b[0;32m<ipython-input-173-a271149f238b>\u001b[0m in \u001b[0;36m<module>\u001b[0;34m()\u001b[0m\n\u001b[1;32m     20\u001b[0m \u001b[0;34m\u001b[0m\u001b[0m\n\u001b[1;32m     21\u001b[0m \u001b[0ms\u001b[0m \u001b[0;34m=\u001b[0m \u001b[0;34m[\u001b[0m\u001b[0;36m200\u001b[0m\u001b[0;34m,\u001b[0m \u001b[0;36m100\u001b[0m\u001b[0;34m]\u001b[0m\u001b[0;34m\u001b[0m\u001b[0m\n\u001b[0;32m---> 22\u001b[0;31m \u001b[0macc1\u001b[0m\u001b[0;34m,\u001b[0m \u001b[0macc2\u001b[0m \u001b[0;34m=\u001b[0m \u001b[0mcompute_accuracy\u001b[0m\u001b[0;34m(\u001b[0m\u001b[0msizes\u001b[0m\u001b[0;34m=\u001b[0m\u001b[0ms\u001b[0m\u001b[0;34m,\u001b[0m \u001b[0mepoches\u001b[0m\u001b[0;34m=\u001b[0m\u001b[0;36m20\u001b[0m\u001b[0;34m,\u001b[0m \u001b[0malpha\u001b[0m\u001b[0;34m=\u001b[0m\u001b[0;36m0.25\u001b[0m\u001b[0;34m,\u001b[0m \u001b[0mcross_valid\u001b[0m\u001b[0;34m=\u001b[0m\u001b[0;32mTrue\u001b[0m\u001b[0;34m)\u001b[0m\u001b[0;34m\u001b[0m\u001b[0m\n\u001b[0m\u001b[1;32m     23\u001b[0m \u001b[0mprint\u001b[0m\u001b[0;34m(\u001b[0m\u001b[0;34m\"Train and test accuracity with sizes =\"\u001b[0m\u001b[0;34m,\u001b[0m \u001b[0ms\u001b[0m\u001b[0;34m,\u001b[0m \u001b[0;34m\"\\ntrain =\"\u001b[0m\u001b[0;34m,\u001b[0m \u001b[0macc1\u001b[0m\u001b[0;34m,\u001b[0m \u001b[0;34m\"\\ttest =\"\u001b[0m\u001b[0;34m,\u001b[0m \u001b[0macc2\u001b[0m\u001b[0;34m,\u001b[0m \u001b[0;34m\"\\n\"\u001b[0m\u001b[0;34m)\u001b[0m\u001b[0;34m\u001b[0m\u001b[0m\n",
      "\u001b[0;32m<ipython-input-163-d6c030644404>\u001b[0m in \u001b[0;36mcompute_accuracy\u001b[0;34m(sizes, nonlinearity, alpha, lambda1, lambda2, grad_speed, epoches, batch_size, parts, cross_valid)\u001b[0m\n\u001b[1;32m     57\u001b[0m             \u001b[0;32mfor\u001b[0m \u001b[0mi\u001b[0m \u001b[0;32min\u001b[0m \u001b[0mrange\u001b[0m\u001b[0;34m(\u001b[0m\u001b[0mepoches\u001b[0m\u001b[0;34m)\u001b[0m\u001b[0;34m:\u001b[0m\u001b[0;34m\u001b[0m\u001b[0m\n\u001b[1;32m     58\u001b[0m                 \u001b[0;32mfor\u001b[0m \u001b[0mbatch_x\u001b[0m\u001b[0;34m,\u001b[0m \u001b[0mbatch_y\u001b[0m \u001b[0;32min\u001b[0m \u001b[0mnext_batch\u001b[0m\u001b[0;34m(\u001b[0m\u001b[0mX_train\u001b[0m\u001b[0;34m,\u001b[0m \u001b[0mY_train\u001b[0m\u001b[0;34m,\u001b[0m \u001b[0mbatch_size\u001b[0m\u001b[0;34m)\u001b[0m\u001b[0;34m:\u001b[0m\u001b[0;34m\u001b[0m\u001b[0m\n\u001b[0;32m---> 59\u001b[0;31m                     \u001b[0msess\u001b[0m\u001b[0;34m.\u001b[0m\u001b[0mrun\u001b[0m\u001b[0;34m(\u001b[0m\u001b[0mtrain_step\u001b[0m\u001b[0;34m,\u001b[0m \u001b[0mfeed_dict\u001b[0m\u001b[0;34m=\u001b[0m\u001b[0;34m{\u001b[0m\u001b[0mx\u001b[0m\u001b[0;34m:\u001b[0m \u001b[0mbatch_x\u001b[0m\u001b[0;34m,\u001b[0m \u001b[0my_labels\u001b[0m\u001b[0;34m:\u001b[0m \u001b[0mbatch_y\u001b[0m\u001b[0;34m}\u001b[0m\u001b[0;34m)\u001b[0m\u001b[0;34m\u001b[0m\u001b[0m\n\u001b[0m\u001b[1;32m     60\u001b[0m \u001b[0;34m\u001b[0m\u001b[0m\n\u001b[1;32m     61\u001b[0m             \u001b[0macc_train\u001b[0m \u001b[0;34m+=\u001b[0m \u001b[0msess\u001b[0m\u001b[0;34m.\u001b[0m\u001b[0mrun\u001b[0m\u001b[0;34m(\u001b[0m\u001b[0maccuracy\u001b[0m\u001b[0;34m,\u001b[0m \u001b[0mfeed_dict\u001b[0m\u001b[0;34m=\u001b[0m\u001b[0;34m{\u001b[0m\u001b[0mx\u001b[0m\u001b[0;34m:\u001b[0m \u001b[0mX_train\u001b[0m\u001b[0;34m,\u001b[0m \u001b[0my_labels\u001b[0m\u001b[0;34m:\u001b[0m \u001b[0mY_train\u001b[0m\u001b[0;34m}\u001b[0m\u001b[0;34m)\u001b[0m\u001b[0;34m\u001b[0m\u001b[0m\n",
      "\u001b[0;32m/usr/local/lib/python3.6/dist-packages/tensorflow/python/client/session.py\u001b[0m in \u001b[0;36mrun\u001b[0;34m(self, fetches, feed_dict, options, run_metadata)\u001b[0m\n\u001b[1;32m    893\u001b[0m     \u001b[0;32mtry\u001b[0m\u001b[0;34m:\u001b[0m\u001b[0;34m\u001b[0m\u001b[0m\n\u001b[1;32m    894\u001b[0m       result = self._run(None, fetches, feed_dict, options_ptr,\n\u001b[0;32m--> 895\u001b[0;31m                          run_metadata_ptr)\n\u001b[0m\u001b[1;32m    896\u001b[0m       \u001b[0;32mif\u001b[0m \u001b[0mrun_metadata\u001b[0m\u001b[0;34m:\u001b[0m\u001b[0;34m\u001b[0m\u001b[0m\n\u001b[1;32m    897\u001b[0m         \u001b[0mproto_data\u001b[0m \u001b[0;34m=\u001b[0m \u001b[0mtf_session\u001b[0m\u001b[0;34m.\u001b[0m\u001b[0mTF_GetBuffer\u001b[0m\u001b[0;34m(\u001b[0m\u001b[0mrun_metadata_ptr\u001b[0m\u001b[0;34m)\u001b[0m\u001b[0;34m\u001b[0m\u001b[0m\n",
      "\u001b[0;32m/usr/local/lib/python3.6/dist-packages/tensorflow/python/client/session.py\u001b[0m in \u001b[0;36m_run\u001b[0;34m(self, handle, fetches, feed_dict, options, run_metadata)\u001b[0m\n\u001b[1;32m   1122\u001b[0m     \u001b[0;32mif\u001b[0m \u001b[0mfinal_fetches\u001b[0m \u001b[0;32mor\u001b[0m \u001b[0mfinal_targets\u001b[0m \u001b[0;32mor\u001b[0m \u001b[0;34m(\u001b[0m\u001b[0mhandle\u001b[0m \u001b[0;32mand\u001b[0m \u001b[0mfeed_dict_tensor\u001b[0m\u001b[0;34m)\u001b[0m\u001b[0;34m:\u001b[0m\u001b[0;34m\u001b[0m\u001b[0m\n\u001b[1;32m   1123\u001b[0m       results = self._do_run(handle, final_targets, final_fetches,\n\u001b[0;32m-> 1124\u001b[0;31m                              feed_dict_tensor, options, run_metadata)\n\u001b[0m\u001b[1;32m   1125\u001b[0m     \u001b[0;32melse\u001b[0m\u001b[0;34m:\u001b[0m\u001b[0;34m\u001b[0m\u001b[0m\n\u001b[1;32m   1126\u001b[0m       \u001b[0mresults\u001b[0m \u001b[0;34m=\u001b[0m \u001b[0;34m[\u001b[0m\u001b[0;34m]\u001b[0m\u001b[0;34m\u001b[0m\u001b[0m\n",
      "\u001b[0;32m/usr/local/lib/python3.6/dist-packages/tensorflow/python/client/session.py\u001b[0m in \u001b[0;36m_do_run\u001b[0;34m(self, handle, target_list, fetch_list, feed_dict, options, run_metadata)\u001b[0m\n\u001b[1;32m   1319\u001b[0m     \u001b[0;32mif\u001b[0m \u001b[0mhandle\u001b[0m \u001b[0;32mis\u001b[0m \u001b[0;32mNone\u001b[0m\u001b[0;34m:\u001b[0m\u001b[0;34m\u001b[0m\u001b[0m\n\u001b[1;32m   1320\u001b[0m       return self._do_call(_run_fn, self._session, feeds, fetches, targets,\n\u001b[0;32m-> 1321\u001b[0;31m                            options, run_metadata)\n\u001b[0m\u001b[1;32m   1322\u001b[0m     \u001b[0;32melse\u001b[0m\u001b[0;34m:\u001b[0m\u001b[0;34m\u001b[0m\u001b[0m\n\u001b[1;32m   1323\u001b[0m       \u001b[0;32mreturn\u001b[0m \u001b[0mself\u001b[0m\u001b[0;34m.\u001b[0m\u001b[0m_do_call\u001b[0m\u001b[0;34m(\u001b[0m\u001b[0m_prun_fn\u001b[0m\u001b[0;34m,\u001b[0m \u001b[0mself\u001b[0m\u001b[0;34m.\u001b[0m\u001b[0m_session\u001b[0m\u001b[0;34m,\u001b[0m \u001b[0mhandle\u001b[0m\u001b[0;34m,\u001b[0m \u001b[0mfeeds\u001b[0m\u001b[0;34m,\u001b[0m \u001b[0mfetches\u001b[0m\u001b[0;34m)\u001b[0m\u001b[0;34m\u001b[0m\u001b[0m\n",
      "\u001b[0;32m/usr/local/lib/python3.6/dist-packages/tensorflow/python/client/session.py\u001b[0m in \u001b[0;36m_do_call\u001b[0;34m(self, fn, *args)\u001b[0m\n\u001b[1;32m   1325\u001b[0m   \u001b[0;32mdef\u001b[0m \u001b[0m_do_call\u001b[0m\u001b[0;34m(\u001b[0m\u001b[0mself\u001b[0m\u001b[0;34m,\u001b[0m \u001b[0mfn\u001b[0m\u001b[0;34m,\u001b[0m \u001b[0;34m*\u001b[0m\u001b[0margs\u001b[0m\u001b[0;34m)\u001b[0m\u001b[0;34m:\u001b[0m\u001b[0;34m\u001b[0m\u001b[0m\n\u001b[1;32m   1326\u001b[0m     \u001b[0;32mtry\u001b[0m\u001b[0;34m:\u001b[0m\u001b[0;34m\u001b[0m\u001b[0m\n\u001b[0;32m-> 1327\u001b[0;31m       \u001b[0;32mreturn\u001b[0m \u001b[0mfn\u001b[0m\u001b[0;34m(\u001b[0m\u001b[0;34m*\u001b[0m\u001b[0margs\u001b[0m\u001b[0;34m)\u001b[0m\u001b[0;34m\u001b[0m\u001b[0m\n\u001b[0m\u001b[1;32m   1328\u001b[0m     \u001b[0;32mexcept\u001b[0m \u001b[0merrors\u001b[0m\u001b[0;34m.\u001b[0m\u001b[0mOpError\u001b[0m \u001b[0;32mas\u001b[0m \u001b[0me\u001b[0m\u001b[0;34m:\u001b[0m\u001b[0;34m\u001b[0m\u001b[0m\n\u001b[1;32m   1329\u001b[0m       \u001b[0mmessage\u001b[0m \u001b[0;34m=\u001b[0m \u001b[0mcompat\u001b[0m\u001b[0;34m.\u001b[0m\u001b[0mas_text\u001b[0m\u001b[0;34m(\u001b[0m\u001b[0me\u001b[0m\u001b[0;34m.\u001b[0m\u001b[0mmessage\u001b[0m\u001b[0;34m)\u001b[0m\u001b[0;34m\u001b[0m\u001b[0m\n",
      "\u001b[0;32m/usr/local/lib/python3.6/dist-packages/tensorflow/python/client/session.py\u001b[0m in \u001b[0;36m_run_fn\u001b[0;34m(session, feed_dict, fetch_list, target_list, options, run_metadata)\u001b[0m\n\u001b[1;32m   1304\u001b[0m           return tf_session.TF_Run(session, options,\n\u001b[1;32m   1305\u001b[0m                                    \u001b[0mfeed_dict\u001b[0m\u001b[0;34m,\u001b[0m \u001b[0mfetch_list\u001b[0m\u001b[0;34m,\u001b[0m \u001b[0mtarget_list\u001b[0m\u001b[0;34m,\u001b[0m\u001b[0;34m\u001b[0m\u001b[0m\n\u001b[0;32m-> 1306\u001b[0;31m                                    status, run_metadata)\n\u001b[0m\u001b[1;32m   1307\u001b[0m \u001b[0;34m\u001b[0m\u001b[0m\n\u001b[1;32m   1308\u001b[0m     \u001b[0;32mdef\u001b[0m \u001b[0m_prun_fn\u001b[0m\u001b[0;34m(\u001b[0m\u001b[0msession\u001b[0m\u001b[0;34m,\u001b[0m \u001b[0mhandle\u001b[0m\u001b[0;34m,\u001b[0m \u001b[0mfeed_dict\u001b[0m\u001b[0;34m,\u001b[0m \u001b[0mfetch_list\u001b[0m\u001b[0;34m)\u001b[0m\u001b[0;34m:\u001b[0m\u001b[0;34m\u001b[0m\u001b[0m\n",
      "\u001b[0;31mKeyboardInterrupt\u001b[0m: "
     ]
    }
   ],
   "source": [
    "s = [200, 100]\n",
    "acc1, acc2 = compute_accuracy(sizes=s, epoches=20, alpha=0.0, cross_valid=True)\n",
    "print(\"Train and test accuracity with sizes =\", s, \"\\ntrain =\", acc1, \"\\ttest =\", acc2, \"\\n\")\n",
    "\n",
    "s = [200, 100]\n",
    "acc1, acc2 = compute_accuracy(sizes=s, epoches=20, alpha=0.05, cross_valid=True)\n",
    "print(\"Train and test accuracity with sizes =\", s, \"\\ntrain =\", acc1, \"\\ttest =\", acc2, \"\\n\")\n",
    "\n",
    "s = [200, 100]\n",
    "acc1, acc2 = compute_accuracy(sizes=s, epoches=20, alpha=0.1, cross_valid=True)\n",
    "print(\"Train and test accuracity with sizes =\", s, \"\\ntrain =\", acc1, \"\\ttest =\", acc2, \"\\n\")\n",
    "\n",
    "s = [200, 100]\n",
    "acc1, acc2 = compute_accuracy(sizes=s, epoches=20, alpha=0.15, cross_valid=True)\n",
    "print(\"Train and test accuracity with sizes =\", s, \"\\ntrain =\", acc1, \"\\ttest =\", acc2, \"\\n\")\n",
    "\n",
    "s = [200, 100]\n",
    "acc1, acc2 = compute_accuracy(sizes=s, epoches=20, alpha=0.2, cross_valid=True)\n",
    "print(\"Train and test accuracity with sizes =\", s, \"\\ntrain =\", acc1, \"\\ttest =\", acc2, \"\\n\")\n",
    "\n",
    "s = [200, 100]\n",
    "acc1, acc2 = compute_accuracy(sizes=s, epoches=20, alpha=0.25, cross_valid=True)\n",
    "print(\"Train and test accuracity with sizes =\", s, \"\\ntrain =\", acc1, \"\\ttest =\", acc2, \"\\n\")"
   ]
  },
  {
   "cell_type": "code",
   "execution_count": null,
   "metadata": {},
   "outputs": [],
   "source": []
  },
  {
   "cell_type": "markdown",
   "metadata": {},
   "source": [
    "### 4. Autoencoders\n",
    "An autoencoder is an network used for unsupervised learning of efficient codings. The aim of an autoencoder is to learn a representation (encoding) for a set of data, typically for the purpose of dimensionality reduction. Also, this technique can be used to train deep nets.\n",
    "\n",
    "Architecturally, the simplest form of an autoencoder is a feedforward net very similar to the multilayer perceptron (MLP), but with the output layer having the same number of nodes as the input layer, and with the purpose of reconstructing its own inputs. Therefore, autoencoders are unsupervised learning models. An autoencoder always consists of two parts, the encoder and the decoder. Encoder returns latent representation of the object (compressed representation, usuallu smaller dimension), but decoder restores object from this latent representation. Autoencoders are also trained to minimise reconstruction errors (e.g. MSE).\n",
    "\n",
    "Various techniques exist to prevent autoencoders from learning the identity and to improve their ability to capture important information:\n",
    "1. Denoising autoencoder - take a partially corrupted input.\n",
    "2. Sparse autoencoder - impose sparsity on the hidden units during training (whilst having a larger number of hidden units than inputs).\n",
    "3. Variational autoencoder models inherit autoencoder architecture, but make strong assumptions concerning the distribution of latent variables.\n",
    "4. Contractive autoencoder - add an explicit regularizer in objective function that forces the model to learn a function that is robust to slight variations of input values.\n",
    "\n",
    "#### Exercises\n",
    "1. Train 2 layers autoencoder that compressed mnist images to $\\mathbb{R}^3$ space.\n",
    "2. For each digit plot several samples in 3D axis (use \"%matplotlib notebook\" mode or plotly). How do digits group?\n",
    "3. Train autoencoder with more layers. What are results?\n",
    "4. Use autoencoder to pretrain 2 layers (unsupervised) and then train the following layers with supervised method."
   ]
  }
 ],
 "metadata": {
  "kernelspec": {
   "display_name": "Python 3",
   "language": "python",
   "name": "python3"
  },
  "language_info": {
   "codemirror_mode": {
    "name": "ipython",
    "version": 3
   },
   "file_extension": ".py",
   "mimetype": "text/x-python",
   "name": "python",
   "nbconvert_exporter": "python",
   "pygments_lexer": "ipython3",
   "version": "3.6.3"
  }
 },
 "nbformat": 4,
 "nbformat_minor": 1
}
