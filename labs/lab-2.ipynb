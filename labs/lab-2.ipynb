{
 "cells": [
  {
   "cell_type": "markdown",
   "metadata": {},
   "source": [
    "# L2 - Multilayer perceptron\n",
    "\n",
    "### Papers\n",
    "1. [TensorFlow](https://static.googleusercontent.com/media/research.google.com/en//pubs/archive/45166.pdf)\n",
    "\n",
    "### TensorFlow\n",
    "1. [Installing TensorFlow](https://www.tensorflow.org/install/)\n",
    "2. [Basics of TensorFlow](https://www.tensorflow.org/get_started/get_started)\n",
    "3. [Mnist with TensorFlow](https://www.tensorflow.org/get_started/mnist/pros)\n",
    "4. [TensorFlow Mechanics](https://www.tensorflow.org/get_started/mnist/mechanics)\n",
    "5. [Visualization](https://www.tensorflow.org/get_started/graph_viz)\n",
    "\n",
    "\n",
    "### One more thing\n",
    "1. [Jupyter tutorial](https://habrahabr.ru/company/wunderfund/blog/316826/)\n",
    "2. [Plot.ly](https://plot.ly/python/)\n",
    "3. [Widgets](http://jupyter.org/widgets.html)"
   ]
  },
  {
   "cell_type": "markdown",
   "metadata": {},
   "source": [
    "### 1. Linear multi-classification problem\n",
    "\n",
    "We have already learned binary linear classifier\n",
    "$$y = \\text{sign}(w^Tx).$$\n",
    "There are [several approaches](https://en.wikipedia.org/wiki/Multiclass_classification) to solve the problem of multi-class classification. For example [reduction](https://en.wikipedia.org/wiki/Multiclass_classification#Transformation_to_Binary) of problem to binary classifier or [modification](https://en.wikipedia.org/wiki/Support_vector_machine#Multiclass_SVM) of the known model. However we are interested in approaches that is applied in neural networks.\n",
    "\n",
    "For each class $c \\in 1, \\dots, |C|$ we have an individual row $w_i$ of matrix $W$. Then the probability of $x$ belonging to a particular class is equal to\n",
    "$$p_i = \\frac{\\exp(w^T_ix)}{\\sum_j \\exp(w^T_jx)}.$$\n",
    "This is nothing, but [softmax](https://en.wikipedia.org/wiki/Softmax_function) function of $Wx$.\n",
    "$$(p_1, \\dots, p_{|C|}) = \\text{softmax}(Wx).$$\n",
    "\n",
    "If you look closely, $\\text{softmax}$ is a more general variant of sigmoid. To see this, it suffices to consider the case $|C|=2$. As usual the training can be reduced to minimization of the empirical risk, namely, optimization problem\n",
    "$$\\arg\\min_W Q(W) = \\arg\\min_W -\\frac{1}{\\mathcal{l}}\\sum_y\\sum_i [y = i] \\cdot \\ln(p_i(W)).$$\n",
    "Actually, the maximization of the log-likelihood is written above.\n",
    "\n",
    "#### Exercises\n",
    "1. Find $\\frac{dQ}{dW}$ in matrix form (hint: start with $\\frac{dQ}{dw_i}$ for begining).\n",
    "2. Please plot several mnist images (e.g using grid 5x5).\n",
    "3. Train linear multi-label classifier for [mnist](https://www.kaggle.com/c/digit-recognizer) dataset with TensorFlow (possible, [this tutorial](https://www.tensorflow.org/get_started/mnist/pros) can help you).\n",
    "4. Chek accuracy on train and validation sets.\n",
    "5. Use a local [TensorBoard instance](https://www.tensorflow.org/get_started/graph_viz) to visualize resulted graph (no need to include in lab)."
   ]
  },
  {
   "cell_type": "code",
   "execution_count": 1,
   "metadata": {},
   "outputs": [
    {
     "name": "stderr",
     "output_type": "stream",
     "text": [
      "/usr/lib/python3.6/importlib/_bootstrap.py:219: RuntimeWarning: compiletime version 3.5 of module 'tensorflow.python.framework.fast_tensor_util' does not match runtime version 3.6\n",
      "  return f(*args, **kwds)\n"
     ]
    }
   ],
   "source": [
    "import numpy as np\n",
    "import pandas as pd\n",
    "import matplotlib.pyplot as plt\n",
    "import tensorflow as tf\n",
    "import time"
   ]
  },
  {
   "cell_type": "code",
   "execution_count": 2,
   "metadata": {},
   "outputs": [],
   "source": [
    "data = np.array(pd.read_csv('data/train.csv'), dtype=np.float32)\n",
    "labels = np.array(data[:, 0], dtype=np.int32)\n",
    "data = data[:, 1:]\n",
    "data /= 256.0\n",
    "#data -= np.average(data, axis=1)[:, np.newaxis]\n",
    "#data /= np.average(data**2, axis=1)[:, np.newaxis]"
   ]
  },
  {
   "cell_type": "code",
   "execution_count": 3,
   "metadata": {},
   "outputs": [
    {
     "name": "stdout",
     "output_type": "stream",
     "text": [
      "(42000, 784) (42000,)\n"
     ]
    }
   ],
   "source": [
    "print(data.shape, labels.shape)"
   ]
  },
  {
   "cell_type": "code",
   "execution_count": 4,
   "metadata": {},
   "outputs": [
    {
     "data": {
      "image/png": "[encoded data removed]",
      "text/plain": [
       "<matplotlib.figure.Figure at 0x7ff71ea71550>"
      ]
     },
     "metadata": {},
     "output_type": "display_data"
    },
    {
     "data": {
      "image/png": "[encoded data removed]",
      "text/plain": [
       "<matplotlib.figure.Figure at 0x7ff71e556fd0>"
      ]
     },
     "metadata": {},
     "output_type": "display_data"
    },
    {
     "data": {
      "image/png": "[encoded data removed]",
      "text/plain": [
       "<matplotlib.figure.Figure at 0x7ff71ea2e5f8>"
      ]
     },
     "metadata": {},
     "output_type": "display_data"
    },
    {
     "data": {
      "image/png": "[encoded data removed]",
      "text/plain": [
       "<matplotlib.figure.Figure at 0x7ff71e9b4710>"
      ]
     },
     "metadata": {},
     "output_type": "display_data"
    },
    {
     "data": {
      "image/png": "[encoded data removed]",
      "text/plain": [
       "<matplotlib.figure.Figure at 0x7ff71e91bd68>"
      ]
     },
     "metadata": {},
     "output_type": "display_data"
    }
   ],
   "source": [
    "for i in range(5):\n",
    "    img = np.array(data[i]).reshape((28, 28))\n",
    "    plt.title('Label is ' + str(labels[i]))\n",
    "    plt.imshow(img, cmap='gray')\n",
    "    plt.show()"
   ]
  },
  {
   "cell_type": "code",
   "execution_count": 5,
   "metadata": {},
   "outputs": [],
   "source": [
    "def shuffle(X, Y):\n",
    "    shuffle = np.random.permutation(X.shape[0])\n",
    "    return X[shuffle], Y[shuffle]\n",
    "\n",
    "def cross_validation(X, Y, parts, cross_valid=True):\n",
    "    X, Y = shuffle(X, Y)\n",
    "    for i in range(parts):\n",
    "        l = i * X.shape[0] // parts\n",
    "        r = (i + 1) * X.shape[0] // parts\n",
    "        test = np.zeros(X.shape[0], dtype=np.bool)\n",
    "        test[l:r] = True\n",
    "        if cross_valid or i == 0 :\n",
    "            yield X[~test], Y[~test], X[test], Y[test]\n",
    "\n",
    "def next_batch(X, Y, batch_size):\n",
    "    #X, Y = shuffle(X, Y)\n",
    "    for i in range(0, X.shape[0], batch_size):\n",
    "        j = min(i + batch_size, X.shape[0])\n",
    "        yield X[i:j], Y[i:j]"
   ]
  },
  {
   "cell_type": "code",
   "execution_count": 6,
   "metadata": {},
   "outputs": [],
   "source": [
    "x = tf.placeholder(tf.float32, shape=[None, 784], name=\"data\")\n",
    "y_labels = tf.placeholder(tf.int32, shape=[None], name=\"labels\")\n",
    "\n",
    "W = tf.Variable(tf.zeros([784, 10]))\n",
    "b = tf.Variable(tf.zeros([10]))\n",
    "\n",
    "y = tf.matmul(x, W) + b\n",
    "\n",
    "cross_entropy = tf.reduce_mean(tf.nn.sparse_softmax_cross_entropy_with_logits(labels=y_labels, logits=y))\n",
    "\n",
    "train_step = tf.train.GradientDescentOptimizer(0.5).minimize(cross_entropy)\n",
    "\n",
    "correct_prediction = tf.equal(tf.argmax(y, 1, output_type=tf.int32), y_labels)\n",
    "accuracy = tf.reduce_mean(tf.cast(correct_prediction, tf.float32))"
   ]
  },
  {
   "cell_type": "code",
   "execution_count": 7,
   "metadata": {},
   "outputs": [
    {
     "name": "stdout",
     "output_type": "stream",
     "text": [
      "34.554784059524536\n",
      "Accuracy on train set = 0.931357145309\n",
      "Accuracy on test set = 0.916976177692\n",
      "___________________________________\n"
     ]
    }
   ],
   "source": [
    "batch_size = 64\n",
    "acc_test = 0.0\n",
    "acc_train = 0.0\n",
    "parts = 5\n",
    "epoches = 10\n",
    "start = time.time()\n",
    "with tf.Session() as sess:\n",
    "    for X_train, Y_train, X_test, Y_test in cross_validation(data, labels, parts):\n",
    "        sess.run(tf.global_variables_initializer())\n",
    "        for i in range(epoches):\n",
    "            for batch_x, batch_y in next_batch(X_train, Y_train, batch_size):\n",
    "                sess.run(train_step, feed_dict={x: batch_x, y_labels: batch_y})\n",
    "\n",
    "        acc_train += sess.run(accuracy, feed_dict={x: X_train, y_labels: Y_train})\n",
    "        acc_test += sess.run(accuracy, feed_dict={x: X_test, y_labels: Y_test})\n",
    "    acc_test /= parts\n",
    "    acc_train /= parts\n",
    "\n",
    "print(time.time() - start)\n",
    "print(\"Accuracy on train set =\", acc_train)\n",
    "print(\"Accuracy on test set =\", acc_test)\n",
    "print(\"___________________________________\")\n"
   ]
  },
  {
   "cell_type": "code",
   "execution_count": 8,
   "metadata": {},
   "outputs": [],
   "source": [
    "x = tf.placeholder(tf.float32, shape=[None, 784], name=\"data\")\n",
    "y_labels = tf.placeholder(tf.int32, shape=[None], name=\"labels\")\n",
    "\n",
    "y = tf.layers.dense(inputs=x,\n",
    "                    units=10,\n",
    "                    use_bias=True,\n",
    "                   )\n",
    "\n",
    "cross_entropy = tf.reduce_mean(tf.nn.sparse_softmax_cross_entropy_with_logits(labels=y_labels, logits=y))\n",
    "\n",
    "train_step = tf.train.GradientDescentOptimizer(0.5).minimize(cross_entropy)\n",
    "\n",
    "correct_prediction = tf.equal(tf.argmax(y, 1, output_type=tf.int32), y_labels)\n",
    "accuracy = tf.reduce_mean(tf.cast(correct_prediction, tf.float32))"
   ]
  },
  {
   "cell_type": "code",
   "execution_count": 9,
   "metadata": {},
   "outputs": [
    {
     "name": "stdout",
     "output_type": "stream",
     "text": [
      "27.676358222961426\n",
      "Accuracy on train set = 0.924702382088\n",
      "Accuracy on test set = 0.911523807049\n",
      "___________________________________\n"
     ]
    }
   ],
   "source": [
    "batch_size = 64\n",
    "acc_test = 0.0\n",
    "acc_train = 0.0\n",
    "parts = 5\n",
    "epoches = 10\n",
    "start = time.time()\n",
    "with tf.Session() as sess:\n",
    "    for X_train, Y_train, X_test, Y_test in cross_validation(data, labels, parts):\n",
    "        sess.run(tf.global_variables_initializer())\n",
    "        for i in range(epoches):\n",
    "            for batch_x, batch_y in next_batch(X_train, Y_train, batch_size):\n",
    "                sess.run(train_step, feed_dict={x: batch_x, y_labels: batch_y})\n",
    "\n",
    "        acc_train += sess.run(accuracy, feed_dict={x: X_train, y_labels: Y_train})\n",
    "        acc_test += sess.run(accuracy, feed_dict={x: X_test, y_labels: Y_test})\n",
    "    acc_test /= parts\n",
    "    acc_train /= parts\n",
    "\n",
    "print(time.time() - start)\n",
    "print(\"Accuracy on train set =\", acc_train)\n",
    "print(\"Accuracy on test set =\", acc_test)\n",
    "print(\"___________________________________\")\n"
   ]
  },
  {
   "cell_type": "markdown",
   "metadata": {},
   "source": [
    "Let's briefly touch on themes of regularization. As was discussed before, there are different approaches. We focus on the modification of loss function.\n",
    "\n",
    "$$\\arg\\min_W -\\frac{1}{\\mathcal{l}}\\sum_y\\sum_i [y = i] \\cdot \\ln(p_i(W)) + \\lambda_1 L_1(W) + \\lambda_2 L_2(W)$$\n",
    "\n",
    "1. $L_1(W) = sum_{i,j} |w_{i,j}|$ - sparsify weights (force to not use uncorrelated features)\n",
    "2. $L_2(W) = sum_{i,j} w_{i,j}^2$ - minimize weights (force to not overfit)\n",
    "\n",
    "#### Exercises\n",
    "1. Train model again using both type of regularization.\n",
    "2. Plot matrix of weights.\n",
    "3. Which pixels have zero weights? What does it mean?\n",
    "4. Have you improved accuracy on validation?"
   ]
  },
  {
   "cell_type": "code",
   "execution_count": 10,
   "metadata": {},
   "outputs": [],
   "source": [
    "y = tf.layers.dense(inputs=x,\n",
    "                    units=10,\n",
    "                    use_bias=True,\n",
    "                    kernel_regularizer=tf.contrib.layers.l1_l2_regularizer(scale_l1=1e-4, scale_l2=1e-4)\n",
    "                   )\n",
    "\n",
    "cross_entropy = tf.reduce_mean(tf.nn.sparse_softmax_cross_entropy_with_logits(labels=y_labels, logits=y)) \\\n",
    "                + tf.losses.get_regularization_loss()\n",
    "\n",
    "train_step = tf.train.GradientDescentOptimizer(0.5).minimize(cross_entropy)\n",
    "\n",
    "correct_prediction = tf.equal(tf.argmax(y, 1, output_type=tf.int32), y_labels)\n",
    "accuracy = tf.reduce_mean(tf.cast(correct_prediction, tf.float32))"
   ]
  },
  {
   "cell_type": "code",
   "execution_count": 11,
   "metadata": {},
   "outputs": [
    {
     "name": "stdout",
     "output_type": "stream",
     "text": [
      "Accuracy on train set = 0.184422624111\n",
      "Accuracy on test set = 0.182000005245\n"
     ]
    }
   ],
   "source": [
    "batch_size = 64\n",
    "epoches = 5\n",
    "parts = 5\n",
    "acc_train = 0.0\n",
    "acc_test = 0.0\n",
    "cross_valid = False\n",
    "with tf.Session() as sess:\n",
    "    for X_train, Y_train, X_test, Y_test in cross_validation(data, labels, parts, cross_valid=cross_valid):\n",
    "        sess.run(tf.global_variables_initializer())\n",
    "        for i in range(epoches):\n",
    "            for batch_x, batch_y in next_batch(X_train, Y_train, batch_size):\n",
    "                sess.run(train_step, feed_dict={x: batch_x, y_labels: batch_y})\n",
    "\n",
    "        acc_train += sess.run(accuracy, feed_dict={x: X_train, y_labels: Y_train})\n",
    "        acc_test += sess.run(accuracy, feed_dict={x: X_test, y_labels: Y_test})\n",
    "    \n",
    "    if cross_validation:\n",
    "        acc_train /= parts\n",
    "        acc_test /= parts\n",
    "\n",
    "    print(\"Accuracy on train set =\", acc_train)\n",
    "    print(\"Accuracy on test set =\", acc_test)"
   ]
  },
  {
   "cell_type": "markdown",
   "metadata": {},
   "source": [
    "### 2. Universal approximation theorem\n",
    "\n",
    "What if we add more layers to our model? Namely, we train two matrix $W_2$ and $W_1$\n",
    "$$softmax(W_2\\cdot(W_1x)).$$\n",
    "\n",
    "At first glance adding more parameters helps to increase the generalizing ability of the model. Buy actually we have the same model $softmax(Wx)$, where $W = W_2\\cdot W_1$. But everyting changes with adding ome more layer. Let's add nonlinear function $\\sigma$ between $W_2$ and $W_1$\n",
    "\n",
    "$$softmax(W_2\\cdot \\sigma(W_1x)).$$\n",
    "\n",
    "Kurt Hornik showed in 1991 that it is not the specific choice of the nonlinear function, but rather the multilayer feedforward architecture itself which gives neural networks the potential of being universal approximators. The output units are always assumed to be linear. For notational convenience, only the single output case will be shown. The general case can easily be deduced from the single output case.\n",
    "\n",
    "Let $\\sigma(\\cdot)$ be a nonconstant, bounded, and monotonically-increasing continuous function.\n",
    "Let $\\mathcal{S}_m \\subset \\mathbb{R}^m$ denote any compact set. \n",
    "Then, given any $\\varepsilon > 0$ and any coninuous function $f$ on $\\mathcal{S}_m$, there exist an integer $N$ and real constants $v_i$, $b_i$ amd real vectors $w_i$ that\n",
    "\n",
    "$$\\left| \\sum _{i=1}^{N}v_{i}\\sigma \\left( w_i^{T} x+b_i \\right) - f(x) \\right| < \\varepsilon, ~~~ \\forall x \\in \\mathcal{S}_m.$$\n",
    "\n",
    "The theorem has non-constructive proof, it meams that no estimates for $N$ and no method to find approximation's parameters.\n",
    "\n",
    "#### Exercises\n",
    "1. Let $\\sigma$ – [heaviside step function](https://en.wikipedia.org/wiki/Heaviside_step_function) and $x \\in \\{0, 1\\}^2$. Prove that $y = \\sigma(wx + b)$ can approximate boolean function **OR** (hint: use constructive proof).\n",
    "2. What about **AND** function?\n",
    "3. Is it possible to implement **XOR**? Prove your words.\n",
    "4. Prove that 2-layer network can implement any boolean function.\n",
    "\n",
    "#### More useful facts:\n",
    "1. A 2-layer network in in $\\mathbb{R}^n$ allows to define convex polyhedron..\n",
    "2. A 3-layer network in в $\\mathbb{R}^n$ allows to define a not necessarily convex and not even necessarily connected area."
   ]
  },
  {
   "cell_type": "markdown",
   "metadata": {},
   "source": [
    "### 3. Backpropagation\n",
    "Backpropagation is a method used to calculate the error contribution of each layer after a batch of data. It is a special case of an older and more general technique called automatic differentiation. In the context of learning, backpropagation is commonly used by the gradient descent optimization algorithm to adjust the weight of layers by calculating the gradient of the loss function. This technique is also sometimes called backward propagation of errors, because the error is calculated at the output and distributed back through the network layers. The main motivation of method is simplify evaluation of gradient which is complex problem for multilayer nets.\n",
    "\n",
    "We need the following notation. Let $(y^1,\\dots,y^n) = f(x^1,\\dots,x^n)$ is some differentiable function and $\\frac{dy}{dx}$ is matrix\n",
    "$$\\frac{dy}{dx} = \\Big[ J_{ij} = \\frac{\\partial y^i}{\\partial x^j} \\Big]$$\n",
    "\n",
    "Without violating the generality, we can assume that each layer is a function $x_{i} = f(x_{i-1}, w_i)$. As last layer we add loss function, so we can assume our multi-layer net as function $Q(x_0) = Q(f_n(f_{n-1}(\\dots, w_{n-1}), w_n))$.\n",
    "\n",
    "#### Forward step\n",
    "Propagation forward through the network to generate the output values. Calculation of the loss function.\n",
    "\n",
    "#### Backward step\n",
    "Let's look at last layer. We can simply find $\\frac{dQ}{dx_n}$. Now we can evaluate \n",
    "\n",
    "$$\\frac{dQ}{dw_n} = \\frac{dQ}{dx_n}\\frac{dx_n}{dw_n} \\text{ and } \\frac{dQ}{dx_{n-1}} = \\frac{dQ}{dx_n}\\frac{dx_n}{dx_{n-1}}$$\n",
    "\n",
    "Now we need calculate $\\frac{dQ}{dw_{n-2}}$ и $\\frac{dQ}{dx_{n-2}}$. But we have the same situation. We know $\\frac{dQ}{dx_k}$, so can evaluate $\\frac{dQ}{dw_k}$ and $\\frac{dQ}{dx_{k-1}}$. Repeating this operation we find all the gradients. Now it's only remains to make a gradient step to update weights.\n",
    "\n",
    "#### Exercises\n",
    "1. Read more about [vanishing gradient](https://en.wikipedia.org/wiki/Vanishing_gradient_problem).\n",
    "2. Train 2 layer net. Use sigmoid as nonlinearity.\n",
    "3. Check accuracy on validation set.\n",
    "4. Use [ReLu](https://en.wikipedia.org/wiki/Rectifier_(neural_networks) or LeakyReLu as nonlinearity. Compare accuracy and convergence with previous model.\n",
    "5. Play with different architectures (add more layers, regularization and etc).\n",
    "6. Show your best model.\n",
    "7. How does quality change with adding layers. Prove your words, train model for 2, 3, 5, 7 and 10 layers.\n",
    "8. Using backpropagation find optimal  digit 8 for your net.*"
   ]
  },
  {
   "cell_type": "code",
   "execution_count": 12,
   "metadata": {},
   "outputs": [],
   "source": [
    "def compute_accuracy(sizes=[784, 10], nonlinearity=\"leakyrelu\", alpha=0.1, lambda1 = 0.0, lambda2 = 0.0,\n",
    "                     grad_speed=0.5, epoches=5, batch_size=64, parts=5, cross_valid=False):\n",
    "    tf.get_variable_scope().reuse_variables()\n",
    "    tf.reset_default_graph()\n",
    "    if sizes[0] != 784:\n",
    "        sizes.insert(0, 784)\n",
    "    if sizes[-1] != 10:\n",
    "        sizes.append(10)\n",
    "\n",
    "    n = len(sizes)\n",
    "    \n",
    "    activation = 0\n",
    "    if nonlinearity == \"sigmoid\":\n",
    "        activation = tf.nn.sigmoid\n",
    "    elif nonlinearity == \"relu\":\n",
    "        activation = tf.nn.relu\n",
    "    elif nonlinearity == \"leakyrelu\":\n",
    "        def leaky_relu(features):\n",
    "            return tf.nn.relu(features) - alpha * tf.nn.relu(features)\n",
    "        activation = leaky_relu\n",
    "    else:\n",
    "        raise RuntimeError(\"I don't know this function\")\n",
    "\n",
    "    x = tf.placeholder(tf.float32, shape=[None, 784], name=\"data\")\n",
    "    y_labels = tf.placeholder(tf.int32, shape=[None], name=\"labels\")\n",
    "    \n",
    "    x_interim = list()\n",
    "    x_interim.append(x)\n",
    "    for i in range(1, n - 1):\n",
    "        x_interim.append(tf.layers.dense(inputs=x_interim[i - 1],\n",
    "                                         units=sizes[i],\n",
    "                                         activation=activation,\n",
    "                                         use_bias=True,\n",
    "                                         kernel_regularizer=tf.contrib.layers.l1_l2_regularizer(scale_l1=lambda1,\n",
    "                                                                                               scale_l2=lambda2\n",
    "                                                                                              ),\n",
    "                                         name=\"x\" + str(i)\n",
    "                                        )\n",
    "                        )\n",
    "                                  \n",
    "                                    \n",
    "    y = tf.layers.dense(inputs=x_interim[-1],\n",
    "                       units=sizes[-1],\n",
    "                       use_bias=True,\n",
    "                       kernel_regularizer=tf.contrib.layers.l1_l2_regularizer(scale_l1=lambda1,\n",
    "                                                                              scale_l2=lambda2\n",
    "                                                                             ),\n",
    "                        name=\"y\"\n",
    "                      )\n",
    "\n",
    "    cross_entropy = tf.reduce_mean(tf.nn.sparse_softmax_cross_entropy_with_logits(labels=y_labels, logits=y)) \\\n",
    "                    + tf.losses.get_regularization_loss()\n",
    "\n",
    "    train_step = tf.train.GradientDescentOptimizer(grad_speed).minimize(cross_entropy)\n",
    "\n",
    "    correct_prediction = tf.equal(tf.argmax(y, 1, output_type=tf.int32), y_labels)\n",
    "    accuracy = tf.reduce_mean(tf.cast(correct_prediction, tf.float32))\n",
    "                     \n",
    "    acc_train = 0.0\n",
    "    acc_test = 0.0\n",
    "    with tf.Session() as sess:\n",
    "        writer = tf.summary.FileWriter(\"/tmp/log/tensorflow/lab-2\", sess.graph)\n",
    "        for X_train, Y_train, X_test, Y_test in cross_validation(data, labels, parts, cross_valid=cross_valid):\n",
    "            sess.run(tf.global_variables_initializer())\n",
    "            for i in range(epoches):\n",
    "                for batch_x, batch_y in next_batch(X_train, Y_train, batch_size):\n",
    "                    sess.run(train_step, feed_dict={x: batch_x, y_labels: batch_y})\n",
    "\n",
    "            acc_train += sess.run(accuracy, feed_dict={x: X_train, y_labels: Y_train})\n",
    "            acc_test += sess.run(accuracy, feed_dict={x: X_test, y_labels: Y_test})\n",
    "\n",
    "        if (cross_valid):\n",
    "            acc_train /= parts\n",
    "            acc_test /= parts\n",
    "        writer.close()\n",
    "    return acc_train, acc_test"
   ]
  },
  {
   "cell_type": "code",
   "execution_count": 58,
   "metadata": {},
   "outputs": [
    {
     "name": "stdout",
     "output_type": "stream",
     "text": [
      "Train and test accuracity with sizes = [784, 200, 10] \n",
      "train = 0.990208339691 \ttest = 0.968976187706 \n",
      "\n",
      "INFO:tensorflow:Scale of 0 disables regularizer.\n"
     ]
    },
    {
     "name": "stderr",
     "output_type": "stream",
     "text": [
      "INFO:tensorflow:Scale of 0 disables regularizer.\n"
     ]
    },
    {
     "name": "stdout",
     "output_type": "stream",
     "text": [
      "INFO:tensorflow:Scale of 0 disables regularizer.\n"
     ]
    },
    {
     "name": "stderr",
     "output_type": "stream",
     "text": [
      "INFO:tensorflow:Scale of 0 disables regularizer.\n"
     ]
    },
    {
     "name": "stdout",
     "output_type": "stream",
     "text": [
      "Train and test accuracity with sizes = [784, 200, 10] \n",
      "train = 0.99099406004 \ttest = 0.972595238686 \n",
      "\n"
     ]
    }
   ],
   "source": [
    "s = [200]\n",
    "acc1, acc2 = compute_accuracy(sizes=s, epoches=5, cross_valid=True,\n",
    "                              nonlinearity=\"relu\",\n",
    "                              alpha=0.05, lambda1=0.0, lambda2=0.0)\n",
    "print(\"Train and test accuracity with sizes =\", s, \"\\ntrain =\", acc1, \"\\ttest =\", acc2, \"\\n\")\n",
    "\n"
   ]
  },
  {
   "cell_type": "code",
   "execution_count": 64,
   "metadata": {},
   "outputs": [
    {
     "name": "stdout",
     "output_type": "stream",
     "text": [
      "INFO:tensorflow:Scale of 0 disables regularizer.\n"
     ]
    },
    {
     "name": "stderr",
     "output_type": "stream",
     "text": [
      "INFO:tensorflow:Scale of 0 disables regularizer.\n"
     ]
    },
    {
     "name": "stdout",
     "output_type": "stream",
     "text": [
      "INFO:tensorflow:Scale of 0 disables regularizer.\n"
     ]
    },
    {
     "name": "stderr",
     "output_type": "stream",
     "text": [
      "INFO:tensorflow:Scale of 0 disables regularizer.\n"
     ]
    },
    {
     "name": "stdout",
     "output_type": "stream",
     "text": [
      "INFO:tensorflow:Scale of 0 disables regularizer.\n"
     ]
    },
    {
     "name": "stderr",
     "output_type": "stream",
     "text": [
      "INFO:tensorflow:Scale of 0 disables regularizer.\n"
     ]
    },
    {
     "name": "stdout",
     "output_type": "stream",
     "text": [
      "INFO:tensorflow:Scale of 0 disables regularizer.\n"
     ]
    },
    {
     "name": "stderr",
     "output_type": "stream",
     "text": [
      "INFO:tensorflow:Scale of 0 disables regularizer.\n"
     ]
    },
    {
     "name": "stdout",
     "output_type": "stream",
     "text": [
      "Train and test accuracity with sizes = [784, 392, 196, 98, 10] \n",
      "train = 0.973523807526 \ttest = 0.961071431637 \n",
      "\n",
      "INFO:tensorflow:Scale of 0 disables regularizer.\n"
     ]
    },
    {
     "name": "stderr",
     "output_type": "stream",
     "text": [
      "INFO:tensorflow:Scale of 0 disables regularizer.\n"
     ]
    },
    {
     "name": "stdout",
     "output_type": "stream",
     "text": [
      "INFO:tensorflow:Scale of 0 disables regularizer.\n"
     ]
    },
    {
     "name": "stderr",
     "output_type": "stream",
     "text": [
      "INFO:tensorflow:Scale of 0 disables regularizer.\n"
     ]
    },
    {
     "name": "stdout",
     "output_type": "stream",
     "text": [
      "INFO:tensorflow:Scale of 0 disables regularizer.\n"
     ]
    },
    {
     "name": "stderr",
     "output_type": "stream",
     "text": [
      "INFO:tensorflow:Scale of 0 disables regularizer.\n"
     ]
    },
    {
     "name": "stdout",
     "output_type": "stream",
     "text": [
      "INFO:tensorflow:Scale of 0 disables regularizer.\n"
     ]
    },
    {
     "name": "stderr",
     "output_type": "stream",
     "text": [
      "INFO:tensorflow:Scale of 0 disables regularizer.\n"
     ]
    },
    {
     "name": "stdout",
     "output_type": "stream",
     "text": [
      "Train and test accuracity with sizes = [784, 392, 196, 98, 10] \n",
      "train = 0.966285717487 \ttest = 0.955047631264 \n",
      "\n",
      "INFO:tensorflow:Scale of 0 disables regularizer.\n"
     ]
    },
    {
     "name": "stderr",
     "output_type": "stream",
     "text": [
      "INFO:tensorflow:Scale of 0 disables regularizer.\n"
     ]
    },
    {
     "name": "stdout",
     "output_type": "stream",
     "text": [
      "INFO:tensorflow:Scale of 0 disables regularizer.\n"
     ]
    },
    {
     "name": "stderr",
     "output_type": "stream",
     "text": [
      "INFO:tensorflow:Scale of 0 disables regularizer.\n"
     ]
    },
    {
     "name": "stdout",
     "output_type": "stream",
     "text": [
      "INFO:tensorflow:Scale of 0 disables regularizer.\n"
     ]
    },
    {
     "name": "stderr",
     "output_type": "stream",
     "text": [
      "INFO:tensorflow:Scale of 0 disables regularizer.\n"
     ]
    },
    {
     "name": "stdout",
     "output_type": "stream",
     "text": [
      "INFO:tensorflow:Scale of 0 disables regularizer.\n"
     ]
    },
    {
     "name": "stderr",
     "output_type": "stream",
     "text": [
      "INFO:tensorflow:Scale of 0 disables regularizer.\n"
     ]
    },
    {
     "name": "stdout",
     "output_type": "stream",
     "text": [
      "Train and test accuracity with sizes = [784, 392, 196, 98, 10] \n",
      "train = 0.973565471172 \ttest = 0.961952388287 \n",
      "\n"
     ]
    }
   ],
   "source": [
    "s = [392, 196, 98]\n",
    "acc1, acc2 = compute_accuracy(sizes=s, epoches=2, cross_valid=True,\n",
    "                              nonlinearity=\"relu\",\n",
    "                              alpha=0.05, lambda1=0.0, lambda2=0.0)\n",
    "print(\"Train and test accuracity with sizes =\", s, \"\\ntrain =\", acc1, \"\\ttest =\", acc2, \"\\n\")\n",
    "\n",
    "s = [392, 196, 98]\n",
    "acc1, acc2 = compute_accuracy(sizes=s, epoches=2, cross_valid=True,\n",
    "                              nonlinearity=\"leakyrelu\",\n",
    "                              alpha=0.05, lambda1=0.0, lambda2=0.0)\n",
    "print(\"Train and test accuracity with sizes =\", s, \"\\ntrain =\", acc1, \"\\ttest =\", acc2, \"\\n\")\n",
    "\n",
    "s = [392, 196, 98]\n",
    "acc1, acc2 = compute_accuracy(sizes=s, epoches=2, cross_valid=True,\n",
    "                              nonlinearity=\"leakyrelu\",\n",
    "                              alpha=0.1, lambda1=0.0, lambda2=0.0)\n",
    "print(\"Train and test accuracity with sizes =\", s, \"\\ntrain =\", acc1, \"\\ttest =\", acc2, \"\\n\")"
   ]
  },
  {
   "cell_type": "code",
   "execution_count": 65,
   "metadata": {},
   "outputs": [
    {
     "name": "stdout",
     "output_type": "stream",
     "text": [
      "INFO:tensorflow:Scale of 0 disables regularizer.\n"
     ]
    },
    {
     "name": "stderr",
     "output_type": "stream",
     "text": [
      "INFO:tensorflow:Scale of 0 disables regularizer.\n"
     ]
    },
    {
     "name": "stdout",
     "output_type": "stream",
     "text": [
      "INFO:tensorflow:Scale of 0 disables regularizer.\n"
     ]
    },
    {
     "name": "stderr",
     "output_type": "stream",
     "text": [
      "INFO:tensorflow:Scale of 0 disables regularizer.\n"
     ]
    },
    {
     "name": "stdout",
     "output_type": "stream",
     "text": [
      "INFO:tensorflow:Scale of 0 disables regularizer.\n"
     ]
    },
    {
     "name": "stderr",
     "output_type": "stream",
     "text": [
      "INFO:tensorflow:Scale of 0 disables regularizer.\n"
     ]
    },
    {
     "name": "stdout",
     "output_type": "stream",
     "text": [
      "Train and test accuracity with sizes = [784, 196, 49, 10] \n",
      "train = 0.968601191044 \ttest = 0.956880950928 \n",
      "\n",
      "INFO:tensorflow:Scale of 0 disables regularizer.\n"
     ]
    },
    {
     "name": "stderr",
     "output_type": "stream",
     "text": [
      "INFO:tensorflow:Scale of 0 disables regularizer.\n"
     ]
    },
    {
     "name": "stdout",
     "output_type": "stream",
     "text": [
      "INFO:tensorflow:Scale of 0 disables regularizer.\n"
     ]
    },
    {
     "name": "stderr",
     "output_type": "stream",
     "text": [
      "INFO:tensorflow:Scale of 0 disables regularizer.\n"
     ]
    },
    {
     "name": "stdout",
     "output_type": "stream",
     "text": [
      "INFO:tensorflow:Scale of 0 disables regularizer.\n"
     ]
    },
    {
     "name": "stderr",
     "output_type": "stream",
     "text": [
      "INFO:tensorflow:Scale of 0 disables regularizer.\n"
     ]
    },
    {
     "name": "stdout",
     "output_type": "stream",
     "text": [
      "INFO:tensorflow:Scale of 0 disables regularizer.\n"
     ]
    },
    {
     "name": "stderr",
     "output_type": "stream",
     "text": [
      "INFO:tensorflow:Scale of 0 disables regularizer.\n"
     ]
    },
    {
     "name": "stdout",
     "output_type": "stream",
     "text": [
      "Train and test accuracity with sizes = [784, 392, 196, 98, 10] \n",
      "train = 0.969916653633 \ttest = 0.956690478325 \n",
      "\n",
      "INFO:tensorflow:Scale of 0 disables regularizer.\n"
     ]
    },
    {
     "name": "stderr",
     "output_type": "stream",
     "text": [
      "INFO:tensorflow:Scale of 0 disables regularizer.\n"
     ]
    },
    {
     "name": "stdout",
     "output_type": "stream",
     "text": [
      "INFO:tensorflow:Scale of 0 disables regularizer.\n"
     ]
    },
    {
     "name": "stderr",
     "output_type": "stream",
     "text": [
      "INFO:tensorflow:Scale of 0 disables regularizer.\n"
     ]
    },
    {
     "name": "stdout",
     "output_type": "stream",
     "text": [
      "INFO:tensorflow:Scale of 0 disables regularizer.\n"
     ]
    },
    {
     "name": "stderr",
     "output_type": "stream",
     "text": [
      "INFO:tensorflow:Scale of 0 disables regularizer.\n"
     ]
    },
    {
     "name": "stdout",
     "output_type": "stream",
     "text": [
      "INFO:tensorflow:Scale of 0 disables regularizer.\n"
     ]
    },
    {
     "name": "stderr",
     "output_type": "stream",
     "text": [
      "INFO:tensorflow:Scale of 0 disables regularizer.\n"
     ]
    },
    {
     "name": "stdout",
     "output_type": "stream",
     "text": [
      "Train and test accuracity with sizes = [784, 392, 196, 98, 10] \n",
      "train = 0.976184511185 \ttest = 0.963642859459 \n",
      "\n"
     ]
    }
   ],
   "source": [
    "s = [196, 49]\n",
    "acc1, acc2 = compute_accuracy(sizes=s, epoches=2, cross_valid=True,\n",
    "                              nonlinearity=\"relu\",\n",
    "                              alpha=0.05, lambda1=0.0, lambda2=0.0)\n",
    "print(\"Train and test accuracity with sizes =\", s, \"\\ntrain =\", acc1, \"\\ttest =\", acc2, \"\\n\")\n",
    "\n",
    "s = [392, 196, 98]\n",
    "acc1, acc2 = compute_accuracy(sizes=s, epoches=2, cross_valid=True,\n",
    "                              nonlinearity=\"leakyrelu\",\n",
    "                              alpha=0.05, lambda1=0.0, lambda2=0.0)\n",
    "print(\"Train and test accuracity with sizes =\", s, \"\\ntrain =\", acc1, \"\\ttest =\", acc2, \"\\n\")\n",
    "\n",
    "s = [392, 196, 98]\n",
    "acc1, acc2 = compute_accuracy(sizes=s, epoches=2, cross_valid=True,\n",
    "                              nonlinearity=\"leakyrelu\",\n",
    "                              alpha=0.1, lambda1=0.0, lambda2=0.0)\n",
    "print(\"Train and test accuracity with sizes =\", s, \"\\ntrain =\", acc1, \"\\ttest =\", acc2, \"\\n\")"
   ]
  },
  {
   "cell_type": "code",
   "execution_count": 66,
   "metadata": {},
   "outputs": [
    {
     "name": "stdout",
     "output_type": "stream",
     "text": [
      "INFO:tensorflow:Scale of 0 disables regularizer.\n"
     ]
    },
    {
     "name": "stderr",
     "output_type": "stream",
     "text": [
      "INFO:tensorflow:Scale of 0 disables regularizer.\n"
     ]
    },
    {
     "name": "stdout",
     "output_type": "stream",
     "text": [
      "INFO:tensorflow:Scale of 0 disables regularizer.\n"
     ]
    },
    {
     "name": "stderr",
     "output_type": "stream",
     "text": [
      "INFO:tensorflow:Scale of 0 disables regularizer.\n"
     ]
    },
    {
     "name": "stdout",
     "output_type": "stream",
     "text": [
      "INFO:tensorflow:Scale of 0 disables regularizer.\n"
     ]
    },
    {
     "name": "stderr",
     "output_type": "stream",
     "text": [
      "INFO:tensorflow:Scale of 0 disables regularizer.\n"
     ]
    },
    {
     "name": "stdout",
     "output_type": "stream",
     "text": [
      "INFO:tensorflow:Scale of 0 disables regularizer.\n"
     ]
    },
    {
     "name": "stderr",
     "output_type": "stream",
     "text": [
      "INFO:tensorflow:Scale of 0 disables regularizer.\n"
     ]
    },
    {
     "name": "stdout",
     "output_type": "stream",
     "text": [
      "Train and test accuracity with sizes = [784, 392, 196, 49, 10] \n",
      "train = 0.974113094807 \ttest = 0.961738085747 \n",
      "\n",
      "INFO:tensorflow:Scale of 0 disables regularizer.\n"
     ]
    },
    {
     "name": "stderr",
     "output_type": "stream",
     "text": [
      "INFO:tensorflow:Scale of 0 disables regularizer.\n"
     ]
    },
    {
     "name": "stdout",
     "output_type": "stream",
     "text": [
      "INFO:tensorflow:Scale of 0 disables regularizer.\n"
     ]
    },
    {
     "name": "stderr",
     "output_type": "stream",
     "text": [
      "INFO:tensorflow:Scale of 0 disables regularizer.\n"
     ]
    },
    {
     "name": "stdout",
     "output_type": "stream",
     "text": [
      "INFO:tensorflow:Scale of 0 disables regularizer.\n"
     ]
    },
    {
     "name": "stderr",
     "output_type": "stream",
     "text": [
      "INFO:tensorflow:Scale of 0 disables regularizer.\n"
     ]
    },
    {
     "name": "stdout",
     "output_type": "stream",
     "text": [
      "INFO:tensorflow:Scale of 0 disables regularizer.\n"
     ]
    },
    {
     "name": "stderr",
     "output_type": "stream",
     "text": [
      "INFO:tensorflow:Scale of 0 disables regularizer.\n"
     ]
    },
    {
     "name": "stdout",
     "output_type": "stream",
     "text": [
      "Train and test accuracity with sizes = [784, 392, 196, 98, 10] \n",
      "train = 0.970690476894 \ttest = 0.958333325386 \n",
      "\n",
      "INFO:tensorflow:Scale of 0 disables regularizer.\n"
     ]
    },
    {
     "name": "stderr",
     "output_type": "stream",
     "text": [
      "INFO:tensorflow:Scale of 0 disables regularizer.\n"
     ]
    },
    {
     "name": "stdout",
     "output_type": "stream",
     "text": [
      "INFO:tensorflow:Scale of 0 disables regularizer.\n"
     ]
    },
    {
     "name": "stderr",
     "output_type": "stream",
     "text": [
      "INFO:tensorflow:Scale of 0 disables regularizer.\n"
     ]
    },
    {
     "name": "stdout",
     "output_type": "stream",
     "text": [
      "INFO:tensorflow:Scale of 0 disables regularizer.\n"
     ]
    },
    {
     "name": "stderr",
     "output_type": "stream",
     "text": [
      "INFO:tensorflow:Scale of 0 disables regularizer.\n"
     ]
    },
    {
     "name": "stdout",
     "output_type": "stream",
     "text": [
      "INFO:tensorflow:Scale of 0 disables regularizer.\n"
     ]
    },
    {
     "name": "stderr",
     "output_type": "stream",
     "text": [
      "INFO:tensorflow:Scale of 0 disables regularizer.\n"
     ]
    },
    {
     "name": "stdout",
     "output_type": "stream",
     "text": [
      "Train and test accuracity with sizes = [784, 392, 196, 98, 10] \n",
      "train = 0.973184537888 \ttest = 0.960738098621 \n",
      "\n"
     ]
    }
   ],
   "source": [
    "s = [392, 196, 49]\n",
    "acc1, acc2 = compute_accuracy(sizes=s, epoches=2, cross_valid=True,\n",
    "                              nonlinearity=\"relu\",\n",
    "                              alpha=0.05, lambda1=0.0, lambda2=0.0)\n",
    "print(\"Train and test accuracity with sizes =\", s, \"\\ntrain =\", acc1, \"\\ttest =\", acc2, \"\\n\")\n",
    "\n",
    "s = [392, 196, 98]\n",
    "acc1, acc2 = compute_accuracy(sizes=s, epoches=2, cross_valid=True,\n",
    "                              nonlinearity=\"leakyrelu\",\n",
    "                              alpha=0.05, lambda1=0.0, lambda2=0.0)\n",
    "print(\"Train and test accuracity with sizes =\", s, \"\\ntrain =\", acc1, \"\\ttest =\", acc2, \"\\n\")\n",
    "\n",
    "s = [392, 196, 98]\n",
    "acc1, acc2 = compute_accuracy(sizes=s, epoches=2, cross_valid=True,\n",
    "                              nonlinearity=\"leakyrelu\",\n",
    "                              alpha=0.1, lambda1=0.0, lambda2=0.0)\n",
    "print(\"Train and test accuracity with sizes =\", s, \"\\ntrain =\", acc1, \"\\ttest =\", acc2, \"\\n\")"
   ]
  },
  {
   "cell_type": "code",
   "execution_count": 76,
   "metadata": {},
   "outputs": [
    {
     "name": "stdout",
     "output_type": "stream",
     "text": [
      "Train and test accuracity with sizes = [784, 392, 196, 98, 10] \n",
      "train = 0.818690478802 \ttest = 0.826071441174 \n",
      "\n",
      "Train and test accuracity with sizes = [784, 392, 196, 98, 10] \n",
      "train = 0.977053582668 \ttest = 0.968095242977 \n",
      "\n",
      "Train and test accuracity with sizes = [784, 392, 196, 98, 10] \n",
      "train = 0.994494020939 \ttest = 0.97452378273 \n",
      "\n"
     ]
    }
   ],
   "source": [
    "s = [392, 196, 98]\n",
    "acc1, acc2 = compute_accuracy(sizes=s, epoches=10, cross_valid=False,\n",
    "                              nonlinearity=\"relu\",\n",
    "                              alpha=0.1, lambda1=1e-3, lambda2=0.0)\n",
    "print(\"Train and test accuracity with sizes =\", s, \"\\ntrain =\", acc1, \"\\ttest =\", acc2, \"\\n\")\n",
    "\n",
    "s = [392, 196, 98]\n",
    "acc1, acc2 = compute_accuracy(sizes=s, epoches=10, cross_valid=False,\n",
    "                              nonlinearity=\"relu\",\n",
    "                              alpha=0.1, lambda1=1e-4, lambda2=0.0)\n",
    "print(\"Train and test accuracity with sizes =\", s, \"\\ntrain =\", acc1, \"\\ttest =\", acc2, \"\\n\")\n",
    "\n",
    "s = [392, 196, 98]\n",
    "acc1, acc2 = compute_accuracy(sizes=s, epoches=10, cross_valid=False,\n",
    "                              nonlinearity=\"relu\",\n",
    "                              alpha=0.1, lambda1=1e-5, lambda2=0.0)\n",
    "print(\"Train and test accuracity with sizes =\", s, \"\\ntrain =\", acc1, \"\\ttest =\", acc2, \"\\n\")"
   ]
  },
  {
   "cell_type": "code",
   "execution_count": 19,
   "metadata": {},
   "outputs": [
    {
     "name": "stdout",
     "output_type": "stream",
     "text": [
      "Train and test accuracity with sizes = [784, 392, 196, 98, 10] \n",
      "train = 0.985535740852 \ttest = 0.967857122421 \n",
      "\n"
     ]
    }
   ],
   "source": [
    "s = [392, 196, 98]\n",
    "acc1, acc2 = compute_accuracy(sizes=s, epoches=40, cross_valid=False,\n",
    "                              nonlinearity=\"leakyrelu\",\n",
    "                              alpha=0.05, lambda1=4.5 * 1e-5, lambda2=4.5 * 1e-5)\n",
    "print(\"Train and test accuracity with sizes =\", s, \"\\ntrain =\", acc1, \"\\ttest =\", acc2, \"\\n\")"
   ]
  },
  {
   "cell_type": "code",
   "execution_count": 75,
   "metadata": {},
   "outputs": [
    {
     "ename": "KeyboardInterrupt",
     "evalue": "",
     "output_type": "error",
     "traceback": [
      "\u001b[0;31m-\u001b[0m",
      "\u001b[0;31mKeyboardInterrupt\u001b[0mTraceback (most recent call last)",
      "\u001b[0;32m<ipython-input-75-882ceb849599>\u001b[0m in \u001b[0;36m<module>\u001b[0;34m()\u001b[0m\n\u001b[1;32m      3\u001b[0m acc1, acc2 = compute_accuracy(sizes=s, epoches=10, cross_valid=True,\n\u001b[1;32m      4\u001b[0m                               \u001b[0mnonlinearity\u001b[0m\u001b[0;34m=\u001b[0m\u001b[0;34m\"relu\"\u001b[0m\u001b[0;34m,\u001b[0m\u001b[0;34m\u001b[0m\u001b[0m\n\u001b[0;32m----> 5\u001b[0;31m                               alpha=0.1, lambda1=1e-0, lambda2=1e-0)\n\u001b[0m\u001b[1;32m      6\u001b[0m \u001b[0mprint\u001b[0m\u001b[0;34m(\u001b[0m\u001b[0;34m\"Train and test accuracity with sizes =\"\u001b[0m\u001b[0;34m,\u001b[0m \u001b[0ms\u001b[0m\u001b[0;34m,\u001b[0m \u001b[0;34m\"\\ntrain =\"\u001b[0m\u001b[0;34m,\u001b[0m \u001b[0macc1\u001b[0m\u001b[0;34m,\u001b[0m \u001b[0;34m\"\\ttest =\"\u001b[0m\u001b[0;34m,\u001b[0m \u001b[0macc2\u001b[0m\u001b[0;34m,\u001b[0m \u001b[0;34m\"\\n\"\u001b[0m\u001b[0;34m)\u001b[0m\u001b[0;34m\u001b[0m\u001b[0m\n\u001b[1;32m      7\u001b[0m \u001b[0;34m\u001b[0m\u001b[0m\n",
      "\u001b[0;32m<ipython-input-72-0110102b7e12>\u001b[0m in \u001b[0;36mcompute_accuracy\u001b[0;34m(sizes, nonlinearity, alpha, lambda1, lambda2, grad_speed, epoches, batch_size, parts, cross_valid)\u001b[0m\n\u001b[1;32m     64\u001b[0m             \u001b[0;32mfor\u001b[0m \u001b[0mi\u001b[0m \u001b[0;32min\u001b[0m \u001b[0mrange\u001b[0m\u001b[0;34m(\u001b[0m\u001b[0mepoches\u001b[0m\u001b[0;34m)\u001b[0m\u001b[0;34m:\u001b[0m\u001b[0;34m\u001b[0m\u001b[0m\n\u001b[1;32m     65\u001b[0m                 \u001b[0;32mfor\u001b[0m \u001b[0mbatch_x\u001b[0m\u001b[0;34m,\u001b[0m \u001b[0mbatch_y\u001b[0m \u001b[0;32min\u001b[0m \u001b[0mnext_batch\u001b[0m\u001b[0;34m(\u001b[0m\u001b[0mX_train\u001b[0m\u001b[0;34m,\u001b[0m \u001b[0mY_train\u001b[0m\u001b[0;34m,\u001b[0m \u001b[0mbatch_size\u001b[0m\u001b[0;34m)\u001b[0m\u001b[0;34m:\u001b[0m\u001b[0;34m\u001b[0m\u001b[0m\n\u001b[0;32m---> 66\u001b[0;31m                     \u001b[0msess\u001b[0m\u001b[0;34m.\u001b[0m\u001b[0mrun\u001b[0m\u001b[0;34m(\u001b[0m\u001b[0mtrain_step\u001b[0m\u001b[0;34m,\u001b[0m \u001b[0mfeed_dict\u001b[0m\u001b[0;34m=\u001b[0m\u001b[0;34m{\u001b[0m\u001b[0mx\u001b[0m\u001b[0;34m:\u001b[0m \u001b[0mbatch_x\u001b[0m\u001b[0;34m,\u001b[0m \u001b[0my_labels\u001b[0m\u001b[0;34m:\u001b[0m \u001b[0mbatch_y\u001b[0m\u001b[0;34m}\u001b[0m\u001b[0;34m)\u001b[0m\u001b[0;34m\u001b[0m\u001b[0m\n\u001b[0m\u001b[1;32m     67\u001b[0m \u001b[0;34m\u001b[0m\u001b[0m\n\u001b[1;32m     68\u001b[0m             \u001b[0macc_train\u001b[0m \u001b[0;34m+=\u001b[0m \u001b[0msess\u001b[0m\u001b[0;34m.\u001b[0m\u001b[0mrun\u001b[0m\u001b[0;34m(\u001b[0m\u001b[0maccuracy\u001b[0m\u001b[0;34m,\u001b[0m \u001b[0mfeed_dict\u001b[0m\u001b[0;34m=\u001b[0m\u001b[0;34m{\u001b[0m\u001b[0mx\u001b[0m\u001b[0;34m:\u001b[0m \u001b[0mX_train\u001b[0m\u001b[0;34m,\u001b[0m \u001b[0my_labels\u001b[0m\u001b[0;34m:\u001b[0m \u001b[0mY_train\u001b[0m\u001b[0;34m}\u001b[0m\u001b[0;34m)\u001b[0m\u001b[0;34m\u001b[0m\u001b[0m\n",
      "\u001b[0;32m~/.local/lib/python3.6/site-packages/tensorflow/python/client/session.py\u001b[0m in \u001b[0;36mrun\u001b[0;34m(self, fetches, feed_dict, options, run_metadata)\u001b[0m\n\u001b[1;32m    887\u001b[0m     \u001b[0;32mtry\u001b[0m\u001b[0;34m:\u001b[0m\u001b[0;34m\u001b[0m\u001b[0m\n\u001b[1;32m    888\u001b[0m       result = self._run(None, fetches, feed_dict, options_ptr,\n\u001b[0;32m--> 889\u001b[0;31m                          run_metadata_ptr)\n\u001b[0m\u001b[1;32m    890\u001b[0m       \u001b[0;32mif\u001b[0m \u001b[0mrun_metadata\u001b[0m\u001b[0;34m:\u001b[0m\u001b[0;34m\u001b[0m\u001b[0m\n\u001b[1;32m    891\u001b[0m         \u001b[0mproto_data\u001b[0m \u001b[0;34m=\u001b[0m \u001b[0mtf_session\u001b[0m\u001b[0;34m.\u001b[0m\u001b[0mTF_GetBuffer\u001b[0m\u001b[0;34m(\u001b[0m\u001b[0mrun_metadata_ptr\u001b[0m\u001b[0;34m)\u001b[0m\u001b[0;34m\u001b[0m\u001b[0m\n",
      "\u001b[0;32m~/.local/lib/python3.6/site-packages/tensorflow/python/client/session.py\u001b[0m in \u001b[0;36m_run\u001b[0;34m(self, handle, fetches, feed_dict, options, run_metadata)\u001b[0m\n\u001b[1;32m   1118\u001b[0m     \u001b[0;32mif\u001b[0m \u001b[0mfinal_fetches\u001b[0m \u001b[0;32mor\u001b[0m \u001b[0mfinal_targets\u001b[0m \u001b[0;32mor\u001b[0m \u001b[0;34m(\u001b[0m\u001b[0mhandle\u001b[0m \u001b[0;32mand\u001b[0m \u001b[0mfeed_dict_tensor\u001b[0m\u001b[0;34m)\u001b[0m\u001b[0;34m:\u001b[0m\u001b[0;34m\u001b[0m\u001b[0m\n\u001b[1;32m   1119\u001b[0m       results = self._do_run(handle, final_targets, final_fetches,\n\u001b[0;32m-> 1120\u001b[0;31m                              feed_dict_tensor, options, run_metadata)\n\u001b[0m\u001b[1;32m   1121\u001b[0m     \u001b[0;32melse\u001b[0m\u001b[0;34m:\u001b[0m\u001b[0;34m\u001b[0m\u001b[0m\n\u001b[1;32m   1122\u001b[0m       \u001b[0mresults\u001b[0m \u001b[0;34m=\u001b[0m \u001b[0;34m[\u001b[0m\u001b[0;34m]\u001b[0m\u001b[0;34m\u001b[0m\u001b[0m\n",
      "\u001b[0;32m~/.local/lib/python3.6/site-packages/tensorflow/python/client/session.py\u001b[0m in \u001b[0;36m_do_run\u001b[0;34m(self, handle, target_list, fetch_list, feed_dict, options, run_metadata)\u001b[0m\n\u001b[1;32m   1315\u001b[0m     \u001b[0;32mif\u001b[0m \u001b[0mhandle\u001b[0m \u001b[0;32mis\u001b[0m \u001b[0;32mNone\u001b[0m\u001b[0;34m:\u001b[0m\u001b[0;34m\u001b[0m\u001b[0m\n\u001b[1;32m   1316\u001b[0m       return self._do_call(_run_fn, self._session, feeds, fetches, targets,\n\u001b[0;32m-> 1317\u001b[0;31m                            options, run_metadata)\n\u001b[0m\u001b[1;32m   1318\u001b[0m     \u001b[0;32melse\u001b[0m\u001b[0;34m:\u001b[0m\u001b[0;34m\u001b[0m\u001b[0m\n\u001b[1;32m   1319\u001b[0m       \u001b[0;32mreturn\u001b[0m \u001b[0mself\u001b[0m\u001b[0;34m.\u001b[0m\u001b[0m_do_call\u001b[0m\u001b[0;34m(\u001b[0m\u001b[0m_prun_fn\u001b[0m\u001b[0;34m,\u001b[0m \u001b[0mself\u001b[0m\u001b[0;34m.\u001b[0m\u001b[0m_session\u001b[0m\u001b[0;34m,\u001b[0m \u001b[0mhandle\u001b[0m\u001b[0;34m,\u001b[0m \u001b[0mfeeds\u001b[0m\u001b[0;34m,\u001b[0m \u001b[0mfetches\u001b[0m\u001b[0;34m)\u001b[0m\u001b[0;34m\u001b[0m\u001b[0m\n",
      "\u001b[0;32m~/.local/lib/python3.6/site-packages/tensorflow/python/client/session.py\u001b[0m in \u001b[0;36m_do_call\u001b[0;34m(self, fn, *args)\u001b[0m\n\u001b[1;32m   1321\u001b[0m   \u001b[0;32mdef\u001b[0m \u001b[0m_do_call\u001b[0m\u001b[0;34m(\u001b[0m\u001b[0mself\u001b[0m\u001b[0;34m,\u001b[0m \u001b[0mfn\u001b[0m\u001b[0;34m,\u001b[0m \u001b[0;34m*\u001b[0m\u001b[0margs\u001b[0m\u001b[0;34m)\u001b[0m\u001b[0;34m:\u001b[0m\u001b[0;34m\u001b[0m\u001b[0m\n\u001b[1;32m   1322\u001b[0m     \u001b[0;32mtry\u001b[0m\u001b[0;34m:\u001b[0m\u001b[0;34m\u001b[0m\u001b[0m\n\u001b[0;32m-> 1323\u001b[0;31m       \u001b[0;32mreturn\u001b[0m \u001b[0mfn\u001b[0m\u001b[0;34m(\u001b[0m\u001b[0;34m*\u001b[0m\u001b[0margs\u001b[0m\u001b[0;34m)\u001b[0m\u001b[0;34m\u001b[0m\u001b[0m\n\u001b[0m\u001b[1;32m   1324\u001b[0m     \u001b[0;32mexcept\u001b[0m \u001b[0merrors\u001b[0m\u001b[0;34m.\u001b[0m\u001b[0mOpError\u001b[0m \u001b[0;32mas\u001b[0m \u001b[0me\u001b[0m\u001b[0;34m:\u001b[0m\u001b[0;34m\u001b[0m\u001b[0m\n\u001b[1;32m   1325\u001b[0m       \u001b[0mmessage\u001b[0m \u001b[0;34m=\u001b[0m \u001b[0mcompat\u001b[0m\u001b[0;34m.\u001b[0m\u001b[0mas_text\u001b[0m\u001b[0;34m(\u001b[0m\u001b[0me\u001b[0m\u001b[0;34m.\u001b[0m\u001b[0mmessage\u001b[0m\u001b[0;34m)\u001b[0m\u001b[0;34m\u001b[0m\u001b[0m\n",
      "\u001b[0;32m~/.local/lib/python3.6/site-packages/tensorflow/python/client/session.py\u001b[0m in \u001b[0;36m_run_fn\u001b[0;34m(session, feed_dict, fetch_list, target_list, options, run_metadata)\u001b[0m\n\u001b[1;32m   1300\u001b[0m           return tf_session.TF_Run(session, options,\n\u001b[1;32m   1301\u001b[0m                                    \u001b[0mfeed_dict\u001b[0m\u001b[0;34m,\u001b[0m \u001b[0mfetch_list\u001b[0m\u001b[0;34m,\u001b[0m \u001b[0mtarget_list\u001b[0m\u001b[0;34m,\u001b[0m\u001b[0;34m\u001b[0m\u001b[0m\n\u001b[0;32m-> 1302\u001b[0;31m                                    status, run_metadata)\n\u001b[0m\u001b[1;32m   1303\u001b[0m \u001b[0;34m\u001b[0m\u001b[0m\n\u001b[1;32m   1304\u001b[0m     \u001b[0;32mdef\u001b[0m \u001b[0m_prun_fn\u001b[0m\u001b[0;34m(\u001b[0m\u001b[0msession\u001b[0m\u001b[0;34m,\u001b[0m \u001b[0mhandle\u001b[0m\u001b[0;34m,\u001b[0m \u001b[0mfeed_dict\u001b[0m\u001b[0;34m,\u001b[0m \u001b[0mfetch_list\u001b[0m\u001b[0;34m)\u001b[0m\u001b[0;34m:\u001b[0m\u001b[0;34m\u001b[0m\u001b[0m\n",
      "\u001b[0;31mKeyboardInterrupt\u001b[0m: "
     ]
    }
   ],
   "source": [
    "\n",
    "s = [392, 196, 98]\n",
    "acc1, acc2 = compute_accuracy(sizes=s, epoches=10, cross_valid=True,\n",
    "                              nonlinearity=\"relu\",\n",
    "                              alpha=0.1, lambda1=1e-0, lambda2=1e-0)\n",
    "print(\"Train and test accuracity with sizes =\", s, \"\\ntrain =\", acc1, \"\\ttest =\", acc2, \"\\n\")\n",
    "\n",
    "s = [392, 196, 98]\n",
    "acc1, acc2 = compute_accuracy(sizes=s, epoches=10, cross_valid=True,\n",
    "                              nonlinearity=\"relu\",\n",
    "                              alpha=0.1, lambda1=1e-1, lambda2=1e-1)\n",
    "print(\"Train and test accuracity with sizes =\", s, \"\\ntrain =\", acc1, \"\\ttest =\", acc2, \"\\n\")\n",
    "\n",
    "s = [392, 196, 98]\n",
    "acc1, acc2 = compute_accuracy(sizes=s, epoches=10, cross_valid=True,\n",
    "                              nonlinearity=\"relu\",\n",
    "                              alpha=0.1, lambda1=1e-2, lambda2=1e-2)\n",
    "print(\"Train and test accuracity with sizes =\", s, \"\\ntrain =\", acc1, \"\\ttest =\", acc2, \"\\n\")"
   ]
  },
  {
   "cell_type": "code",
   "execution_count": 18,
   "metadata": {},
   "outputs": [
    {
     "ename": "KeyboardInterrupt",
     "evalue": "",
     "output_type": "error",
     "traceback": [
      "\u001b[0;31m---------------------------------------------------------------------------\u001b[0m",
      "\u001b[0;31mKeyboardInterrupt\u001b[0m                         Traceback (most recent call last)",
      "\u001b[0;32m<ipython-input-18-062be519546a>\u001b[0m in \u001b[0;36m<module>\u001b[0;34m()\u001b[0m\n\u001b[1;32m      1\u001b[0m \u001b[0ms\u001b[0m \u001b[0;34m=\u001b[0m \u001b[0;34m[\u001b[0m\u001b[0;36m200\u001b[0m\u001b[0;34m,\u001b[0m \u001b[0;36m100\u001b[0m\u001b[0;34m]\u001b[0m\u001b[0;34m\u001b[0m\u001b[0m\n\u001b[0;32m----> 2\u001b[0;31m \u001b[0macc1\u001b[0m\u001b[0;34m,\u001b[0m \u001b[0macc2\u001b[0m \u001b[0;34m=\u001b[0m \u001b[0mcompute_accuracy\u001b[0m\u001b[0;34m(\u001b[0m\u001b[0msizes\u001b[0m\u001b[0;34m=\u001b[0m\u001b[0ms\u001b[0m\u001b[0;34m,\u001b[0m \u001b[0mepoches\u001b[0m\u001b[0;34m=\u001b[0m\u001b[0;36m20\u001b[0m\u001b[0;34m,\u001b[0m \u001b[0mcross_valid\u001b[0m\u001b[0;34m=\u001b[0m\u001b[0;32mTrue\u001b[0m\u001b[0;34m,\u001b[0m \u001b[0malpha\u001b[0m\u001b[0;34m=\u001b[0m\u001b[0;36m0.05\u001b[0m\u001b[0;34m,\u001b[0m \u001b[0mlambda1\u001b[0m\u001b[0;34m=\u001b[0m\u001b[0;36m1e-6\u001b[0m\u001b[0;34m,\u001b[0m \u001b[0mlambda2\u001b[0m\u001b[0;34m=\u001b[0m\u001b[0;36m1e-6\u001b[0m\u001b[0;34m)\u001b[0m\u001b[0;34m\u001b[0m\u001b[0m\n\u001b[0m\u001b[1;32m      3\u001b[0m \u001b[0mprint\u001b[0m\u001b[0;34m(\u001b[0m\u001b[0;34m\"Train and test accuracity with sizes =\"\u001b[0m\u001b[0;34m,\u001b[0m \u001b[0ms\u001b[0m\u001b[0;34m,\u001b[0m \u001b[0;34m\"\\ntrain =\"\u001b[0m\u001b[0;34m,\u001b[0m \u001b[0macc1\u001b[0m\u001b[0;34m,\u001b[0m \u001b[0;34m\"\\ttest =\"\u001b[0m\u001b[0;34m,\u001b[0m \u001b[0macc2\u001b[0m\u001b[0;34m,\u001b[0m \u001b[0;34m\"\\n\"\u001b[0m\u001b[0;34m)\u001b[0m\u001b[0;34m\u001b[0m\u001b[0m\n",
      "\u001b[0;32m<ipython-input-13-5bc346a69cc3>\u001b[0m in \u001b[0;36mcompute_accuracy\u001b[0;34m(sizes, nonlinearity, alpha, lambda1, lambda2, grad_speed, epoches, batch_size, parts, cross_valid)\u001b[0m\n\u001b[1;32m     57\u001b[0m             \u001b[0;32mfor\u001b[0m \u001b[0mi\u001b[0m \u001b[0;32min\u001b[0m \u001b[0mrange\u001b[0m\u001b[0;34m(\u001b[0m\u001b[0mepoches\u001b[0m\u001b[0;34m)\u001b[0m\u001b[0;34m:\u001b[0m\u001b[0;34m\u001b[0m\u001b[0m\n\u001b[1;32m     58\u001b[0m                 \u001b[0;32mfor\u001b[0m \u001b[0mbatch_x\u001b[0m\u001b[0;34m,\u001b[0m \u001b[0mbatch_y\u001b[0m \u001b[0;32min\u001b[0m \u001b[0mnext_batch\u001b[0m\u001b[0;34m(\u001b[0m\u001b[0mX_train\u001b[0m\u001b[0;34m,\u001b[0m \u001b[0mY_train\u001b[0m\u001b[0;34m,\u001b[0m \u001b[0mbatch_size\u001b[0m\u001b[0;34m)\u001b[0m\u001b[0;34m:\u001b[0m\u001b[0;34m\u001b[0m\u001b[0m\n\u001b[0;32m---> 59\u001b[0;31m                     \u001b[0msess\u001b[0m\u001b[0;34m.\u001b[0m\u001b[0mrun\u001b[0m\u001b[0;34m(\u001b[0m\u001b[0mtrain_step\u001b[0m\u001b[0;34m,\u001b[0m \u001b[0mfeed_dict\u001b[0m\u001b[0;34m=\u001b[0m\u001b[0;34m{\u001b[0m\u001b[0mx\u001b[0m\u001b[0;34m:\u001b[0m \u001b[0mbatch_x\u001b[0m\u001b[0;34m,\u001b[0m \u001b[0my_labels\u001b[0m\u001b[0;34m:\u001b[0m \u001b[0mbatch_y\u001b[0m\u001b[0;34m}\u001b[0m\u001b[0;34m)\u001b[0m\u001b[0;34m\u001b[0m\u001b[0m\n\u001b[0m\u001b[1;32m     60\u001b[0m \u001b[0;34m\u001b[0m\u001b[0m\n\u001b[1;32m     61\u001b[0m             \u001b[0macc_train\u001b[0m \u001b[0;34m+=\u001b[0m \u001b[0msess\u001b[0m\u001b[0;34m.\u001b[0m\u001b[0mrun\u001b[0m\u001b[0;34m(\u001b[0m\u001b[0maccuracy\u001b[0m\u001b[0;34m,\u001b[0m \u001b[0mfeed_dict\u001b[0m\u001b[0;34m=\u001b[0m\u001b[0;34m{\u001b[0m\u001b[0mx\u001b[0m\u001b[0;34m:\u001b[0m \u001b[0mX_train\u001b[0m\u001b[0;34m,\u001b[0m \u001b[0my_labels\u001b[0m\u001b[0;34m:\u001b[0m \u001b[0mY_train\u001b[0m\u001b[0;34m}\u001b[0m\u001b[0;34m)\u001b[0m\u001b[0;34m\u001b[0m\u001b[0m\n",
      "\u001b[0;32m~/.local/lib/python3.6/site-packages/tensorflow/python/client/session.py\u001b[0m in \u001b[0;36mrun\u001b[0;34m(self, fetches, feed_dict, options, run_metadata)\u001b[0m\n\u001b[1;32m    887\u001b[0m     \u001b[0;32mtry\u001b[0m\u001b[0;34m:\u001b[0m\u001b[0;34m\u001b[0m\u001b[0m\n\u001b[1;32m    888\u001b[0m       result = self._run(None, fetches, feed_dict, options_ptr,\n\u001b[0;32m--> 889\u001b[0;31m                          run_metadata_ptr)\n\u001b[0m\u001b[1;32m    890\u001b[0m       \u001b[0;32mif\u001b[0m \u001b[0mrun_metadata\u001b[0m\u001b[0;34m:\u001b[0m\u001b[0;34m\u001b[0m\u001b[0m\n\u001b[1;32m    891\u001b[0m         \u001b[0mproto_data\u001b[0m \u001b[0;34m=\u001b[0m \u001b[0mtf_session\u001b[0m\u001b[0;34m.\u001b[0m\u001b[0mTF_GetBuffer\u001b[0m\u001b[0;34m(\u001b[0m\u001b[0mrun_metadata_ptr\u001b[0m\u001b[0;34m)\u001b[0m\u001b[0;34m\u001b[0m\u001b[0m\n",
      "\u001b[0;32m~/.local/lib/python3.6/site-packages/tensorflow/python/client/session.py\u001b[0m in \u001b[0;36m_run\u001b[0;34m(self, handle, fetches, feed_dict, options, run_metadata)\u001b[0m\n\u001b[1;32m   1118\u001b[0m     \u001b[0;32mif\u001b[0m \u001b[0mfinal_fetches\u001b[0m \u001b[0;32mor\u001b[0m \u001b[0mfinal_targets\u001b[0m \u001b[0;32mor\u001b[0m \u001b[0;34m(\u001b[0m\u001b[0mhandle\u001b[0m \u001b[0;32mand\u001b[0m \u001b[0mfeed_dict_tensor\u001b[0m\u001b[0;34m)\u001b[0m\u001b[0;34m:\u001b[0m\u001b[0;34m\u001b[0m\u001b[0m\n\u001b[1;32m   1119\u001b[0m       results = self._do_run(handle, final_targets, final_fetches,\n\u001b[0;32m-> 1120\u001b[0;31m                              feed_dict_tensor, options, run_metadata)\n\u001b[0m\u001b[1;32m   1121\u001b[0m     \u001b[0;32melse\u001b[0m\u001b[0;34m:\u001b[0m\u001b[0;34m\u001b[0m\u001b[0m\n\u001b[1;32m   1122\u001b[0m       \u001b[0mresults\u001b[0m \u001b[0;34m=\u001b[0m \u001b[0;34m[\u001b[0m\u001b[0;34m]\u001b[0m\u001b[0;34m\u001b[0m\u001b[0m\n",
      "\u001b[0;32m~/.local/lib/python3.6/site-packages/tensorflow/python/client/session.py\u001b[0m in \u001b[0;36m_do_run\u001b[0;34m(self, handle, target_list, fetch_list, feed_dict, options, run_metadata)\u001b[0m\n\u001b[1;32m   1315\u001b[0m     \u001b[0;32mif\u001b[0m \u001b[0mhandle\u001b[0m \u001b[0;32mis\u001b[0m \u001b[0;32mNone\u001b[0m\u001b[0;34m:\u001b[0m\u001b[0;34m\u001b[0m\u001b[0m\n\u001b[1;32m   1316\u001b[0m       return self._do_call(_run_fn, self._session, feeds, fetches, targets,\n\u001b[0;32m-> 1317\u001b[0;31m                            options, run_metadata)\n\u001b[0m\u001b[1;32m   1318\u001b[0m     \u001b[0;32melse\u001b[0m\u001b[0;34m:\u001b[0m\u001b[0;34m\u001b[0m\u001b[0m\n\u001b[1;32m   1319\u001b[0m       \u001b[0;32mreturn\u001b[0m \u001b[0mself\u001b[0m\u001b[0;34m.\u001b[0m\u001b[0m_do_call\u001b[0m\u001b[0;34m(\u001b[0m\u001b[0m_prun_fn\u001b[0m\u001b[0;34m,\u001b[0m \u001b[0mself\u001b[0m\u001b[0;34m.\u001b[0m\u001b[0m_session\u001b[0m\u001b[0;34m,\u001b[0m \u001b[0mhandle\u001b[0m\u001b[0;34m,\u001b[0m \u001b[0mfeeds\u001b[0m\u001b[0;34m,\u001b[0m \u001b[0mfetches\u001b[0m\u001b[0;34m)\u001b[0m\u001b[0;34m\u001b[0m\u001b[0m\n",
      "\u001b[0;32m~/.local/lib/python3.6/site-packages/tensorflow/python/client/session.py\u001b[0m in \u001b[0;36m_do_call\u001b[0;34m(self, fn, *args)\u001b[0m\n\u001b[1;32m   1321\u001b[0m   \u001b[0;32mdef\u001b[0m \u001b[0m_do_call\u001b[0m\u001b[0;34m(\u001b[0m\u001b[0mself\u001b[0m\u001b[0;34m,\u001b[0m \u001b[0mfn\u001b[0m\u001b[0;34m,\u001b[0m \u001b[0;34m*\u001b[0m\u001b[0margs\u001b[0m\u001b[0;34m)\u001b[0m\u001b[0;34m:\u001b[0m\u001b[0;34m\u001b[0m\u001b[0m\n\u001b[1;32m   1322\u001b[0m     \u001b[0;32mtry\u001b[0m\u001b[0;34m:\u001b[0m\u001b[0;34m\u001b[0m\u001b[0m\n\u001b[0;32m-> 1323\u001b[0;31m       \u001b[0;32mreturn\u001b[0m \u001b[0mfn\u001b[0m\u001b[0;34m(\u001b[0m\u001b[0;34m*\u001b[0m\u001b[0margs\u001b[0m\u001b[0;34m)\u001b[0m\u001b[0;34m\u001b[0m\u001b[0m\n\u001b[0m\u001b[1;32m   1324\u001b[0m     \u001b[0;32mexcept\u001b[0m \u001b[0merrors\u001b[0m\u001b[0;34m.\u001b[0m\u001b[0mOpError\u001b[0m \u001b[0;32mas\u001b[0m \u001b[0me\u001b[0m\u001b[0;34m:\u001b[0m\u001b[0;34m\u001b[0m\u001b[0m\n\u001b[1;32m   1325\u001b[0m       \u001b[0mmessage\u001b[0m \u001b[0;34m=\u001b[0m \u001b[0mcompat\u001b[0m\u001b[0;34m.\u001b[0m\u001b[0mas_text\u001b[0m\u001b[0;34m(\u001b[0m\u001b[0me\u001b[0m\u001b[0;34m.\u001b[0m\u001b[0mmessage\u001b[0m\u001b[0;34m)\u001b[0m\u001b[0;34m\u001b[0m\u001b[0m\n",
      "\u001b[0;32m~/.local/lib/python3.6/site-packages/tensorflow/python/client/session.py\u001b[0m in \u001b[0;36m_run_fn\u001b[0;34m(session, feed_dict, fetch_list, target_list, options, run_metadata)\u001b[0m\n\u001b[1;32m   1300\u001b[0m           return tf_session.TF_Run(session, options,\n\u001b[1;32m   1301\u001b[0m                                    \u001b[0mfeed_dict\u001b[0m\u001b[0;34m,\u001b[0m \u001b[0mfetch_list\u001b[0m\u001b[0;34m,\u001b[0m \u001b[0mtarget_list\u001b[0m\u001b[0;34m,\u001b[0m\u001b[0;34m\u001b[0m\u001b[0m\n\u001b[0;32m-> 1302\u001b[0;31m                                    status, run_metadata)\n\u001b[0m\u001b[1;32m   1303\u001b[0m \u001b[0;34m\u001b[0m\u001b[0m\n\u001b[1;32m   1304\u001b[0m     \u001b[0;32mdef\u001b[0m \u001b[0m_prun_fn\u001b[0m\u001b[0;34m(\u001b[0m\u001b[0msession\u001b[0m\u001b[0;34m,\u001b[0m \u001b[0mhandle\u001b[0m\u001b[0;34m,\u001b[0m \u001b[0mfeed_dict\u001b[0m\u001b[0;34m,\u001b[0m \u001b[0mfetch_list\u001b[0m\u001b[0;34m)\u001b[0m\u001b[0;34m:\u001b[0m\u001b[0;34m\u001b[0m\u001b[0m\n",
      "\u001b[0;31mKeyboardInterrupt\u001b[0m: "
     ]
    }
   ],
   "source": [
    "s = [200, 100]\n",
    "acc1, acc2 = compute_accuracy(sizes=s, epoches=20, cross_valid=True, alpha=0.05, lambda1=1e-6, lambda2=1e-6)\n",
    "print(\"Train and test accuracity with sizes =\", s, \"\\ntrain =\", acc1, \"\\ttest =\", acc2, \"\\n\")"
   ]
  },
  {
   "cell_type": "code",
   "execution_count": null,
   "metadata": {},
   "outputs": [],
   "source": [
    "s = [200, 100]\n",
    "acc1, acc2 = compute_accuracy(sizes=s, epoches=20, cross_valid=True, alpha=0.05, lambda1=1e-6, lambda2=1e-6)\n",
    "print(\"Train and test accuracity with sizes =\", s, \"\\ntrain =\", acc1, \"\\ttest =\", acc2, \"\\n\")"
   ]
  },
  {
   "cell_type": "code",
   "execution_count": 90,
   "metadata": {},
   "outputs": [
    {
     "ename": "SyntaxError",
     "evalue": "EOF while scanning triple-quoted string literal (<ipython-input-90-f1ae42e57f7f>, line 6)",
     "output_type": "error",
     "traceback": [
      "\u001b[0;36m  File \u001b[0;32m\"<ipython-input-90-f1ae42e57f7f>\"\u001b[0;36m, line \u001b[0;32m6\u001b[0m\n\u001b[0;31m    epoches=20\u001b[0m\n\u001b[0m              \n^\u001b[0m\n\u001b[0;31mSyntaxError\u001b[0m\u001b[0;31m:\u001b[0m EOF while scanning triple-quoted string literal\n"
     ]
    }
   ],
   "source": [
    "'''\n",
    "sizes=[200, 100] #оч примерно\n",
    "nonlinearity=\"leakyrelu\"\n",
    "alpha=0.05 [-0.025, +0.025]\n",
    "batch_size=64 [-16, +32]\n",
    "epoches=20\n",
    "'''"
   ]
  },
  {
   "cell_type": "code",
   "execution_count": 155,
   "metadata": {},
   "outputs": [
    {
     "name": "stdout",
     "output_type": "stream",
     "text": [
      "Train and test accuracity with sizes = [784, 400, 10] \n",
      "train =  0.990951156616 \ttest = 0.969833564758 \n",
      "\n",
      "Train and test accuracity with sizes = [784, 300, 10] \n",
      "train =  0.988707113266 \ttest = 0.967428779602 \n",
      "\n",
      "Train and test accuracity with sizes = [784, 200, 10] \n",
      "train =  0.986701154709 \ttest = 0.967047858238 \n",
      "\n",
      "Train and test accuracity with sizes = [784, 100, 10] \n",
      "train =  0.982873821259 \ttest = 0.965333533287 \n",
      "\n",
      "Train and test accuracity with sizes = [784, 400, 10] \n",
      "train =  0.999986839294 \ttest = 0.976262152195 \n",
      "\n",
      "Train and test accuracity with sizes = [784, 300, 10] \n",
      "train =  0.999957084656 \ttest = 0.975690710545 \n",
      "\n",
      "Train and test accuracity with sizes = [784, 200, 10] \n",
      "train =  0.999945187569 \ttest = 0.974714517593 \n",
      "\n",
      "Train and test accuracity with sizes = [784, 100, 10] \n",
      "train =  0.999635589123 \ttest = 0.972333538532 \n",
      "\n"
     ]
    }
   ],
   "source": [
    "s = [400]\n",
    "acc1, acc2 = compute_accuracy(sizes=s, epoches=5, cross_valid=True)\n",
    "print(\"Train and test accuracity with sizes =\", s, \"\\ntrain =\", acc1, \"\\ttest =\", acc2, \"\\n\")\n",
    "\n",
    "s = [300]\n",
    "acc1, acc2 = compute_accuracy(sizes=s, epoches=5, cross_valid=True)\n",
    "print(\"Train and test accuracity with sizes =\", s, \"\\ntrain =\", acc1, \"\\ttest =\", acc2, \"\\n\")\n",
    "\n",
    "s = [200]\n",
    "acc1, acc2 = compute_accuracy(sizes=s, epoches=5, cross_valid=True)\n",
    "print(\"Train and test accuracity with sizes =\", s, \"\\ntrain =\", acc1, \"\\ttest =\", acc2, \"\\n\")\n",
    "\n",
    "s = [100]\n",
    "acc1, acc2 = compute_accuracy(sizes=s, epoches=5, cross_valid=True)\n",
    "print(\"Train and test accuracity with sizes =\", s, \"\\ntrain =\", acc1, \"\\ttest =\", acc2, \"\\n\")\n",
    "\n",
    "s = [400]\n",
    "acc1, acc2 = compute_accuracy(sizes=s, epoches=20, cross_valid=True)\n",
    "print(\"Train and test accuracity with sizes =\", s, \"\\ntrain =\", acc1, \"\\ttest =\", acc2, \"\\n\")\n",
    "\n",
    "s = [300]\n",
    "acc1, acc2 = compute_accuracy(sizes=s, epoches=20, cross_valid=True)\n",
    "print(\"Train and test accuracity with sizes =\", s, \"\\ntrain =\", acc1, \"\\ttest =\", acc2, \"\\n\")\n",
    "\n",
    "s = [200]\n",
    "acc1, acc2 = compute_accuracy(sizes=s, epoches=20, cross_valid=True)\n",
    "print(\"Train and test accuracity with sizes =\", s, \"\\ntrain =\", acc1, \"\\ttest =\", acc2, \"\\n\")\n",
    "\n",
    "s = [100]\n",
    "acc1, acc2 = compute_accuracy(sizes=s, epoches=20, cross_valid=True)\n",
    "print(\"Train and test accuracity with sizes =\", s, \"\\ntrain =\", acc1, \"\\ttest =\", acc2, \"\\n\")\n"
   ]
  },
  {
   "cell_type": "code",
   "execution_count": 94,
   "metadata": {},
   "outputs": [
    {
     "ename": "AttributeError",
     "evalue": "module 'tensorflow.python.ops.nn' has no attribute 'leaky_relu'",
     "output_type": "error",
     "traceback": [
      "\u001b[0;31m-\u001b[0m",
      "\u001b[0;31mAttributeError\u001b[0mTraceback (most recent call last)",
      "\u001b[0;32m<ipython-input-94-a78b252bad93>\u001b[0m in \u001b[0;36m<module>\u001b[0;34m()\u001b[0m\n\u001b[1;32m      1\u001b[0m \u001b[0ms\u001b[0m \u001b[0;34m=\u001b[0m \u001b[0;34m[\u001b[0m\u001b[0;36m150\u001b[0m\u001b[0;34m]\u001b[0m\u001b[0;34m\u001b[0m\u001b[0m\n\u001b[0;32m----> 2\u001b[0;31m \u001b[0macc1\u001b[0m\u001b[0;34m,\u001b[0m \u001b[0macc2\u001b[0m \u001b[0;34m=\u001b[0m \u001b[0mcompute_accuracy\u001b[0m\u001b[0;34m(\u001b[0m\u001b[0msizes\u001b[0m\u001b[0;34m=\u001b[0m\u001b[0ms\u001b[0m\u001b[0;34m,\u001b[0m \u001b[0mepoches\u001b[0m\u001b[0;34m=\u001b[0m\u001b[0;36m5\u001b[0m\u001b[0;34m,\u001b[0m \u001b[0mcross_valid\u001b[0m\u001b[0;34m=\u001b[0m\u001b[0;32mTrue\u001b[0m\u001b[0;34m)\u001b[0m\u001b[0;34m\u001b[0m\u001b[0m\n\u001b[0m\u001b[1;32m      3\u001b[0m \u001b[0mprint\u001b[0m\u001b[0;34m(\u001b[0m\u001b[0;34m\"Train and test accuracity with sizes =\"\u001b[0m\u001b[0;34m,\u001b[0m \u001b[0ms\u001b[0m\u001b[0;34m,\u001b[0m \u001b[0;34m\"\\ntrain =\"\u001b[0m\u001b[0;34m,\u001b[0m \u001b[0macc1\u001b[0m\u001b[0;34m,\u001b[0m \u001b[0;34m\"\\ttest =\"\u001b[0m\u001b[0;34m,\u001b[0m \u001b[0macc2\u001b[0m\u001b[0;34m,\u001b[0m \u001b[0;34m\"\\n\"\u001b[0m\u001b[0;34m)\u001b[0m\u001b[0;34m\u001b[0m\u001b[0m\n\u001b[1;32m      4\u001b[0m \u001b[0;34m\u001b[0m\u001b[0m\n\u001b[1;32m      5\u001b[0m \u001b[0ms\u001b[0m \u001b[0;34m=\u001b[0m \u001b[0;34m[\u001b[0m\u001b[0;36m100\u001b[0m\u001b[0;34m]\u001b[0m\u001b[0;34m\u001b[0m\u001b[0m\n",
      "\u001b[0;32m<ipython-input-93-54b29283c048>\u001b[0m in \u001b[0;36mcompute_accuracy\u001b[0;34m(sizes, nonlinearity, alpha, lambda1, lambda2, grad_speed, epoches, batch_size, parts, cross_valid)\u001b[0m\n\u001b[1;32m     17\u001b[0m         \u001b[0mactivation\u001b[0m \u001b[0;34m=\u001b[0m \u001b[0mtf\u001b[0m\u001b[0;34m.\u001b[0m\u001b[0mnn\u001b[0m\u001b[0;34m.\u001b[0m\u001b[0mrelu\u001b[0m\u001b[0;34m\u001b[0m\u001b[0m\n\u001b[1;32m     18\u001b[0m     \u001b[0;32melif\u001b[0m \u001b[0mnonlinearity\u001b[0m \u001b[0;34m==\u001b[0m \u001b[0;34m\"leakyrelu\"\u001b[0m\u001b[0;34m:\u001b[0m\u001b[0;34m\u001b[0m\u001b[0m\n\u001b[0;32m---> 19\u001b[0;31m         \u001b[0mactivation\u001b[0m \u001b[0;34m=\u001b[0m \u001b[0mtf\u001b[0m\u001b[0;34m.\u001b[0m\u001b[0mnn\u001b[0m\u001b[0;34m.\u001b[0m\u001b[0mleaky_relu\u001b[0m\u001b[0;34m\u001b[0m\u001b[0m\n\u001b[0m\u001b[1;32m     20\u001b[0m     \u001b[0;32melse\u001b[0m\u001b[0;34m:\u001b[0m\u001b[0;34m\u001b[0m\u001b[0m\n\u001b[1;32m     21\u001b[0m         \u001b[0;32mraise\u001b[0m \u001b[0mRuntimeError\u001b[0m\u001b[0;34m(\u001b[0m\u001b[0;34m\"I does't know this function\"\u001b[0m\u001b[0;34m)\u001b[0m\u001b[0;34m\u001b[0m\u001b[0m\n",
      "\u001b[0;31mAttributeError\u001b[0m: module 'tensorflow.python.ops.nn' has no attribute 'leaky_relu'"
     ]
    }
   ],
   "source": [
    "s = [150]\n",
    "acc1, acc2 = compute_accuracy(sizes=s, epoches=5, cross_valid=True)\n",
    "print(\"Train and test accuracity with sizes =\", s, \"\\ntrain =\", acc1, \"\\ttest =\", acc2, \"\\n\")\n",
    "\n",
    "s = [100]\n",
    "acc1, acc2 = compute_accuracy(sizes=s, epoches=5, cross_valid=True)\n",
    "print(\"Train and test accuracity with sizes =\", s, \"\\ntrain =\", acc1, \"\\ttest =\", acc2, \"\\n\")\n"
   ]
  },
  {
   "cell_type": "code",
   "execution_count": 165,
   "metadata": {},
   "outputs": [
    {
     "name": "stdout",
     "output_type": "stream",
     "text": [
      "Train and test accuracity with sizes = [784, 150, 100, 10] \n",
      "train = 0.988457083702 \ttest = 0.968976426125 \n",
      "\n",
      "Train and test accuracity with sizes = [784, 100, 50, 10] \n",
      "train = 0.981867849827 \ttest = 0.964881181717 \n",
      "\n",
      "Train and test accuracity with sizes = [784, 150, 100, 50, 10] \n",
      "train = 0.980439293385 \ttest = 0.963428783417 \n",
      "\n",
      "Train and test accuracity with sizes = [784, 150, 100, 10] \n",
      "train = 0.999867773056 \ttest = 0.977428817749 \n",
      "\n",
      "Train and test accuracity with sizes = [784, 100, 50, 10] \n",
      "train = 0.995927298069 \ttest = 0.970714509487 \n",
      "\n",
      "Train and test accuracity with sizes = [784, 150, 100, 50, 10] \n",
      "train = 0.995433282852 \ttest = 0.972476410866 \n",
      "\n"
     ]
    }
   ],
   "source": [
    "s = [150, 100]\n",
    "acc1, acc2 = compute_accuracy(sizes=s, epoches=5, cross_valid=True)\n",
    "print(\"Train and test accuracity with sizes =\", s, \"\\ntrain =\", acc1, \"\\ttest =\", acc2, \"\\n\")\n",
    "\n",
    "s = [100, 50]\n",
    "acc1, acc2 = compute_accuracy(sizes=s, epoches=5, cross_valid=True)\n",
    "print(\"Train and test accuracity with sizes =\", s, \"\\ntrain =\", acc1, \"\\ttest =\", acc2, \"\\n\")\n",
    "\n",
    "s = [150, 100, 50]\n",
    "acc1, acc2 = compute_accuracy(sizes=s, epoches=5, cross_valid=True)\n",
    "print(\"Train and test accuracity with sizes =\", s, \"\\ntrain =\", acc1, \"\\ttest =\", acc2, \"\\n\")\n",
    "\n",
    "s = [150, 100]\n",
    "acc1, acc2 = compute_accuracy(sizes=s, epoches=20, cross_valid=True)\n",
    "print(\"Train and test accuracity with sizes =\", s, \"\\ntrain =\", acc1, \"\\ttest =\", acc2, \"\\n\")\n",
    "\n",
    "s = [100, 50]\n",
    "acc1, acc2 = compute_accuracy(sizes=s, epoches=20, cross_valid=True)\n",
    "print(\"Train and test accuracity with sizes =\", s, \"\\ntrain =\", acc1, \"\\ttest =\", acc2, \"\\n\")\n",
    "\n",
    "s = [150, 100, 50]\n",
    "acc1, acc2 = compute_accuracy(sizes=s, epoches=20, cross_valid=True)\n",
    "print(\"Train and test accuracity with sizes =\", s, \"\\ntrain =\", acc1, \"\\ttest =\", acc2, \"\\n\")\n"
   ]
  },
  {
   "cell_type": "code",
   "execution_count": 166,
   "metadata": {},
   "outputs": [
    {
     "name": "stdout",
     "output_type": "stream",
     "text": [
      "Train and test accuracity with sizes = [784, 150, 125, 100, 75, 50, 25, 10] \n",
      "train = 0.458261400461 \ttest = 0.449309591949 \n",
      "\n"
     ]
    }
   ],
   "source": [
    "s = [150, 125, 100, 75, 50, 25]\n",
    "acc1, acc2 = compute_accuracy(sizes=s, epoches=30, cross_valid=True)\n",
    "print(\"Train and test accuracity with sizes =\", s, \"\\ntrain =\", acc1, \"\\ttest =\", acc2, \"\\n\")"
   ]
  },
  {
   "cell_type": "code",
   "execution_count": 173,
   "metadata": {},
   "outputs": [
    {
     "name": "stdout",
     "output_type": "stream",
     "text": [
      "Train and test accuracity with sizes = [784, 200, 100, 10] \n",
      "train = 0.999861824512 \ttest = 0.977238333225 \n",
      "\n",
      "Train and test accuracity with sizes = [784, 200, 100, 10] \n",
      "train = 0.999998748302 \ttest = 0.977809762955 \n",
      "\n",
      "Train and test accuracity with sizes = [784, 200, 100, 10] \n",
      "train = 0.999843978882 \ttest = 0.97664308548 \n",
      "\n",
      "Train and test accuracity with sizes = [784, 200, 100, 10] \n",
      "train = 0.997504663467 \ttest = 0.974381196499 \n",
      "\n",
      "Train and test accuracity with sizes = [784, 200, 100, 10] \n",
      "train = 0.991582095623 \ttest = 0.967928814888 \n",
      "\n"
     ]
    },
    {
     "ename": "KeyboardInterrupt",
     "evalue": "",
     "output_type": "error",
     "traceback": [
      "\u001b[0;31m-\u001b[0m",
      "\u001b[0;31mKeyboardInterrupt\u001b[0mTraceback (most recent call last)",
      "\u001b[0;32m<ipython-input-173-a271149f238b>\u001b[0m in \u001b[0;36m<module>\u001b[0;34m()\u001b[0m\n\u001b[1;32m     20\u001b[0m \u001b[0;34m\u001b[0m\u001b[0m\n\u001b[1;32m     21\u001b[0m \u001b[0ms\u001b[0m \u001b[0;34m=\u001b[0m \u001b[0;34m[\u001b[0m\u001b[0;36m200\u001b[0m\u001b[0;34m,\u001b[0m \u001b[0;36m100\u001b[0m\u001b[0;34m]\u001b[0m\u001b[0;34m\u001b[0m\u001b[0m\n\u001b[0;32m---> 22\u001b[0;31m \u001b[0macc1\u001b[0m\u001b[0;34m,\u001b[0m \u001b[0macc2\u001b[0m \u001b[0;34m=\u001b[0m \u001b[0mcompute_accuracy\u001b[0m\u001b[0;34m(\u001b[0m\u001b[0msizes\u001b[0m\u001b[0;34m=\u001b[0m\u001b[0ms\u001b[0m\u001b[0;34m,\u001b[0m \u001b[0mepoches\u001b[0m\u001b[0;34m=\u001b[0m\u001b[0;36m20\u001b[0m\u001b[0;34m,\u001b[0m \u001b[0malpha\u001b[0m\u001b[0;34m=\u001b[0m\u001b[0;36m0.25\u001b[0m\u001b[0;34m,\u001b[0m \u001b[0mcross_valid\u001b[0m\u001b[0;34m=\u001b[0m\u001b[0;32mTrue\u001b[0m\u001b[0;34m)\u001b[0m\u001b[0;34m\u001b[0m\u001b[0m\n\u001b[0m\u001b[1;32m     23\u001b[0m \u001b[0mprint\u001b[0m\u001b[0;34m(\u001b[0m\u001b[0;34m\"Train and test accuracity with sizes =\"\u001b[0m\u001b[0;34m,\u001b[0m \u001b[0ms\u001b[0m\u001b[0;34m,\u001b[0m \u001b[0;34m\"\\ntrain =\"\u001b[0m\u001b[0;34m,\u001b[0m \u001b[0macc1\u001b[0m\u001b[0;34m,\u001b[0m \u001b[0;34m\"\\ttest =\"\u001b[0m\u001b[0;34m,\u001b[0m \u001b[0macc2\u001b[0m\u001b[0;34m,\u001b[0m \u001b[0;34m\"\\n\"\u001b[0m\u001b[0;34m)\u001b[0m\u001b[0;34m\u001b[0m\u001b[0m\n",
      "\u001b[0;32m<ipython-input-163-d6c030644404>\u001b[0m in \u001b[0;36mcompute_accuracy\u001b[0;34m(sizes, nonlinearity, alpha, lambda1, lambda2, grad_speed, epoches, batch_size, parts, cross_valid)\u001b[0m\n\u001b[1;32m     57\u001b[0m             \u001b[0;32mfor\u001b[0m \u001b[0mi\u001b[0m \u001b[0;32min\u001b[0m \u001b[0mrange\u001b[0m\u001b[0;34m(\u001b[0m\u001b[0mepoches\u001b[0m\u001b[0;34m)\u001b[0m\u001b[0;34m:\u001b[0m\u001b[0;34m\u001b[0m\u001b[0m\n\u001b[1;32m     58\u001b[0m                 \u001b[0;32mfor\u001b[0m \u001b[0mbatch_x\u001b[0m\u001b[0;34m,\u001b[0m \u001b[0mbatch_y\u001b[0m \u001b[0;32min\u001b[0m \u001b[0mnext_batch\u001b[0m\u001b[0;34m(\u001b[0m\u001b[0mX_train\u001b[0m\u001b[0;34m,\u001b[0m \u001b[0mY_train\u001b[0m\u001b[0;34m,\u001b[0m \u001b[0mbatch_size\u001b[0m\u001b[0;34m)\u001b[0m\u001b[0;34m:\u001b[0m\u001b[0;34m\u001b[0m\u001b[0m\n\u001b[0;32m---> 59\u001b[0;31m                     \u001b[0msess\u001b[0m\u001b[0;34m.\u001b[0m\u001b[0mrun\u001b[0m\u001b[0;34m(\u001b[0m\u001b[0mtrain_step\u001b[0m\u001b[0;34m,\u001b[0m \u001b[0mfeed_dict\u001b[0m\u001b[0;34m=\u001b[0m\u001b[0;34m{\u001b[0m\u001b[0mx\u001b[0m\u001b[0;34m:\u001b[0m \u001b[0mbatch_x\u001b[0m\u001b[0;34m,\u001b[0m \u001b[0my_labels\u001b[0m\u001b[0;34m:\u001b[0m \u001b[0mbatch_y\u001b[0m\u001b[0;34m}\u001b[0m\u001b[0;34m)\u001b[0m\u001b[0;34m\u001b[0m\u001b[0m\n\u001b[0m\u001b[1;32m     60\u001b[0m \u001b[0;34m\u001b[0m\u001b[0m\n\u001b[1;32m     61\u001b[0m             \u001b[0macc_train\u001b[0m \u001b[0;34m+=\u001b[0m \u001b[0msess\u001b[0m\u001b[0;34m.\u001b[0m\u001b[0mrun\u001b[0m\u001b[0;34m(\u001b[0m\u001b[0maccuracy\u001b[0m\u001b[0;34m,\u001b[0m \u001b[0mfeed_dict\u001b[0m\u001b[0;34m=\u001b[0m\u001b[0;34m{\u001b[0m\u001b[0mx\u001b[0m\u001b[0;34m:\u001b[0m \u001b[0mX_train\u001b[0m\u001b[0;34m,\u001b[0m \u001b[0my_labels\u001b[0m\u001b[0;34m:\u001b[0m \u001b[0mY_train\u001b[0m\u001b[0;34m}\u001b[0m\u001b[0;34m)\u001b[0m\u001b[0;34m\u001b[0m\u001b[0m\n",
      "\u001b[0;32m/usr/local/lib/python3.6/dist-packages/tensorflow/python/client/session.py\u001b[0m in \u001b[0;36mrun\u001b[0;34m(self, fetches, feed_dict, options, run_metadata)\u001b[0m\n\u001b[1;32m    893\u001b[0m     \u001b[0;32mtry\u001b[0m\u001b[0;34m:\u001b[0m\u001b[0;34m\u001b[0m\u001b[0m\n\u001b[1;32m    894\u001b[0m       result = self._run(None, fetches, feed_dict, options_ptr,\n\u001b[0;32m--> 895\u001b[0;31m                          run_metadata_ptr)\n\u001b[0m\u001b[1;32m    896\u001b[0m       \u001b[0;32mif\u001b[0m \u001b[0mrun_metadata\u001b[0m\u001b[0;34m:\u001b[0m\u001b[0;34m\u001b[0m\u001b[0m\n\u001b[1;32m    897\u001b[0m         \u001b[0mproto_data\u001b[0m \u001b[0;34m=\u001b[0m \u001b[0mtf_session\u001b[0m\u001b[0;34m.\u001b[0m\u001b[0mTF_GetBuffer\u001b[0m\u001b[0;34m(\u001b[0m\u001b[0mrun_metadata_ptr\u001b[0m\u001b[0;34m)\u001b[0m\u001b[0;34m\u001b[0m\u001b[0m\n",
      "\u001b[0;32m/usr/local/lib/python3.6/dist-packages/tensorflow/python/client/session.py\u001b[0m in \u001b[0;36m_run\u001b[0;34m(self, handle, fetches, feed_dict, options, run_metadata)\u001b[0m\n\u001b[1;32m   1122\u001b[0m     \u001b[0;32mif\u001b[0m \u001b[0mfinal_fetches\u001b[0m \u001b[0;32mor\u001b[0m \u001b[0mfinal_targets\u001b[0m \u001b[0;32mor\u001b[0m \u001b[0;34m(\u001b[0m\u001b[0mhandle\u001b[0m \u001b[0;32mand\u001b[0m \u001b[0mfeed_dict_tensor\u001b[0m\u001b[0;34m)\u001b[0m\u001b[0;34m:\u001b[0m\u001b[0;34m\u001b[0m\u001b[0m\n\u001b[1;32m   1123\u001b[0m       results = self._do_run(handle, final_targets, final_fetches,\n\u001b[0;32m-> 1124\u001b[0;31m                              feed_dict_tensor, options, run_metadata)\n\u001b[0m\u001b[1;32m   1125\u001b[0m     \u001b[0;32melse\u001b[0m\u001b[0;34m:\u001b[0m\u001b[0;34m\u001b[0m\u001b[0m\n\u001b[1;32m   1126\u001b[0m       \u001b[0mresults\u001b[0m \u001b[0;34m=\u001b[0m \u001b[0;34m[\u001b[0m\u001b[0;34m]\u001b[0m\u001b[0;34m\u001b[0m\u001b[0m\n",
      "\u001b[0;32m/usr/local/lib/python3.6/dist-packages/tensorflow/python/client/session.py\u001b[0m in \u001b[0;36m_do_run\u001b[0;34m(self, handle, target_list, fetch_list, feed_dict, options, run_metadata)\u001b[0m\n\u001b[1;32m   1319\u001b[0m     \u001b[0;32mif\u001b[0m \u001b[0mhandle\u001b[0m \u001b[0;32mis\u001b[0m \u001b[0;32mNone\u001b[0m\u001b[0;34m:\u001b[0m\u001b[0;34m\u001b[0m\u001b[0m\n\u001b[1;32m   1320\u001b[0m       return self._do_call(_run_fn, self._session, feeds, fetches, targets,\n\u001b[0;32m-> 1321\u001b[0;31m                            options, run_metadata)\n\u001b[0m\u001b[1;32m   1322\u001b[0m     \u001b[0;32melse\u001b[0m\u001b[0;34m:\u001b[0m\u001b[0;34m\u001b[0m\u001b[0m\n\u001b[1;32m   1323\u001b[0m       \u001b[0;32mreturn\u001b[0m \u001b[0mself\u001b[0m\u001b[0;34m.\u001b[0m\u001b[0m_do_call\u001b[0m\u001b[0;34m(\u001b[0m\u001b[0m_prun_fn\u001b[0m\u001b[0;34m,\u001b[0m \u001b[0mself\u001b[0m\u001b[0;34m.\u001b[0m\u001b[0m_session\u001b[0m\u001b[0;34m,\u001b[0m \u001b[0mhandle\u001b[0m\u001b[0;34m,\u001b[0m \u001b[0mfeeds\u001b[0m\u001b[0;34m,\u001b[0m \u001b[0mfetches\u001b[0m\u001b[0;34m)\u001b[0m\u001b[0;34m\u001b[0m\u001b[0m\n",
      "\u001b[0;32m/usr/local/lib/python3.6/dist-packages/tensorflow/python/client/session.py\u001b[0m in \u001b[0;36m_do_call\u001b[0;34m(self, fn, *args)\u001b[0m\n\u001b[1;32m   1325\u001b[0m   \u001b[0;32mdef\u001b[0m \u001b[0m_do_call\u001b[0m\u001b[0;34m(\u001b[0m\u001b[0mself\u001b[0m\u001b[0;34m,\u001b[0m \u001b[0mfn\u001b[0m\u001b[0;34m,\u001b[0m \u001b[0;34m*\u001b[0m\u001b[0margs\u001b[0m\u001b[0;34m)\u001b[0m\u001b[0;34m:\u001b[0m\u001b[0;34m\u001b[0m\u001b[0m\n\u001b[1;32m   1326\u001b[0m     \u001b[0;32mtry\u001b[0m\u001b[0;34m:\u001b[0m\u001b[0;34m\u001b[0m\u001b[0m\n\u001b[0;32m-> 1327\u001b[0;31m       \u001b[0;32mreturn\u001b[0m \u001b[0mfn\u001b[0m\u001b[0;34m(\u001b[0m\u001b[0;34m*\u001b[0m\u001b[0margs\u001b[0m\u001b[0;34m)\u001b[0m\u001b[0;34m\u001b[0m\u001b[0m\n\u001b[0m\u001b[1;32m   1328\u001b[0m     \u001b[0;32mexcept\u001b[0m \u001b[0merrors\u001b[0m\u001b[0;34m.\u001b[0m\u001b[0mOpError\u001b[0m \u001b[0;32mas\u001b[0m \u001b[0me\u001b[0m\u001b[0;34m:\u001b[0m\u001b[0;34m\u001b[0m\u001b[0m\n\u001b[1;32m   1329\u001b[0m       \u001b[0mmessage\u001b[0m \u001b[0;34m=\u001b[0m \u001b[0mcompat\u001b[0m\u001b[0;34m.\u001b[0m\u001b[0mas_text\u001b[0m\u001b[0;34m(\u001b[0m\u001b[0me\u001b[0m\u001b[0;34m.\u001b[0m\u001b[0mmessage\u001b[0m\u001b[0;34m)\u001b[0m\u001b[0;34m\u001b[0m\u001b[0m\n",
      "\u001b[0;32m/usr/local/lib/python3.6/dist-packages/tensorflow/python/client/session.py\u001b[0m in \u001b[0;36m_run_fn\u001b[0;34m(session, feed_dict, fetch_list, target_list, options, run_metadata)\u001b[0m\n\u001b[1;32m   1304\u001b[0m           return tf_session.TF_Run(session, options,\n\u001b[1;32m   1305\u001b[0m                                    \u001b[0mfeed_dict\u001b[0m\u001b[0;34m,\u001b[0m \u001b[0mfetch_list\u001b[0m\u001b[0;34m,\u001b[0m \u001b[0mtarget_list\u001b[0m\u001b[0;34m,\u001b[0m\u001b[0;34m\u001b[0m\u001b[0m\n\u001b[0;32m-> 1306\u001b[0;31m                                    status, run_metadata)\n\u001b[0m\u001b[1;32m   1307\u001b[0m \u001b[0;34m\u001b[0m\u001b[0m\n\u001b[1;32m   1308\u001b[0m     \u001b[0;32mdef\u001b[0m \u001b[0m_prun_fn\u001b[0m\u001b[0;34m(\u001b[0m\u001b[0msession\u001b[0m\u001b[0;34m,\u001b[0m \u001b[0mhandle\u001b[0m\u001b[0;34m,\u001b[0m \u001b[0mfeed_dict\u001b[0m\u001b[0;34m,\u001b[0m \u001b[0mfetch_list\u001b[0m\u001b[0;34m)\u001b[0m\u001b[0;34m:\u001b[0m\u001b[0;34m\u001b[0m\u001b[0m\n",
      "\u001b[0;31mKeyboardInterrupt\u001b[0m: "
     ]
    }
   ],
   "source": [
    "s = [200, 100]\n",
    "acc1, acc2 = compute_accuracy(sizes=s, epoches=20, alpha=0.0, cross_valid=True)\n",
    "print(\"Train and test accuracity with sizes =\", s, \"\\ntrain =\", acc1, \"\\ttest =\", acc2, \"\\n\")\n",
    "\n",
    "s = [200, 100]\n",
    "acc1, acc2 = compute_accuracy(sizes=s, epoches=20, alpha=0.05, cross_valid=True)\n",
    "print(\"Train and test accuracity with sizes =\", s, \"\\ntrain =\", acc1, \"\\ttest =\", acc2, \"\\n\")\n",
    "\n",
    "s = [200, 100]\n",
    "acc1, acc2 = compute_accuracy(sizes=s, epoches=20, alpha=0.1, cross_valid=True)\n",
    "print(\"Train and test accuracity with sizes =\", s, \"\\ntrain =\", acc1, \"\\ttest =\", acc2, \"\\n\")\n",
    "\n",
    "s = [200, 100]\n",
    "acc1, acc2 = compute_accuracy(sizes=s, epoches=20, alpha=0.15, cross_valid=True)\n",
    "print(\"Train and test accuracity with sizes =\", s, \"\\ntrain =\", acc1, \"\\ttest =\", acc2, \"\\n\")\n",
    "\n",
    "s = [200, 100]\n",
    "acc1, acc2 = compute_accuracy(sizes=s, epoches=20, alpha=0.2, cross_valid=True)\n",
    "print(\"Train and test accuracity with sizes =\", s, \"\\ntrain =\", acc1, \"\\ttest =\", acc2, \"\\n\")\n",
    "\n",
    "s = [200, 100]\n",
    "acc1, acc2 = compute_accuracy(sizes=s, epoches=20, alpha=0.25, cross_valid=True)\n",
    "print(\"Train and test accuracity with sizes =\", s, \"\\ntrain =\", acc1, \"\\ttest =\", acc2, \"\\n\")"
   ]
  },
  {
   "cell_type": "code",
   "execution_count": null,
   "metadata": {},
   "outputs": [],
   "source": []
  },
  {
   "cell_type": "markdown",
   "metadata": {},
   "source": [
    "### 4. Autoencoders\n",
    "An autoencoder is an network used for unsupervised learning of efficient codings. The aim of an autoencoder is to learn a representation (encoding) for a set of data, typically for the purpose of dimensionality reduction. Also, this technique can be used to train deep nets.\n",
    "\n",
    "Architecturally, the simplest form of an autoencoder is a feedforward net very similar to the multilayer perceptron (MLP), but with the output layer having the same number of nodes as the input layer, and with the purpose of reconstructing its own inputs. Therefore, autoencoders are unsupervised learning models. An autoencoder always consists of two parts, the encoder and the decoder. Encoder returns latent representation of the object (compressed representation, usuallu smaller dimension), but decoder restores object from this latent representation. Autoencoders are also trained to minimise reconstruction errors (e.g. MSE).\n",
    "\n",
    "Various techniques exist to prevent autoencoders from learning the identity and to improve their ability to capture important information:\n",
    "1. Denoising autoencoder - take a partially corrupted input.\n",
    "2. Sparse autoencoder - impose sparsity on the hidden units during training (whilst having a larger number of hidden units than inputs).\n",
    "3. Variational autoencoder models inherit autoencoder architecture, but make strong assumptions concerning the distribution of latent variables.\n",
    "4. Contractive autoencoder - add an explicit regularizer in objective function that forces the model to learn a function that is robust to slight variations of input values.\n",
    "\n",
    "#### Exercises\n",
    "1. Train 2 layers autoencoder that compressed mnist images to $\\mathbb{R}^3$ space.\n",
    "2. For each digit plot several samples in 3D axis (use \"%matplotlib notebook\" mode or plotly). How do digits group?\n",
    "3. Train autoencoder with more layers. What are results?\n",
    "4. Use autoencoder to pretrain 2 layers (unsupervised) and then train the following layers with supervised method."
   ]
  },
  {
   "cell_type": "code",
   "execution_count": null,
   "metadata": {},
   "outputs": [],
   "source": [
    "def autoincoder(sizes=[784], nonlinearity=\"leakyrelu\", alpha=0.1, lambda1 = 0.0, lambda2 = 0.0,\n",
    "                     grad_speed=0.5, epoches=5, batch_size=64, parts=5, cross_valid=False):\n",
    "    tf.get_variable_scope().reuse_variables()\n",
    "    tf.reset_default_graph()\n",
    "    if sizes[0] != 784:\n",
    "        sizes.insert(0, 784)\n",
    "\n",
    "    n = len(sizes)\n",
    "\n",
    "    activation = 0\n",
    "    if nonlinearity == \"sigmoid\":\n",
    "        activation = tf.nn.sigmoid\n",
    "    elif nonlinearity == \"relu\":\n",
    "        activation = tf.nn.relu\n",
    "    elif nonlinearity == \"leakyrelu\":\n",
    "        def leaky_relu(features):\n",
    "            return tf.nn.relu(features) - alpha * tf.nn.relu(features)\n",
    "        activation = leaky_relu\n",
    "    else:\n",
    "        raise RuntimeError(\"I don't know this function\")\n",
    "\n",
    "    x = tf.placeholder(tf.float32, shape=[None, 784], name=\"data\")\n",
    "\n",
    "    x_interim = list()\n",
    "    x_interim.append(x)\n",
    "    for i in range(1, n - 1):\n",
    "        x_interim.append(tf.layers.dense(inputs=x_interim[i - 1],\n",
    "                                         units=sizes[i],\n",
    "                                         activation=activation,\n",
    "                                         use_bias=True,\n",
    "                                         kernel_regularizer=tf.contrib.layers.l1_l2_regularizer(scale_l1=lambda1,\n",
    "                                                                                               scale_l2=lambda2\n",
    "                                                                                              ),\n",
    "                                         name=\"x\" + str(i)\n",
    "                                        )\n",
    "                        )\n",
    "\n",
    "    for i in range(1, n - 1):\n",
    "        x_interim.append(tf.layers.dense(inputs=x_interim[i - 1],\n",
    "                                         units=sizes[i],\n",
    "                                         activation=activation,\n",
    "                                         use_bias=True,\n",
    "                                         kernel_regularizer=tf.contrib.layers.l1_l2_regularizer(scale_l1=lambda1,\n",
    "                                                                                               scale_l2=lambda2\n",
    "                                                                                              ),\n",
    "                                         name=\"x\" + str(i)\n",
    "                                        )\n",
    "                        )\n",
    "\n",
    "    y = tf.layers.dense(inputs=x_interim[-1],\n",
    "                       units=sizes[-1],\n",
    "                       use_bias=True,\n",
    "                       kernel_regularizer=tf.contrib.layers.l1_l2_regularizer(scale_l1=lambda1,\n",
    "                                                                              scale_l2=lambda2\n",
    "                                                                             ),\n",
    "                        name=\"y\"\n",
    "                      )\n",
    "\n",
    "    cross_entropy = tf.reduce_mean(tf.nn.sparse_softmax_cross_entropy_with_logits(labels=y_labels, logits=y)) \\\n",
    "                    + tf.losses.get_regularization_loss()\n",
    "\n",
    "    train_step = tf.train.GradientDescentOptimizer(grad_speed).minimize(cross_entropy)\n",
    "\n",
    "    correct_prediction = tf.equal(tf.argmax(y, 1, output_type=tf.int32), y_labels)\n",
    "    accuracy = tf.reduce_mean(tf.cast(correct_prediction, tf.float32))\n",
    "\n",
    "    acc_train = 0.0\n",
    "    acc_test = 0.0\n",
    "    with tf.Session() as sess:\n",
    "        writer = tf.summary.FileWriter(\"/tmp/log/tensorflow/lab-2\", sess.graph)\n",
    "        for X_train, Y_train, X_test, Y_test in cross_validation(data, labels, parts, cross_valid=cross_valid):\n",
    "            sess.run(tf.global_variables_initializer())\n",
    "            for i in range(epoches):\n",
    "                for batch_x, batch_y in next_batch(X_train, Y_train, batch_size):\n",
    "                    sess.run(train_step, feed_dict={x: batch_x, y_labels: batch_y})\n",
    "\n",
    "            acc_train += sess.run(accuracy, feed_dict={x: X_train, y_labels: Y_train})\n",
    "            acc_test += sess.run(accuracy, feed_dict={x: X_test, y_labels: Y_test})\n",
    "\n",
    "        if (cross_valid):\n",
    "            acc_train /= parts\n",
    "            acc_test /= parts\n",
    "        writer.close()\n",
    "    return acc_train, acc_test"
   ]
  }
 ],
 "metadata": {
  "kernelspec": {
   "display_name": "Python 3",
   "language": "python",
   "name": "python3"
  },
  "language_info": {
   "codemirror_mode": {
    "name": "ipython",
    "version": 3
   },
   "file_extension": ".py",
   "mimetype": "text/x-python",
   "name": "python",
   "nbconvert_exporter": "python",
   "pygments_lexer": "ipython3",
   "version": "3.6.3"
  }
 },
 "nbformat": 4,
 "nbformat_minor": 1
}
